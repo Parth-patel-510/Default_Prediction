{
 "cells": [
  {
   "cell_type": "code",
   "execution_count": 1,
   "metadata": {},
   "outputs": [],
   "source": [
    "import numpy as np\n",
    "import pandas as pd\n",
    "import matplotlib.pyplot as plt\n",
    "import seaborn as sns\n",
    "import warnings\n",
    "warnings.filterwarnings('ignore')"
   ]
  },
  {
   "cell_type": "markdown",
   "metadata": {},
   "source": [
    "<b> Loading the train and test dataset."
   ]
  },
  {
   "cell_type": "code",
   "execution_count": 2,
   "metadata": {},
   "outputs": [],
   "source": [
    "train= pd.read_csv('Train_Dataset.csv')\n",
    "test= pd.read_csv('Test_Dataset.csv')"
   ]
  },
  {
   "cell_type": "markdown",
   "metadata": {},
   "source": [
    "<b> Train Dataset"
   ]
  },
  {
   "cell_type": "code",
   "execution_count": 3,
   "metadata": {},
   "outputs": [
    {
     "name": "stdout",
     "output_type": "stream",
     "text": [
      "Training data shape:  (121856, 40)\n"
     ]
    },
    {
     "data": {
      "text/html": [
       "<div>\n",
       "<style scoped>\n",
       "    .dataframe tbody tr th:only-of-type {\n",
       "        vertical-align: middle;\n",
       "    }\n",
       "\n",
       "    .dataframe tbody tr th {\n",
       "        vertical-align: top;\n",
       "    }\n",
       "\n",
       "    .dataframe thead th {\n",
       "        text-align: right;\n",
       "    }\n",
       "</style>\n",
       "<table border=\"1\" class=\"dataframe\">\n",
       "  <thead>\n",
       "    <tr style=\"text-align: right;\">\n",
       "      <th></th>\n",
       "      <th>ID</th>\n",
       "      <th>Client_Income</th>\n",
       "      <th>Car_Owned</th>\n",
       "      <th>Bike_Owned</th>\n",
       "      <th>Active_Loan</th>\n",
       "      <th>House_Own</th>\n",
       "      <th>Child_Count</th>\n",
       "      <th>Credit_Amount</th>\n",
       "      <th>Loan_Annuity</th>\n",
       "      <th>Accompany_Client</th>\n",
       "      <th>...</th>\n",
       "      <th>Client_Permanent_Match_Tag</th>\n",
       "      <th>Client_Contact_Work_Tag</th>\n",
       "      <th>Type_Organization</th>\n",
       "      <th>Score_Source_1</th>\n",
       "      <th>Score_Source_2</th>\n",
       "      <th>Score_Source_3</th>\n",
       "      <th>Social_Circle_Default</th>\n",
       "      <th>Phone_Change</th>\n",
       "      <th>Credit_Bureau</th>\n",
       "      <th>Default</th>\n",
       "    </tr>\n",
       "  </thead>\n",
       "  <tbody>\n",
       "    <tr>\n",
       "      <th>0</th>\n",
       "      <td>12142509</td>\n",
       "      <td>6750</td>\n",
       "      <td>0.0</td>\n",
       "      <td>0.0</td>\n",
       "      <td>1.0</td>\n",
       "      <td>0.0</td>\n",
       "      <td>0.0</td>\n",
       "      <td>61190.55</td>\n",
       "      <td>3416.85</td>\n",
       "      <td>Alone</td>\n",
       "      <td>...</td>\n",
       "      <td>Yes</td>\n",
       "      <td>Yes</td>\n",
       "      <td>Self-employed</td>\n",
       "      <td>0.568066</td>\n",
       "      <td>0.478787</td>\n",
       "      <td>NaN</td>\n",
       "      <td>0.0186</td>\n",
       "      <td>63.0</td>\n",
       "      <td>NaN</td>\n",
       "      <td>0</td>\n",
       "    </tr>\n",
       "    <tr>\n",
       "      <th>1</th>\n",
       "      <td>12138936</td>\n",
       "      <td>20250</td>\n",
       "      <td>1.0</td>\n",
       "      <td>0.0</td>\n",
       "      <td>1.0</td>\n",
       "      <td>NaN</td>\n",
       "      <td>0.0</td>\n",
       "      <td>15282</td>\n",
       "      <td>1826.55</td>\n",
       "      <td>Alone</td>\n",
       "      <td>...</td>\n",
       "      <td>Yes</td>\n",
       "      <td>Yes</td>\n",
       "      <td>Government</td>\n",
       "      <td>0.563360</td>\n",
       "      <td>0.215068</td>\n",
       "      <td>NaN</td>\n",
       "      <td>NaN</td>\n",
       "      <td>NaN</td>\n",
       "      <td>NaN</td>\n",
       "      <td>0</td>\n",
       "    </tr>\n",
       "    <tr>\n",
       "      <th>2</th>\n",
       "      <td>12181264</td>\n",
       "      <td>18000</td>\n",
       "      <td>0.0</td>\n",
       "      <td>0.0</td>\n",
       "      <td>1.0</td>\n",
       "      <td>0.0</td>\n",
       "      <td>1.0</td>\n",
       "      <td>59527.35</td>\n",
       "      <td>2788.2</td>\n",
       "      <td>Alone</td>\n",
       "      <td>...</td>\n",
       "      <td>Yes</td>\n",
       "      <td>Yes</td>\n",
       "      <td>Self-employed</td>\n",
       "      <td>NaN</td>\n",
       "      <td>0.552795</td>\n",
       "      <td>0.329655</td>\n",
       "      <td>0.0742</td>\n",
       "      <td>277.0</td>\n",
       "      <td>0.0</td>\n",
       "      <td>0</td>\n",
       "    </tr>\n",
       "    <tr>\n",
       "      <th>3</th>\n",
       "      <td>12188929</td>\n",
       "      <td>15750</td>\n",
       "      <td>0.0</td>\n",
       "      <td>0.0</td>\n",
       "      <td>1.0</td>\n",
       "      <td>1.0</td>\n",
       "      <td>0.0</td>\n",
       "      <td>53870.4</td>\n",
       "      <td>2295.45</td>\n",
       "      <td>Alone</td>\n",
       "      <td>...</td>\n",
       "      <td>Yes</td>\n",
       "      <td>Yes</td>\n",
       "      <td>XNA</td>\n",
       "      <td>NaN</td>\n",
       "      <td>0.135182</td>\n",
       "      <td>0.631355</td>\n",
       "      <td>NaN</td>\n",
       "      <td>1700.0</td>\n",
       "      <td>3.0</td>\n",
       "      <td>0</td>\n",
       "    </tr>\n",
       "    <tr>\n",
       "      <th>4</th>\n",
       "      <td>12133385</td>\n",
       "      <td>33750</td>\n",
       "      <td>1.0</td>\n",
       "      <td>0.0</td>\n",
       "      <td>1.0</td>\n",
       "      <td>0.0</td>\n",
       "      <td>2.0</td>\n",
       "      <td>133988.4</td>\n",
       "      <td>3547.35</td>\n",
       "      <td>Alone</td>\n",
       "      <td>...</td>\n",
       "      <td>Yes</td>\n",
       "      <td>Yes</td>\n",
       "      <td>Business Entity Type 3</td>\n",
       "      <td>0.508199</td>\n",
       "      <td>0.301182</td>\n",
       "      <td>0.355639</td>\n",
       "      <td>0.2021</td>\n",
       "      <td>674.0</td>\n",
       "      <td>1.0</td>\n",
       "      <td>0</td>\n",
       "    </tr>\n",
       "    <tr>\n",
       "      <th>...</th>\n",
       "      <td>...</td>\n",
       "      <td>...</td>\n",
       "      <td>...</td>\n",
       "      <td>...</td>\n",
       "      <td>...</td>\n",
       "      <td>...</td>\n",
       "      <td>...</td>\n",
       "      <td>...</td>\n",
       "      <td>...</td>\n",
       "      <td>...</td>\n",
       "      <td>...</td>\n",
       "      <td>...</td>\n",
       "      <td>...</td>\n",
       "      <td>...</td>\n",
       "      <td>...</td>\n",
       "      <td>...</td>\n",
       "      <td>...</td>\n",
       "      <td>...</td>\n",
       "      <td>...</td>\n",
       "      <td>...</td>\n",
       "      <td>...</td>\n",
       "    </tr>\n",
       "    <tr>\n",
       "      <th>121851</th>\n",
       "      <td>12207714</td>\n",
       "      <td>29250</td>\n",
       "      <td>0.0</td>\n",
       "      <td>0.0</td>\n",
       "      <td>NaN</td>\n",
       "      <td>1.0</td>\n",
       "      <td>0.0</td>\n",
       "      <td>107820</td>\n",
       "      <td>3165.3</td>\n",
       "      <td>Relative</td>\n",
       "      <td>...</td>\n",
       "      <td>Yes</td>\n",
       "      <td>No</td>\n",
       "      <td>Business Entity Type 2</td>\n",
       "      <td>NaN</td>\n",
       "      <td>0.173527</td>\n",
       "      <td>0.184116</td>\n",
       "      <td>0.0577</td>\n",
       "      <td>0.0</td>\n",
       "      <td>1.0</td>\n",
       "      <td>1</td>\n",
       "    </tr>\n",
       "    <tr>\n",
       "      <th>121852</th>\n",
       "      <td>12173765</td>\n",
       "      <td>15750</td>\n",
       "      <td>0.0</td>\n",
       "      <td>1.0</td>\n",
       "      <td>1.0</td>\n",
       "      <td>0.0</td>\n",
       "      <td>0.0</td>\n",
       "      <td>104256</td>\n",
       "      <td>3388.05</td>\n",
       "      <td>Alone</td>\n",
       "      <td>...</td>\n",
       "      <td>Yes</td>\n",
       "      <td>Yes</td>\n",
       "      <td>Self-employed</td>\n",
       "      <td>NaN</td>\n",
       "      <td>0.371559</td>\n",
       "      <td>0.406617</td>\n",
       "      <td>0.0825</td>\n",
       "      <td>4.0</td>\n",
       "      <td>0.0</td>\n",
       "      <td>0</td>\n",
       "    </tr>\n",
       "    <tr>\n",
       "      <th>121853</th>\n",
       "      <td>12103937</td>\n",
       "      <td>8100</td>\n",
       "      <td>0.0</td>\n",
       "      <td>1.0</td>\n",
       "      <td>0.0</td>\n",
       "      <td>1.0</td>\n",
       "      <td>1.0</td>\n",
       "      <td>55107.9</td>\n",
       "      <td>2989.35</td>\n",
       "      <td>Alone</td>\n",
       "      <td>...</td>\n",
       "      <td>No</td>\n",
       "      <td>No</td>\n",
       "      <td>Trade: type 6</td>\n",
       "      <td>0.169049</td>\n",
       "      <td>0.048079</td>\n",
       "      <td>NaN</td>\n",
       "      <td>NaN</td>\n",
       "      <td>0.0</td>\n",
       "      <td>NaN</td>\n",
       "      <td>0</td>\n",
       "    </tr>\n",
       "    <tr>\n",
       "      <th>121854</th>\n",
       "      <td>12170623</td>\n",
       "      <td>38250</td>\n",
       "      <td>1.0</td>\n",
       "      <td>1.0</td>\n",
       "      <td>0.0</td>\n",
       "      <td>1.0</td>\n",
       "      <td>0.0</td>\n",
       "      <td>45000</td>\n",
       "      <td>2719.35</td>\n",
       "      <td>Alone</td>\n",
       "      <td>...</td>\n",
       "      <td>Yes</td>\n",
       "      <td>Yes</td>\n",
       "      <td>Business Entity Type 3</td>\n",
       "      <td>0.182737</td>\n",
       "      <td>0.103538</td>\n",
       "      <td>0.0774985</td>\n",
       "      <td>0.0979</td>\n",
       "      <td>0.0</td>\n",
       "      <td>2.0</td>\n",
       "      <td>0</td>\n",
       "    </tr>\n",
       "    <tr>\n",
       "      <th>121855</th>\n",
       "      <td>12105610</td>\n",
       "      <td>9000</td>\n",
       "      <td>1.0</td>\n",
       "      <td>1.0</td>\n",
       "      <td>1.0</td>\n",
       "      <td>1.0</td>\n",
       "      <td>1.0</td>\n",
       "      <td>62428.95</td>\n",
       "      <td>4201.65</td>\n",
       "      <td>Alone</td>\n",
       "      <td>...</td>\n",
       "      <td>Yes</td>\n",
       "      <td>Yes</td>\n",
       "      <td>Business Entity Type 3</td>\n",
       "      <td>NaN</td>\n",
       "      <td>0.556414</td>\n",
       "      <td>0.298595</td>\n",
       "      <td>0.1031</td>\n",
       "      <td>805.0</td>\n",
       "      <td>0.0</td>\n",
       "      <td>0</td>\n",
       "    </tr>\n",
       "  </tbody>\n",
       "</table>\n",
       "<p>121856 rows × 40 columns</p>\n",
       "</div>"
      ],
      "text/plain": [
       "              ID Client_Income  Car_Owned  Bike_Owned  Active_Loan  House_Own  \\\n",
       "0       12142509          6750        0.0         0.0          1.0        0.0   \n",
       "1       12138936         20250        1.0         0.0          1.0        NaN   \n",
       "2       12181264         18000        0.0         0.0          1.0        0.0   \n",
       "3       12188929         15750        0.0         0.0          1.0        1.0   \n",
       "4       12133385         33750        1.0         0.0          1.0        0.0   \n",
       "...          ...           ...        ...         ...          ...        ...   \n",
       "121851  12207714         29250        0.0         0.0          NaN        1.0   \n",
       "121852  12173765         15750        0.0         1.0          1.0        0.0   \n",
       "121853  12103937          8100        0.0         1.0          0.0        1.0   \n",
       "121854  12170623         38250        1.0         1.0          0.0        1.0   \n",
       "121855  12105610          9000        1.0         1.0          1.0        1.0   \n",
       "\n",
       "        Child_Count Credit_Amount Loan_Annuity Accompany_Client  ...  \\\n",
       "0               0.0      61190.55      3416.85            Alone  ...   \n",
       "1               0.0         15282      1826.55            Alone  ...   \n",
       "2               1.0      59527.35       2788.2            Alone  ...   \n",
       "3               0.0       53870.4      2295.45            Alone  ...   \n",
       "4               2.0      133988.4      3547.35            Alone  ...   \n",
       "...             ...           ...          ...              ...  ...   \n",
       "121851          0.0        107820       3165.3         Relative  ...   \n",
       "121852          0.0        104256      3388.05            Alone  ...   \n",
       "121853          1.0       55107.9      2989.35            Alone  ...   \n",
       "121854          0.0         45000      2719.35            Alone  ...   \n",
       "121855          1.0      62428.95      4201.65            Alone  ...   \n",
       "\n",
       "       Client_Permanent_Match_Tag Client_Contact_Work_Tag  \\\n",
       "0                             Yes                     Yes   \n",
       "1                             Yes                     Yes   \n",
       "2                             Yes                     Yes   \n",
       "3                             Yes                     Yes   \n",
       "4                             Yes                     Yes   \n",
       "...                           ...                     ...   \n",
       "121851                        Yes                      No   \n",
       "121852                        Yes                     Yes   \n",
       "121853                         No                      No   \n",
       "121854                        Yes                     Yes   \n",
       "121855                        Yes                     Yes   \n",
       "\n",
       "             Type_Organization Score_Source_1 Score_Source_2 Score_Source_3  \\\n",
       "0                Self-employed       0.568066       0.478787            NaN   \n",
       "1                   Government       0.563360       0.215068            NaN   \n",
       "2                Self-employed            NaN       0.552795       0.329655   \n",
       "3                          XNA            NaN       0.135182       0.631355   \n",
       "4       Business Entity Type 3       0.508199       0.301182       0.355639   \n",
       "...                        ...            ...            ...            ...   \n",
       "121851  Business Entity Type 2            NaN       0.173527       0.184116   \n",
       "121852           Self-employed            NaN       0.371559       0.406617   \n",
       "121853           Trade: type 6       0.169049       0.048079            NaN   \n",
       "121854  Business Entity Type 3       0.182737       0.103538      0.0774985   \n",
       "121855  Business Entity Type 3            NaN       0.556414       0.298595   \n",
       "\n",
       "       Social_Circle_Default Phone_Change Credit_Bureau Default  \n",
       "0                     0.0186         63.0           NaN       0  \n",
       "1                        NaN          NaN           NaN       0  \n",
       "2                     0.0742        277.0           0.0       0  \n",
       "3                        NaN       1700.0           3.0       0  \n",
       "4                     0.2021        674.0           1.0       0  \n",
       "...                      ...          ...           ...     ...  \n",
       "121851                0.0577          0.0           1.0       1  \n",
       "121852                0.0825          4.0           0.0       0  \n",
       "121853                   NaN          0.0           NaN       0  \n",
       "121854                0.0979          0.0           2.0       0  \n",
       "121855                0.1031        805.0           0.0       0  \n",
       "\n",
       "[121856 rows x 40 columns]"
      ]
     },
     "execution_count": 3,
     "metadata": {},
     "output_type": "execute_result"
    }
   ],
   "source": [
    "print('Training data shape: ', train.shape)\n",
    "train"
   ]
  },
  {
   "cell_type": "code",
   "execution_count": 4,
   "metadata": {},
   "outputs": [
    {
     "name": "stdout",
     "output_type": "stream",
     "text": [
      "<class 'pandas.core.frame.DataFrame'>\n",
      "RangeIndex: 121856 entries, 0 to 121855\n",
      "Data columns (total 40 columns):\n",
      " #   Column                      Non-Null Count   Dtype  \n",
      "---  ------                      --------------   -----  \n",
      " 0   ID                          121856 non-null  int64  \n",
      " 1   Client_Income               118249 non-null  object \n",
      " 2   Car_Owned                   118275 non-null  float64\n",
      " 3   Bike_Owned                  118232 non-null  float64\n",
      " 4   Active_Loan                 118221 non-null  float64\n",
      " 5   House_Own                   118195 non-null  float64\n",
      " 6   Child_Count                 118218 non-null  float64\n",
      " 7   Credit_Amount               118224 non-null  object \n",
      " 8   Loan_Annuity                117044 non-null  object \n",
      " 9   Accompany_Client            120110 non-null  object \n",
      " 10  Client_Income_Type          118155 non-null  object \n",
      " 11  Client_Education            118211 non-null  object \n",
      " 12  Client_Marital_Status       118383 non-null  object \n",
      " 13  Client_Gender               119443 non-null  object \n",
      " 14  Loan_Contract_Type          118205 non-null  object \n",
      " 15  Client_Housing_Type         118169 non-null  object \n",
      " 16  Population_Region_Relative  116999 non-null  object \n",
      " 17  Age_Days                    118256 non-null  object \n",
      " 18  Employed_Days               118207 non-null  object \n",
      " 19  Registration_Days           118242 non-null  object \n",
      " 20  ID_Days                     115888 non-null  object \n",
      " 21  Own_House_Age               41761 non-null   float64\n",
      " 22  Mobile_Tag                  121856 non-null  int64  \n",
      " 23  Homephone_Tag               121856 non-null  int64  \n",
      " 24  Workphone_Working           121856 non-null  int64  \n",
      " 25  Client_Occupation           80421 non-null   object \n",
      " 26  Client_Family_Members       119446 non-null  float64\n",
      " 27  Cleint_City_Rating          119447 non-null  float64\n",
      " 28  Application_Process_Day     119428 non-null  float64\n",
      " 29  Application_Process_Hour    118193 non-null  float64\n",
      " 30  Client_Permanent_Match_Tag  121856 non-null  object \n",
      " 31  Client_Contact_Work_Tag     121856 non-null  object \n",
      " 32  Type_Organization           118247 non-null  object \n",
      " 33  Score_Source_1              53021 non-null   float64\n",
      " 34  Score_Source_2              116170 non-null  float64\n",
      " 35  Score_Source_3              94935 non-null   object \n",
      " 36  Social_Circle_Default       59928 non-null   float64\n",
      " 37  Phone_Change                118192 non-null  float64\n",
      " 38  Credit_Bureau               103316 non-null  float64\n",
      " 39  Default                     121856 non-null  int64  \n",
      "dtypes: float64(15), int64(5), object(20)\n",
      "memory usage: 37.2+ MB\n"
     ]
    }
   ],
   "source": [
    "train.info()"
   ]
  },
  {
   "cell_type": "markdown",
   "metadata": {},
   "source": [
    "<b> Test Dataset"
   ]
  },
  {
   "cell_type": "code",
   "execution_count": 5,
   "metadata": {},
   "outputs": [
    {
     "name": "stdout",
     "output_type": "stream",
     "text": [
      "Testing data shape:  (80900, 39)\n"
     ]
    },
    {
     "data": {
      "text/html": [
       "<div>\n",
       "<style scoped>\n",
       "    .dataframe tbody tr th:only-of-type {\n",
       "        vertical-align: middle;\n",
       "    }\n",
       "\n",
       "    .dataframe tbody tr th {\n",
       "        vertical-align: top;\n",
       "    }\n",
       "\n",
       "    .dataframe thead th {\n",
       "        text-align: right;\n",
       "    }\n",
       "</style>\n",
       "<table border=\"1\" class=\"dataframe\">\n",
       "  <thead>\n",
       "    <tr style=\"text-align: right;\">\n",
       "      <th></th>\n",
       "      <th>ID</th>\n",
       "      <th>Client_Income</th>\n",
       "      <th>Car_Owned</th>\n",
       "      <th>Bike_Owned</th>\n",
       "      <th>Active_Loan</th>\n",
       "      <th>House_Own</th>\n",
       "      <th>Child_Count</th>\n",
       "      <th>Credit_Amount</th>\n",
       "      <th>Loan_Annuity</th>\n",
       "      <th>Accompany_Client</th>\n",
       "      <th>...</th>\n",
       "      <th>Application_Process_Hour</th>\n",
       "      <th>Client_Permanent_Match_Tag</th>\n",
       "      <th>Client_Contact_Work_Tag</th>\n",
       "      <th>Type_Organization</th>\n",
       "      <th>Score_Source_1</th>\n",
       "      <th>Score_Source_2</th>\n",
       "      <th>Score_Source_3</th>\n",
       "      <th>Social_Circle_Default</th>\n",
       "      <th>Phone_Change</th>\n",
       "      <th>Credit_Bureau</th>\n",
       "    </tr>\n",
       "  </thead>\n",
       "  <tbody>\n",
       "    <tr>\n",
       "      <th>0</th>\n",
       "      <td>12202227</td>\n",
       "      <td>11250</td>\n",
       "      <td>0.0</td>\n",
       "      <td>1.0</td>\n",
       "      <td>1.0</td>\n",
       "      <td>1.0</td>\n",
       "      <td>0.0</td>\n",
       "      <td>112500</td>\n",
       "      <td>4474.8</td>\n",
       "      <td>Relative</td>\n",
       "      <td>...</td>\n",
       "      <td>16.0</td>\n",
       "      <td>Yes</td>\n",
       "      <td>Yes</td>\n",
       "      <td>Self-employed</td>\n",
       "      <td>NaN</td>\n",
       "      <td>0.757151</td>\n",
       "      <td>0.629674</td>\n",
       "      <td>0.0515</td>\n",
       "      <td>716.0</td>\n",
       "      <td>2.0</td>\n",
       "    </tr>\n",
       "    <tr>\n",
       "      <th>1</th>\n",
       "      <td>12279381</td>\n",
       "      <td>13500</td>\n",
       "      <td>1.0</td>\n",
       "      <td>1.0</td>\n",
       "      <td>1.0</td>\n",
       "      <td>1.0</td>\n",
       "      <td>3.0</td>\n",
       "      <td>49752</td>\n",
       "      <td>3252.15</td>\n",
       "      <td>Alone</td>\n",
       "      <td>...</td>\n",
       "      <td>18.0</td>\n",
       "      <td>No</td>\n",
       "      <td>Yes</td>\n",
       "      <td>Self-employed</td>\n",
       "      <td>NaN</td>\n",
       "      <td>0.342269</td>\n",
       "      <td>NaN</td>\n",
       "      <td>NaN</td>\n",
       "      <td>181.0</td>\n",
       "      <td>NaN</td>\n",
       "    </tr>\n",
       "    <tr>\n",
       "      <th>2</th>\n",
       "      <td>12222714</td>\n",
       "      <td>38250</td>\n",
       "      <td>0.0</td>\n",
       "      <td>1.0</td>\n",
       "      <td>0.0</td>\n",
       "      <td>1.0</td>\n",
       "      <td>0.0</td>\n",
       "      <td>67500</td>\n",
       "      <td>3375</td>\n",
       "      <td>Alone</td>\n",
       "      <td>...</td>\n",
       "      <td>19.0</td>\n",
       "      <td>Yes</td>\n",
       "      <td>Yes</td>\n",
       "      <td>Business Entity Type 3</td>\n",
       "      <td>NaN</td>\n",
       "      <td>0.683665</td>\n",
       "      <td>NaN</td>\n",
       "      <td>0.1503</td>\n",
       "      <td>281.0</td>\n",
       "      <td>NaN</td>\n",
       "    </tr>\n",
       "    <tr>\n",
       "      <th>3</th>\n",
       "      <td>12265215</td>\n",
       "      <td>20250</td>\n",
       "      <td>0.0</td>\n",
       "      <td>0.0</td>\n",
       "      <td>1.0</td>\n",
       "      <td>0.0</td>\n",
       "      <td>0.0</td>\n",
       "      <td>50849.55</td>\n",
       "      <td>3814.65</td>\n",
       "      <td>Alone</td>\n",
       "      <td>...</td>\n",
       "      <td>20.0</td>\n",
       "      <td>No</td>\n",
       "      <td>No</td>\n",
       "      <td>Medicine</td>\n",
       "      <td>0.351581</td>\n",
       "      <td>0.22995</td>\n",
       "      <td>0.672243</td>\n",
       "      <td>NaN</td>\n",
       "      <td>1442.0</td>\n",
       "      <td>4.0</td>\n",
       "    </tr>\n",
       "    <tr>\n",
       "      <th>4</th>\n",
       "      <td>12203970</td>\n",
       "      <td>13500</td>\n",
       "      <td>1.0</td>\n",
       "      <td>1.0</td>\n",
       "      <td>0.0</td>\n",
       "      <td>1.0</td>\n",
       "      <td>0.0</td>\n",
       "      <td>43603.2</td>\n",
       "      <td>2515.95</td>\n",
       "      <td>Alone</td>\n",
       "      <td>...</td>\n",
       "      <td>13.0</td>\n",
       "      <td>Yes</td>\n",
       "      <td>Yes</td>\n",
       "      <td>Self-employed</td>\n",
       "      <td>0.731110</td>\n",
       "      <td>0.566971</td>\n",
       "      <td>0.730987</td>\n",
       "      <td>NaN</td>\n",
       "      <td>927.0</td>\n",
       "      <td>1.0</td>\n",
       "    </tr>\n",
       "    <tr>\n",
       "      <th>...</th>\n",
       "      <td>...</td>\n",
       "      <td>...</td>\n",
       "      <td>...</td>\n",
       "      <td>...</td>\n",
       "      <td>...</td>\n",
       "      <td>...</td>\n",
       "      <td>...</td>\n",
       "      <td>...</td>\n",
       "      <td>...</td>\n",
       "      <td>...</td>\n",
       "      <td>...</td>\n",
       "      <td>...</td>\n",
       "      <td>...</td>\n",
       "      <td>...</td>\n",
       "      <td>...</td>\n",
       "      <td>...</td>\n",
       "      <td>...</td>\n",
       "      <td>...</td>\n",
       "      <td>...</td>\n",
       "      <td>...</td>\n",
       "      <td>...</td>\n",
       "    </tr>\n",
       "    <tr>\n",
       "      <th>80895</th>\n",
       "      <td>12210181</td>\n",
       "      <td>11700</td>\n",
       "      <td>0.0</td>\n",
       "      <td>0.0</td>\n",
       "      <td>0.0</td>\n",
       "      <td>1.0</td>\n",
       "      <td>2.0</td>\n",
       "      <td>107820</td>\n",
       "      <td>3152.25</td>\n",
       "      <td>Alone</td>\n",
       "      <td>...</td>\n",
       "      <td>9.0</td>\n",
       "      <td>Yes</td>\n",
       "      <td>No</td>\n",
       "      <td>Self-employed</td>\n",
       "      <td>0.495015</td>\n",
       "      <td>0.599436</td>\n",
       "      <td>0.276440695</td>\n",
       "      <td>NaN</td>\n",
       "      <td>537.0</td>\n",
       "      <td>1.0</td>\n",
       "    </tr>\n",
       "    <tr>\n",
       "      <th>80896</th>\n",
       "      <td>12206257</td>\n",
       "      <td>29250</td>\n",
       "      <td>0.0</td>\n",
       "      <td>1.0</td>\n",
       "      <td>1.0</td>\n",
       "      <td>1.0</td>\n",
       "      <td>2.0</td>\n",
       "      <td>116430.75</td>\n",
       "      <td>4630.5</td>\n",
       "      <td>Alone</td>\n",
       "      <td>...</td>\n",
       "      <td>15.0</td>\n",
       "      <td>Yes</td>\n",
       "      <td>Yes</td>\n",
       "      <td>Kindergarten</td>\n",
       "      <td>0.803057</td>\n",
       "      <td>NaN</td>\n",
       "      <td>0.680138822</td>\n",
       "      <td>0.1072</td>\n",
       "      <td>316.0</td>\n",
       "      <td>0.0</td>\n",
       "    </tr>\n",
       "    <tr>\n",
       "      <th>80897</th>\n",
       "      <td>12200446</td>\n",
       "      <td>54000</td>\n",
       "      <td>1.0</td>\n",
       "      <td>0.0</td>\n",
       "      <td>1.0</td>\n",
       "      <td>1.0</td>\n",
       "      <td>0.0</td>\n",
       "      <td>52128</td>\n",
       "      <td>2742.3</td>\n",
       "      <td>Alone</td>\n",
       "      <td>...</td>\n",
       "      <td>14.0</td>\n",
       "      <td>Yes</td>\n",
       "      <td>No</td>\n",
       "      <td>Self-employed</td>\n",
       "      <td>NaN</td>\n",
       "      <td>0.403059</td>\n",
       "      <td>0.215182404</td>\n",
       "      <td>NaN</td>\n",
       "      <td>426.0</td>\n",
       "      <td>0.0</td>\n",
       "    </tr>\n",
       "    <tr>\n",
       "      <th>80898</th>\n",
       "      <td>12244943</td>\n",
       "      <td>13500</td>\n",
       "      <td>0.0</td>\n",
       "      <td>0.0</td>\n",
       "      <td>1.0</td>\n",
       "      <td>0.0</td>\n",
       "      <td>0.0</td>\n",
       "      <td>25470</td>\n",
       "      <td>1435.05</td>\n",
       "      <td>Alone</td>\n",
       "      <td>...</td>\n",
       "      <td>5.0</td>\n",
       "      <td>Yes</td>\n",
       "      <td>Yes</td>\n",
       "      <td>Industry: type 9</td>\n",
       "      <td>NaN</td>\n",
       "      <td>0.236402</td>\n",
       "      <td>0.579727423</td>\n",
       "      <td>0.1392</td>\n",
       "      <td>1186.0</td>\n",
       "      <td>2.0</td>\n",
       "    </tr>\n",
       "    <tr>\n",
       "      <th>80899</th>\n",
       "      <td>12229890</td>\n",
       "      <td>10350</td>\n",
       "      <td>1.0</td>\n",
       "      <td>0.0</td>\n",
       "      <td>0.0</td>\n",
       "      <td>0.0</td>\n",
       "      <td>1.0</td>\n",
       "      <td>26955</td>\n",
       "      <td>1475.1</td>\n",
       "      <td>Alone</td>\n",
       "      <td>...</td>\n",
       "      <td>9.0</td>\n",
       "      <td>Yes</td>\n",
       "      <td>Yes</td>\n",
       "      <td>Business Entity Type 2</td>\n",
       "      <td>0.127368</td>\n",
       "      <td>0.442904</td>\n",
       "      <td>0.456109739</td>\n",
       "      <td>0.1206</td>\n",
       "      <td>1056.0</td>\n",
       "      <td>1.0</td>\n",
       "    </tr>\n",
       "  </tbody>\n",
       "</table>\n",
       "<p>80900 rows × 39 columns</p>\n",
       "</div>"
      ],
      "text/plain": [
       "             ID Client_Income  Car_Owned  Bike_Owned  Active_Loan  House_Own  \\\n",
       "0      12202227         11250        0.0         1.0          1.0        1.0   \n",
       "1      12279381         13500        1.0         1.0          1.0        1.0   \n",
       "2      12222714         38250        0.0         1.0          0.0        1.0   \n",
       "3      12265215         20250        0.0         0.0          1.0        0.0   \n",
       "4      12203970         13500        1.0         1.0          0.0        1.0   \n",
       "...         ...           ...        ...         ...          ...        ...   \n",
       "80895  12210181         11700        0.0         0.0          0.0        1.0   \n",
       "80896  12206257         29250        0.0         1.0          1.0        1.0   \n",
       "80897  12200446         54000        1.0         0.0          1.0        1.0   \n",
       "80898  12244943         13500        0.0         0.0          1.0        0.0   \n",
       "80899  12229890         10350        1.0         0.0          0.0        0.0   \n",
       "\n",
       "       Child_Count Credit_Amount Loan_Annuity Accompany_Client  ...  \\\n",
       "0              0.0        112500       4474.8         Relative  ...   \n",
       "1              3.0         49752      3252.15            Alone  ...   \n",
       "2              0.0         67500         3375            Alone  ...   \n",
       "3              0.0      50849.55      3814.65            Alone  ...   \n",
       "4              0.0       43603.2      2515.95            Alone  ...   \n",
       "...            ...           ...          ...              ...  ...   \n",
       "80895          2.0        107820      3152.25            Alone  ...   \n",
       "80896          2.0     116430.75       4630.5            Alone  ...   \n",
       "80897          0.0         52128       2742.3            Alone  ...   \n",
       "80898          0.0         25470      1435.05            Alone  ...   \n",
       "80899          1.0         26955       1475.1            Alone  ...   \n",
       "\n",
       "      Application_Process_Hour Client_Permanent_Match_Tag  \\\n",
       "0                         16.0                        Yes   \n",
       "1                         18.0                         No   \n",
       "2                         19.0                        Yes   \n",
       "3                         20.0                         No   \n",
       "4                         13.0                        Yes   \n",
       "...                        ...                        ...   \n",
       "80895                      9.0                        Yes   \n",
       "80896                     15.0                        Yes   \n",
       "80897                     14.0                        Yes   \n",
       "80898                      5.0                        Yes   \n",
       "80899                      9.0                        Yes   \n",
       "\n",
       "      Client_Contact_Work_Tag       Type_Organization Score_Source_1  \\\n",
       "0                         Yes           Self-employed            NaN   \n",
       "1                         Yes           Self-employed            NaN   \n",
       "2                         Yes  Business Entity Type 3            NaN   \n",
       "3                          No                Medicine       0.351581   \n",
       "4                         Yes           Self-employed       0.731110   \n",
       "...                       ...                     ...            ...   \n",
       "80895                      No           Self-employed       0.495015   \n",
       "80896                     Yes            Kindergarten       0.803057   \n",
       "80897                      No           Self-employed            NaN   \n",
       "80898                     Yes        Industry: type 9            NaN   \n",
       "80899                     Yes  Business Entity Type 2       0.127368   \n",
       "\n",
       "      Score_Source_2 Score_Source_3 Social_Circle_Default Phone_Change  \\\n",
       "0           0.757151       0.629674                0.0515        716.0   \n",
       "1           0.342269            NaN                   NaN        181.0   \n",
       "2           0.683665            NaN                0.1503        281.0   \n",
       "3            0.22995       0.672243                   NaN       1442.0   \n",
       "4           0.566971       0.730987                   NaN        927.0   \n",
       "...              ...            ...                   ...          ...   \n",
       "80895       0.599436    0.276440695                   NaN        537.0   \n",
       "80896            NaN    0.680138822                0.1072        316.0   \n",
       "80897       0.403059    0.215182404                   NaN        426.0   \n",
       "80898       0.236402    0.579727423                0.1392       1186.0   \n",
       "80899       0.442904    0.456109739                0.1206       1056.0   \n",
       "\n",
       "      Credit_Bureau  \n",
       "0               2.0  \n",
       "1               NaN  \n",
       "2               NaN  \n",
       "3               4.0  \n",
       "4               1.0  \n",
       "...             ...  \n",
       "80895           1.0  \n",
       "80896           0.0  \n",
       "80897           0.0  \n",
       "80898           2.0  \n",
       "80899           1.0  \n",
       "\n",
       "[80900 rows x 39 columns]"
      ]
     },
     "execution_count": 5,
     "metadata": {},
     "output_type": "execute_result"
    }
   ],
   "source": [
    "print('Testing data shape: ', test.shape)\n",
    "test"
   ]
  },
  {
   "cell_type": "code",
   "execution_count": 6,
   "metadata": {},
   "outputs": [
    {
     "name": "stdout",
     "output_type": "stream",
     "text": [
      "<class 'pandas.core.frame.DataFrame'>\n",
      "RangeIndex: 80900 entries, 0 to 80899\n",
      "Data columns (total 39 columns):\n",
      " #   Column                      Non-Null Count  Dtype  \n",
      "---  ------                      --------------  -----  \n",
      " 0   ID                          80900 non-null  int64  \n",
      " 1   Client_Income               78466 non-null  object \n",
      " 2   Car_Owned                   78495 non-null  float64\n",
      " 3   Bike_Owned                  78414 non-null  float64\n",
      " 4   Active_Loan                 78446 non-null  float64\n",
      " 5   House_Own                   78553 non-null  float64\n",
      " 6   Child_Count                 78572 non-null  float64\n",
      " 7   Credit_Amount               78613 non-null  object \n",
      " 8   Loan_Annuity                77697 non-null  object \n",
      " 9   Accompany_Client            79692 non-null  object \n",
      " 10  Client_Income_Type          78399 non-null  object \n",
      " 11  Client_Education            78550 non-null  object \n",
      " 12  Client_Marital_Status       78457 non-null  object \n",
      " 13  Client_Gender               79273 non-null  object \n",
      " 14  Loan_Contract_Type          78579 non-null  object \n",
      " 15  Client_Housing_Type         78492 non-null  object \n",
      " 16  Population_Region_Relative  77630 non-null  object \n",
      " 17  Age_Days                    78421 non-null  object \n",
      " 18  Employed_Days               78479 non-null  object \n",
      " 19  Registration_Days           78502 non-null  object \n",
      " 20  ID_Days                     77019 non-null  object \n",
      " 21  Own_House_Age               27319 non-null  float64\n",
      " 22  Mobile_Tag                  80900 non-null  int64  \n",
      " 23  Homephone_Tag               80900 non-null  int64  \n",
      " 24  Workphone_Working           80900 non-null  int64  \n",
      " 25  Client_Occupation           53055 non-null  object \n",
      " 26  Client_Family_Members       79256 non-null  float64\n",
      " 27  Cleint_City_Rating          79269 non-null  float64\n",
      " 28  Application_Process_Day     79361 non-null  float64\n",
      " 29  Application_Process_Hour    78494 non-null  float64\n",
      " 30  Client_Permanent_Match_Tag  80900 non-null  object \n",
      " 31  Client_Contact_Work_Tag     80900 non-null  object \n",
      " 32  Type_Organization           78441 non-null  object \n",
      " 33  Score_Source_1              35407 non-null  float64\n",
      " 34  Score_Source_2              77185 non-null  object \n",
      " 35  Score_Source_3              62882 non-null  object \n",
      " 36  Social_Circle_Default       39810 non-null  float64\n",
      " 37  Phone_Change                78477 non-null  float64\n",
      " 38  Credit_Bureau               68618 non-null  float64\n",
      "dtypes: float64(14), int64(4), object(21)\n",
      "memory usage: 24.1+ MB\n"
     ]
    }
   ],
   "source": [
    "test.info()"
   ]
  },
  {
   "cell_type": "markdown",
   "metadata": {},
   "source": [
    "<b>Exploratory Data Analysis"
   ]
  },
  {
   "cell_type": "markdown",
   "metadata": {},
   "source": [
    "<b> the below details are of number of payers as well as Defaulter of the loan \n",
    "    \n",
    "    0 here represents Payers\n",
    "    1 here represents Defaulters"
   ]
  },
  {
   "cell_type": "code",
   "execution_count": 7,
   "metadata": {},
   "outputs": [
    {
     "data": {
      "text/plain": [
       "array([0, 1], dtype=int64)"
      ]
     },
     "execution_count": 7,
     "metadata": {},
     "output_type": "execute_result"
    }
   ],
   "source": [
    "train['Default'].unique()"
   ]
  },
  {
   "cell_type": "code",
   "execution_count": 8,
   "metadata": {},
   "outputs": [
    {
     "name": "stdout",
     "output_type": "stream",
     "text": [
      "0    112011\n",
      "1      9845\n",
      "Name: Default, dtype: int64\n"
     ]
    },
    {
     "data": {
      "text/plain": [
       "<AxesSubplot:xlabel='Default', ylabel='count'>"
      ]
     },
     "execution_count": 8,
     "metadata": {},
     "output_type": "execute_result"
    },
    {
     "data": {
      "image/png": "[encoded data removed]",
      "text/plain": [
       "<Figure size 432x288 with 1 Axes>"
      ]
     },
     "metadata": {
      "needs_background": "light"
     },
     "output_type": "display_data"
    }
   ],
   "source": [
    "print(pd.value_counts(train.Default))\n",
    "sns.countplot(x='Default', data=train)"
   ]
  },
  {
   "cell_type": "markdown",
   "metadata": {},
   "source": [
    "<b> it can be clearly seen that out of 121856 loan applicants 112011 almost 91% payed the loan which are more in numbers than the defaulters 9845 around 8-5%."
   ]
  },
  {
   "cell_type": "code",
   "execution_count": 9,
   "metadata": {},
   "outputs": [
    {
     "data": {
      "text/plain": [
       "<AxesSubplot:xlabel='Client_Gender', ylabel='count'>"
      ]
     },
     "execution_count": 9,
     "metadata": {},
     "output_type": "execute_result"
    },
    {
     "data": {
      "image/png": "[encoded data removed]",
      "text/plain": [
       "<Figure size 432x288 with 1 Axes>"
      ]
     },
     "metadata": {
      "needs_background": "light"
     },
     "output_type": "display_data"
    }
   ],
   "source": [
    "sns.countplot(x='Client_Gender', data=train)"
   ]
  },
  {
   "cell_type": "markdown",
   "metadata": {},
   "source": [
    "<b> the above graph shows gender distribution over loan applicants \n",
    "    \n",
    "    males are almost double in numbers"
   ]
  },
  {
   "cell_type": "code",
   "execution_count": 10,
   "metadata": {},
   "outputs": [
    {
     "data": {
      "text/plain": [
       "<AxesSubplot:xlabel='Default', ylabel='count'>"
      ]
     },
     "execution_count": 10,
     "metadata": {},
     "output_type": "execute_result"
    },
    {
     "data": {
      "image/png": "[encoded data removed]",
      "text/plain": [
       "<Figure size 432x288 with 1 Axes>"
      ]
     },
     "metadata": {
      "needs_background": "light"
     },
     "output_type": "display_data"
    }
   ],
   "source": [
    "sns.countplot(x='Default', hue='Client_Gender', data=train)"
   ]
  },
  {
   "cell_type": "markdown",
   "metadata": {},
   "source": [
    "<b> the above graph shows gender distribution over defaulters \n",
    "    \n",
    "    males tends to become defaulters slightly more than females"
   ]
  },
  {
   "cell_type": "code",
   "execution_count": 11,
   "metadata": {},
   "outputs": [
    {
     "data": {
      "text/plain": [
       "<AxesSubplot:xlabel='Client_Education', ylabel='count'>"
      ]
     },
     "execution_count": 11,
     "metadata": {},
     "output_type": "execute_result"
    },
    {
     "data": {
      "image/png": "[encoded data removed]",
      "text/plain": [
       "<Figure size 432x288 with 1 Axes>"
      ]
     },
     "metadata": {
      "needs_background": "light"
     },
     "output_type": "display_data"
    }
   ],
   "source": [
    "sns.countplot(x='Client_Education', data=train)"
   ]
  },
  {
   "cell_type": "markdown",
   "metadata": {},
   "source": [
    "<b> the above graph shows applicant education. \n",
    "    \n",
    "    the Clients with secondary education are more in number in the loan applicant"
   ]
  },
  {
   "cell_type": "code",
   "execution_count": 12,
   "metadata": {},
   "outputs": [
    {
     "data": {
      "text/plain": [
       "<AxesSubplot:xlabel='Client_Marital_Status', ylabel='count'>"
      ]
     },
     "execution_count": 12,
     "metadata": {},
     "output_type": "execute_result"
    },
    {
     "data": {
      "image/png": "[encoded data removed]",
      "text/plain": [
       "<Figure size 432x288 with 1 Axes>"
      ]
     },
     "metadata": {
      "needs_background": "light"
     },
     "output_type": "display_data"
    }
   ],
   "source": [
    "sns.countplot(x='Client_Marital_Status',hue='Default', data=train)"
   ]
  },
  {
   "cell_type": "markdown",
   "metadata": {},
   "source": [
    "<b> talking about marital status of the applicant married M applicants outweigh the numbers to any other applicant also the defaulters are more from the same marital status.\n",
    "   "
   ]
  },
  {
   "cell_type": "code",
   "execution_count": 13,
   "metadata": {},
   "outputs": [
    {
     "data": {
      "text/plain": [
       "<seaborn.axisgrid.PairGrid at 0x1ec01cea5b0>"
      ]
     },
     "execution_count": 13,
     "metadata": {},
     "output_type": "execute_result"
    },
    {
     "data": {
      "image/png": "[encoded data removed]",
      "text/plain": [
       "<Figure size 584.75x540 with 12 Axes>"
      ]
     },
     "metadata": {
      "needs_background": "light"
     },
     "output_type": "display_data"
    }
   ],
   "source": [
    "liabilities =train[['Default','Car_Owned','Bike_Owned','House_Own']]\n",
    "sns.pairplot(liabilities,hue='Default')"
   ]
  },
  {
   "cell_type": "markdown",
   "metadata": {},
   "source": [
    "<b>above pairplot shows the relationship betweeen liablities owned by the client and default history"
   ]
  },
  {
   "cell_type": "code",
   "execution_count": 14,
   "metadata": {},
   "outputs": [
    {
     "data": {
      "text/html": [
       "<div>\n",
       "<style scoped>\n",
       "    .dataframe tbody tr th:only-of-type {\n",
       "        vertical-align: middle;\n",
       "    }\n",
       "\n",
       "    .dataframe tbody tr th {\n",
       "        vertical-align: top;\n",
       "    }\n",
       "\n",
       "    .dataframe thead th {\n",
       "        text-align: right;\n",
       "    }\n",
       "</style>\n",
       "<table border=\"1\" class=\"dataframe\">\n",
       "  <thead>\n",
       "    <tr style=\"text-align: right;\">\n",
       "      <th></th>\n",
       "      <th>Default</th>\n",
       "      <th>Car_Owned</th>\n",
       "      <th>Bike_Owned</th>\n",
       "      <th>House_Own</th>\n",
       "    </tr>\n",
       "  </thead>\n",
       "  <tbody>\n",
       "    <tr>\n",
       "      <th>Default</th>\n",
       "      <td>1.000000</td>\n",
       "      <td>-0.023221</td>\n",
       "      <td>0.000431</td>\n",
       "      <td>-0.001011</td>\n",
       "    </tr>\n",
       "    <tr>\n",
       "      <th>Car_Owned</th>\n",
       "      <td>-0.023221</td>\n",
       "      <td>1.000000</td>\n",
       "      <td>-0.000409</td>\n",
       "      <td>-0.008344</td>\n",
       "    </tr>\n",
       "    <tr>\n",
       "      <th>Bike_Owned</th>\n",
       "      <td>0.000431</td>\n",
       "      <td>-0.000409</td>\n",
       "      <td>1.000000</td>\n",
       "      <td>0.002125</td>\n",
       "    </tr>\n",
       "    <tr>\n",
       "      <th>House_Own</th>\n",
       "      <td>-0.001011</td>\n",
       "      <td>-0.008344</td>\n",
       "      <td>0.002125</td>\n",
       "      <td>1.000000</td>\n",
       "    </tr>\n",
       "  </tbody>\n",
       "</table>\n",
       "</div>"
      ],
      "text/plain": [
       "             Default  Car_Owned  Bike_Owned  House_Own\n",
       "Default     1.000000  -0.023221    0.000431  -0.001011\n",
       "Car_Owned  -0.023221   1.000000   -0.000409  -0.008344\n",
       "Bike_Owned  0.000431  -0.000409    1.000000   0.002125\n",
       "House_Own  -0.001011  -0.008344    0.002125   1.000000"
      ]
     },
     "execution_count": 14,
     "metadata": {},
     "output_type": "execute_result"
    }
   ],
   "source": [
    "liabilities_corrs=liabilities.corr()\n",
    "liabilities_corrs"
   ]
  },
  {
   "cell_type": "code",
   "execution_count": 15,
   "metadata": {},
   "outputs": [
    {
     "data": {
      "image/png": "[encoded data removed]",
      "text/plain": [
       "<Figure size 576x432 with 2 Axes>"
      ]
     },
     "metadata": {
      "needs_background": "light"
     },
     "output_type": "display_data"
    }
   ],
   "source": [
    "plt.figure(figsize=(8,6))\n",
    "\n",
    "sns.heatmap(liabilities_corrs, cmap=plt.cm.RdYlBu_r, vmin=-0.25, annot=True, vmax=0.6)\n",
    "plt.title('Correlation Heatmap');"
   ]
  },
  {
   "cell_type": "markdown",
   "metadata": {},
   "source": [
    "<b> correlation between liablities owned and default\n",
    "    \n",
    "    no such noticable trend observed"
   ]
  },
  {
   "cell_type": "code",
   "execution_count": 16,
   "metadata": {},
   "outputs": [
    {
     "data": {
      "text/plain": [
       "<AxesSubplot:xlabel='Default', ylabel='count'>"
      ]
     },
     "execution_count": 16,
     "metadata": {},
     "output_type": "execute_result"
    },
    {
     "data": {
      "image/png": "[encoded data removed]",
      "text/plain": [
       "<Figure size 432x288 with 1 Axes>"
      ]
     },
     "metadata": {
      "needs_background": "light"
     },
     "output_type": "display_data"
    }
   ],
   "source": [
    "sns.countplot(x='Default', hue='Loan_Contract_Type', data=train)"
   ]
  },
  {
   "cell_type": "markdown",
   "metadata": {},
   "source": [
    "<b> the clients with CL credit linked contract types are more also more defaulters are from the same group compared to RL rotation loan clients"
   ]
  },
  {
   "cell_type": "markdown",
   "metadata": {},
   "source": [
    "<b> Missing values info"
   ]
  },
  {
   "cell_type": "code",
   "execution_count": 17,
   "metadata": {},
   "outputs": [
    {
     "data": {
      "text/plain": [
       "ID                                0\n",
       "Client_Income                  3607\n",
       "Car_Owned                      3581\n",
       "Bike_Owned                     3624\n",
       "Active_Loan                    3635\n",
       "House_Own                      3661\n",
       "Child_Count                    3638\n",
       "Credit_Amount                  3632\n",
       "Loan_Annuity                   4812\n",
       "Accompany_Client               1746\n",
       "Client_Income_Type             3701\n",
       "Client_Education               3645\n",
       "Client_Marital_Status          3473\n",
       "Client_Gender                  2413\n",
       "Loan_Contract_Type             3651\n",
       "Client_Housing_Type            3687\n",
       "Population_Region_Relative     4857\n",
       "Age_Days                       3600\n",
       "Employed_Days                  3649\n",
       "Registration_Days              3614\n",
       "ID_Days                        5968\n",
       "Own_House_Age                 80095\n",
       "Mobile_Tag                        0\n",
       "Homephone_Tag                     0\n",
       "Workphone_Working                 0\n",
       "Client_Occupation             41435\n",
       "Client_Family_Members          2410\n",
       "Cleint_City_Rating             2409\n",
       "Application_Process_Day        2428\n",
       "Application_Process_Hour       3663\n",
       "Client_Permanent_Match_Tag        0\n",
       "Client_Contact_Work_Tag           0\n",
       "Type_Organization              3609\n",
       "Score_Source_1                68835\n",
       "Score_Source_2                 5686\n",
       "Score_Source_3                26921\n",
       "Social_Circle_Default         61928\n",
       "Phone_Change                   3664\n",
       "Credit_Bureau                 18540\n",
       "Default                           0\n",
       "dtype: int64"
      ]
     },
     "execution_count": 17,
     "metadata": {},
     "output_type": "execute_result"
    }
   ],
   "source": [
    "train.isna().sum()"
   ]
  },
  {
   "cell_type": "code",
   "execution_count": 18,
   "metadata": {},
   "outputs": [
    {
     "data": {
      "text/plain": [
       "ID                                0\n",
       "Client_Income                  2434\n",
       "Car_Owned                      2405\n",
       "Bike_Owned                     2486\n",
       "Active_Loan                    2454\n",
       "House_Own                      2347\n",
       "Child_Count                    2328\n",
       "Credit_Amount                  2287\n",
       "Loan_Annuity                   3203\n",
       "Accompany_Client               1208\n",
       "Client_Income_Type             2501\n",
       "Client_Education               2350\n",
       "Client_Marital_Status          2443\n",
       "Client_Gender                  1627\n",
       "Loan_Contract_Type             2321\n",
       "Client_Housing_Type            2408\n",
       "Population_Region_Relative     3270\n",
       "Age_Days                       2479\n",
       "Employed_Days                  2421\n",
       "Registration_Days              2398\n",
       "ID_Days                        3881\n",
       "Own_House_Age                 53581\n",
       "Mobile_Tag                        0\n",
       "Homephone_Tag                     0\n",
       "Workphone_Working                 0\n",
       "Client_Occupation             27845\n",
       "Client_Family_Members          1644\n",
       "Cleint_City_Rating             1631\n",
       "Application_Process_Day        1539\n",
       "Application_Process_Hour       2406\n",
       "Client_Permanent_Match_Tag        0\n",
       "Client_Contact_Work_Tag           0\n",
       "Type_Organization              2459\n",
       "Score_Source_1                45493\n",
       "Score_Source_2                 3715\n",
       "Score_Source_3                18018\n",
       "Social_Circle_Default         41090\n",
       "Phone_Change                   2423\n",
       "Credit_Bureau                 12282\n",
       "dtype: int64"
      ]
     },
     "execution_count": 18,
     "metadata": {},
     "output_type": "execute_result"
    }
   ],
   "source": [
    "test.isna().sum()"
   ]
  },
  {
   "cell_type": "markdown",
   "metadata": {},
   "source": [
    "<b>as we can see that there are large numbers of missing values so it will be not easy to preprocess the data so creating the function to know missing values percentage to remove unwanted or redundancy in the datasets"
   ]
  },
  {
   "cell_type": "code",
   "execution_count": 19,
   "metadata": {},
   "outputs": [],
   "source": [
    "def missing_values_table(df):\n",
    "    # Check the total number of missing values\n",
    "    mis_val=df.isnull().sum()\n",
    "    \n",
    "    # Check the proportion of missing values\n",
    "    mis_val_percent=100*df.isnull().sum()/len(df)\n",
    "    \n",
    "   # Create a table of missing values and weight of missing values\n",
    "    mis_val_table=pd.concat([mis_val, mis_val_percent],axis=1)\n",
    "    \n",
    "   # Rename column\n",
    "    mis_val_table_ren_columns=mis_val_table.rename(columns={0:'Missing Values',1:'% of Total Values'})\n",
    "\n",
    "    # Sort except for columns with missing values of 0\n",
    "    mis_val_table_ren_columns=mis_val_table_ren_columns[mis_val_table_ren_columns.iloc[:,1]!=0].sort_values('% of Total Values',ascending=False).round(1)\n",
    "\n",
    "    #Print summary results\n",
    "    print(\"The total number of columns in train is \"+str(df.shape[1])+\n",
    "         \"Among them, the number of columns with missing values is \"+str(mis_val_table_ren_columns.shape[0]))\n",
    "    \n",
    "    return mis_val_table_ren_columns"
   ]
  },
  {
   "cell_type": "code",
   "execution_count": 20,
   "metadata": {},
   "outputs": [
    {
     "name": "stdout",
     "output_type": "stream",
     "text": [
      "The total number of columns in train is 40Among them, the number of columns with missing values is 33\n"
     ]
    },
    {
     "data": {
      "text/html": [
       "<div>\n",
       "<style scoped>\n",
       "    .dataframe tbody tr th:only-of-type {\n",
       "        vertical-align: middle;\n",
       "    }\n",
       "\n",
       "    .dataframe tbody tr th {\n",
       "        vertical-align: top;\n",
       "    }\n",
       "\n",
       "    .dataframe thead th {\n",
       "        text-align: right;\n",
       "    }\n",
       "</style>\n",
       "<table border=\"1\" class=\"dataframe\">\n",
       "  <thead>\n",
       "    <tr style=\"text-align: right;\">\n",
       "      <th></th>\n",
       "      <th>Missing Values</th>\n",
       "      <th>% of Total Values</th>\n",
       "    </tr>\n",
       "  </thead>\n",
       "  <tbody>\n",
       "    <tr>\n",
       "      <th>Own_House_Age</th>\n",
       "      <td>80095</td>\n",
       "      <td>65.7</td>\n",
       "    </tr>\n",
       "    <tr>\n",
       "      <th>Score_Source_1</th>\n",
       "      <td>68835</td>\n",
       "      <td>56.5</td>\n",
       "    </tr>\n",
       "    <tr>\n",
       "      <th>Social_Circle_Default</th>\n",
       "      <td>61928</td>\n",
       "      <td>50.8</td>\n",
       "    </tr>\n",
       "    <tr>\n",
       "      <th>Client_Occupation</th>\n",
       "      <td>41435</td>\n",
       "      <td>34.0</td>\n",
       "    </tr>\n",
       "    <tr>\n",
       "      <th>Score_Source_3</th>\n",
       "      <td>26921</td>\n",
       "      <td>22.1</td>\n",
       "    </tr>\n",
       "    <tr>\n",
       "      <th>Credit_Bureau</th>\n",
       "      <td>18540</td>\n",
       "      <td>15.2</td>\n",
       "    </tr>\n",
       "    <tr>\n",
       "      <th>ID_Days</th>\n",
       "      <td>5968</td>\n",
       "      <td>4.9</td>\n",
       "    </tr>\n",
       "    <tr>\n",
       "      <th>Score_Source_2</th>\n",
       "      <td>5686</td>\n",
       "      <td>4.7</td>\n",
       "    </tr>\n",
       "    <tr>\n",
       "      <th>Population_Region_Relative</th>\n",
       "      <td>4857</td>\n",
       "      <td>4.0</td>\n",
       "    </tr>\n",
       "    <tr>\n",
       "      <th>Loan_Annuity</th>\n",
       "      <td>4812</td>\n",
       "      <td>3.9</td>\n",
       "    </tr>\n",
       "    <tr>\n",
       "      <th>Client_Income_Type</th>\n",
       "      <td>3701</td>\n",
       "      <td>3.0</td>\n",
       "    </tr>\n",
       "    <tr>\n",
       "      <th>Client_Housing_Type</th>\n",
       "      <td>3687</td>\n",
       "      <td>3.0</td>\n",
       "    </tr>\n",
       "    <tr>\n",
       "      <th>Phone_Change</th>\n",
       "      <td>3664</td>\n",
       "      <td>3.0</td>\n",
       "    </tr>\n",
       "    <tr>\n",
       "      <th>Application_Process_Hour</th>\n",
       "      <td>3663</td>\n",
       "      <td>3.0</td>\n",
       "    </tr>\n",
       "    <tr>\n",
       "      <th>House_Own</th>\n",
       "      <td>3661</td>\n",
       "      <td>3.0</td>\n",
       "    </tr>\n",
       "    <tr>\n",
       "      <th>Loan_Contract_Type</th>\n",
       "      <td>3651</td>\n",
       "      <td>3.0</td>\n",
       "    </tr>\n",
       "    <tr>\n",
       "      <th>Employed_Days</th>\n",
       "      <td>3649</td>\n",
       "      <td>3.0</td>\n",
       "    </tr>\n",
       "    <tr>\n",
       "      <th>Client_Education</th>\n",
       "      <td>3645</td>\n",
       "      <td>3.0</td>\n",
       "    </tr>\n",
       "    <tr>\n",
       "      <th>Child_Count</th>\n",
       "      <td>3638</td>\n",
       "      <td>3.0</td>\n",
       "    </tr>\n",
       "    <tr>\n",
       "      <th>Active_Loan</th>\n",
       "      <td>3635</td>\n",
       "      <td>3.0</td>\n",
       "    </tr>\n",
       "    <tr>\n",
       "      <th>Credit_Amount</th>\n",
       "      <td>3632</td>\n",
       "      <td>3.0</td>\n",
       "    </tr>\n",
       "    <tr>\n",
       "      <th>Bike_Owned</th>\n",
       "      <td>3624</td>\n",
       "      <td>3.0</td>\n",
       "    </tr>\n",
       "    <tr>\n",
       "      <th>Registration_Days</th>\n",
       "      <td>3614</td>\n",
       "      <td>3.0</td>\n",
       "    </tr>\n",
       "    <tr>\n",
       "      <th>Type_Organization</th>\n",
       "      <td>3609</td>\n",
       "      <td>3.0</td>\n",
       "    </tr>\n",
       "    <tr>\n",
       "      <th>Client_Income</th>\n",
       "      <td>3607</td>\n",
       "      <td>3.0</td>\n",
       "    </tr>\n",
       "    <tr>\n",
       "      <th>Age_Days</th>\n",
       "      <td>3600</td>\n",
       "      <td>3.0</td>\n",
       "    </tr>\n",
       "    <tr>\n",
       "      <th>Car_Owned</th>\n",
       "      <td>3581</td>\n",
       "      <td>2.9</td>\n",
       "    </tr>\n",
       "    <tr>\n",
       "      <th>Client_Marital_Status</th>\n",
       "      <td>3473</td>\n",
       "      <td>2.9</td>\n",
       "    </tr>\n",
       "    <tr>\n",
       "      <th>Application_Process_Day</th>\n",
       "      <td>2428</td>\n",
       "      <td>2.0</td>\n",
       "    </tr>\n",
       "    <tr>\n",
       "      <th>Client_Gender</th>\n",
       "      <td>2413</td>\n",
       "      <td>2.0</td>\n",
       "    </tr>\n",
       "    <tr>\n",
       "      <th>Client_Family_Members</th>\n",
       "      <td>2410</td>\n",
       "      <td>2.0</td>\n",
       "    </tr>\n",
       "    <tr>\n",
       "      <th>Cleint_City_Rating</th>\n",
       "      <td>2409</td>\n",
       "      <td>2.0</td>\n",
       "    </tr>\n",
       "    <tr>\n",
       "      <th>Accompany_Client</th>\n",
       "      <td>1746</td>\n",
       "      <td>1.4</td>\n",
       "    </tr>\n",
       "  </tbody>\n",
       "</table>\n",
       "</div>"
      ],
      "text/plain": [
       "                            Missing Values  % of Total Values\n",
       "Own_House_Age                        80095               65.7\n",
       "Score_Source_1                       68835               56.5\n",
       "Social_Circle_Default                61928               50.8\n",
       "Client_Occupation                    41435               34.0\n",
       "Score_Source_3                       26921               22.1\n",
       "Credit_Bureau                        18540               15.2\n",
       "ID_Days                               5968                4.9\n",
       "Score_Source_2                        5686                4.7\n",
       "Population_Region_Relative            4857                4.0\n",
       "Loan_Annuity                          4812                3.9\n",
       "Client_Income_Type                    3701                3.0\n",
       "Client_Housing_Type                   3687                3.0\n",
       "Phone_Change                          3664                3.0\n",
       "Application_Process_Hour              3663                3.0\n",
       "House_Own                             3661                3.0\n",
       "Loan_Contract_Type                    3651                3.0\n",
       "Employed_Days                         3649                3.0\n",
       "Client_Education                      3645                3.0\n",
       "Child_Count                           3638                3.0\n",
       "Active_Loan                           3635                3.0\n",
       "Credit_Amount                         3632                3.0\n",
       "Bike_Owned                            3624                3.0\n",
       "Registration_Days                     3614                3.0\n",
       "Type_Organization                     3609                3.0\n",
       "Client_Income                         3607                3.0\n",
       "Age_Days                              3600                3.0\n",
       "Car_Owned                             3581                2.9\n",
       "Client_Marital_Status                 3473                2.9\n",
       "Application_Process_Day               2428                2.0\n",
       "Client_Gender                         2413                2.0\n",
       "Client_Family_Members                 2410                2.0\n",
       "Cleint_City_Rating                    2409                2.0\n",
       "Accompany_Client                      1746                1.4"
      ]
     },
     "execution_count": 20,
     "metadata": {},
     "output_type": "execute_result"
    }
   ],
   "source": [
    "missing_values=missing_values_table(train)\n",
    "missing_values"
   ]
  },
  {
   "cell_type": "code",
   "execution_count": 21,
   "metadata": {},
   "outputs": [
    {
     "name": "stdout",
     "output_type": "stream",
     "text": [
      "The total number of columns in train is 39Among them, the number of columns with missing values is 33\n"
     ]
    },
    {
     "data": {
      "text/html": [
       "<div>\n",
       "<style scoped>\n",
       "    .dataframe tbody tr th:only-of-type {\n",
       "        vertical-align: middle;\n",
       "    }\n",
       "\n",
       "    .dataframe tbody tr th {\n",
       "        vertical-align: top;\n",
       "    }\n",
       "\n",
       "    .dataframe thead th {\n",
       "        text-align: right;\n",
       "    }\n",
       "</style>\n",
       "<table border=\"1\" class=\"dataframe\">\n",
       "  <thead>\n",
       "    <tr style=\"text-align: right;\">\n",
       "      <th></th>\n",
       "      <th>Missing Values</th>\n",
       "      <th>% of Total Values</th>\n",
       "    </tr>\n",
       "  </thead>\n",
       "  <tbody>\n",
       "    <tr>\n",
       "      <th>Own_House_Age</th>\n",
       "      <td>53581</td>\n",
       "      <td>66.2</td>\n",
       "    </tr>\n",
       "    <tr>\n",
       "      <th>Score_Source_1</th>\n",
       "      <td>45493</td>\n",
       "      <td>56.2</td>\n",
       "    </tr>\n",
       "    <tr>\n",
       "      <th>Social_Circle_Default</th>\n",
       "      <td>41090</td>\n",
       "      <td>50.8</td>\n",
       "    </tr>\n",
       "    <tr>\n",
       "      <th>Client_Occupation</th>\n",
       "      <td>27845</td>\n",
       "      <td>34.4</td>\n",
       "    </tr>\n",
       "    <tr>\n",
       "      <th>Score_Source_3</th>\n",
       "      <td>18018</td>\n",
       "      <td>22.3</td>\n",
       "    </tr>\n",
       "    <tr>\n",
       "      <th>Credit_Bureau</th>\n",
       "      <td>12282</td>\n",
       "      <td>15.2</td>\n",
       "    </tr>\n",
       "    <tr>\n",
       "      <th>ID_Days</th>\n",
       "      <td>3881</td>\n",
       "      <td>4.8</td>\n",
       "    </tr>\n",
       "    <tr>\n",
       "      <th>Score_Source_2</th>\n",
       "      <td>3715</td>\n",
       "      <td>4.6</td>\n",
       "    </tr>\n",
       "    <tr>\n",
       "      <th>Population_Region_Relative</th>\n",
       "      <td>3270</td>\n",
       "      <td>4.0</td>\n",
       "    </tr>\n",
       "    <tr>\n",
       "      <th>Loan_Annuity</th>\n",
       "      <td>3203</td>\n",
       "      <td>4.0</td>\n",
       "    </tr>\n",
       "    <tr>\n",
       "      <th>Client_Income_Type</th>\n",
       "      <td>2501</td>\n",
       "      <td>3.1</td>\n",
       "    </tr>\n",
       "    <tr>\n",
       "      <th>Bike_Owned</th>\n",
       "      <td>2486</td>\n",
       "      <td>3.1</td>\n",
       "    </tr>\n",
       "    <tr>\n",
       "      <th>Age_Days</th>\n",
       "      <td>2479</td>\n",
       "      <td>3.1</td>\n",
       "    </tr>\n",
       "    <tr>\n",
       "      <th>Type_Organization</th>\n",
       "      <td>2459</td>\n",
       "      <td>3.0</td>\n",
       "    </tr>\n",
       "    <tr>\n",
       "      <th>Active_Loan</th>\n",
       "      <td>2454</td>\n",
       "      <td>3.0</td>\n",
       "    </tr>\n",
       "    <tr>\n",
       "      <th>Client_Marital_Status</th>\n",
       "      <td>2443</td>\n",
       "      <td>3.0</td>\n",
       "    </tr>\n",
       "    <tr>\n",
       "      <th>Client_Income</th>\n",
       "      <td>2434</td>\n",
       "      <td>3.0</td>\n",
       "    </tr>\n",
       "    <tr>\n",
       "      <th>Phone_Change</th>\n",
       "      <td>2423</td>\n",
       "      <td>3.0</td>\n",
       "    </tr>\n",
       "    <tr>\n",
       "      <th>Employed_Days</th>\n",
       "      <td>2421</td>\n",
       "      <td>3.0</td>\n",
       "    </tr>\n",
       "    <tr>\n",
       "      <th>Client_Housing_Type</th>\n",
       "      <td>2408</td>\n",
       "      <td>3.0</td>\n",
       "    </tr>\n",
       "    <tr>\n",
       "      <th>Application_Process_Hour</th>\n",
       "      <td>2406</td>\n",
       "      <td>3.0</td>\n",
       "    </tr>\n",
       "    <tr>\n",
       "      <th>Car_Owned</th>\n",
       "      <td>2405</td>\n",
       "      <td>3.0</td>\n",
       "    </tr>\n",
       "    <tr>\n",
       "      <th>Registration_Days</th>\n",
       "      <td>2398</td>\n",
       "      <td>3.0</td>\n",
       "    </tr>\n",
       "    <tr>\n",
       "      <th>Client_Education</th>\n",
       "      <td>2350</td>\n",
       "      <td>2.9</td>\n",
       "    </tr>\n",
       "    <tr>\n",
       "      <th>House_Own</th>\n",
       "      <td>2347</td>\n",
       "      <td>2.9</td>\n",
       "    </tr>\n",
       "    <tr>\n",
       "      <th>Child_Count</th>\n",
       "      <td>2328</td>\n",
       "      <td>2.9</td>\n",
       "    </tr>\n",
       "    <tr>\n",
       "      <th>Loan_Contract_Type</th>\n",
       "      <td>2321</td>\n",
       "      <td>2.9</td>\n",
       "    </tr>\n",
       "    <tr>\n",
       "      <th>Credit_Amount</th>\n",
       "      <td>2287</td>\n",
       "      <td>2.8</td>\n",
       "    </tr>\n",
       "    <tr>\n",
       "      <th>Client_Family_Members</th>\n",
       "      <td>1644</td>\n",
       "      <td>2.0</td>\n",
       "    </tr>\n",
       "    <tr>\n",
       "      <th>Cleint_City_Rating</th>\n",
       "      <td>1631</td>\n",
       "      <td>2.0</td>\n",
       "    </tr>\n",
       "    <tr>\n",
       "      <th>Client_Gender</th>\n",
       "      <td>1627</td>\n",
       "      <td>2.0</td>\n",
       "    </tr>\n",
       "    <tr>\n",
       "      <th>Application_Process_Day</th>\n",
       "      <td>1539</td>\n",
       "      <td>1.9</td>\n",
       "    </tr>\n",
       "    <tr>\n",
       "      <th>Accompany_Client</th>\n",
       "      <td>1208</td>\n",
       "      <td>1.5</td>\n",
       "    </tr>\n",
       "  </tbody>\n",
       "</table>\n",
       "</div>"
      ],
      "text/plain": [
       "                            Missing Values  % of Total Values\n",
       "Own_House_Age                        53581               66.2\n",
       "Score_Source_1                       45493               56.2\n",
       "Social_Circle_Default                41090               50.8\n",
       "Client_Occupation                    27845               34.4\n",
       "Score_Source_3                       18018               22.3\n",
       "Credit_Bureau                        12282               15.2\n",
       "ID_Days                               3881                4.8\n",
       "Score_Source_2                        3715                4.6\n",
       "Population_Region_Relative            3270                4.0\n",
       "Loan_Annuity                          3203                4.0\n",
       "Client_Income_Type                    2501                3.1\n",
       "Bike_Owned                            2486                3.1\n",
       "Age_Days                              2479                3.1\n",
       "Type_Organization                     2459                3.0\n",
       "Active_Loan                           2454                3.0\n",
       "Client_Marital_Status                 2443                3.0\n",
       "Client_Income                         2434                3.0\n",
       "Phone_Change                          2423                3.0\n",
       "Employed_Days                         2421                3.0\n",
       "Client_Housing_Type                   2408                3.0\n",
       "Application_Process_Hour              2406                3.0\n",
       "Car_Owned                             2405                3.0\n",
       "Registration_Days                     2398                3.0\n",
       "Client_Education                      2350                2.9\n",
       "House_Own                             2347                2.9\n",
       "Child_Count                           2328                2.9\n",
       "Loan_Contract_Type                    2321                2.9\n",
       "Credit_Amount                         2287                2.8\n",
       "Client_Family_Members                 1644                2.0\n",
       "Cleint_City_Rating                    1631                2.0\n",
       "Client_Gender                         1627                2.0\n",
       "Application_Process_Day               1539                1.9\n",
       "Accompany_Client                      1208                1.5"
      ]
     },
     "execution_count": 21,
     "metadata": {},
     "output_type": "execute_result"
    }
   ],
   "source": [
    "missing_valuesT=missing_values_table(test)\n",
    "missing_valuesT"
   ]
  },
  {
   "cell_type": "markdown",
   "metadata": {},
   "source": [
    "<b>as there are relatively large empty or null values in few labels , filling them will not give us the exact accuracy of the algorithms so thereby droping the label Own_House_Age"
   ]
  },
  {
   "cell_type": "code",
   "execution_count": 22,
   "metadata": {},
   "outputs": [],
   "source": [
    "train.drop(['Own_House_Age'], axis=1, inplace=True)\n",
    "test.drop(['Own_House_Age'], axis=1, inplace=True)"
   ]
  },
  {
   "cell_type": "markdown",
   "metadata": {},
   "source": [
    "<b> targeting labels with object as datatype and further converting them into float."
   ]
  },
  {
   "cell_type": "code",
   "execution_count": 23,
   "metadata": {},
   "outputs": [
    {
     "data": {
      "text/plain": [
       "Client_Income                  1516\n",
       "Credit_Amount                  6816\n",
       "Loan_Annuity                  16680\n",
       "Accompany_Client                  7\n",
       "Client_Income_Type                8\n",
       "Client_Education                  5\n",
       "Client_Marital_Status             4\n",
       "Client_Gender                     3\n",
       "Loan_Contract_Type                2\n",
       "Client_Housing_Type               6\n",
       "Population_Region_Relative      164\n",
       "Age_Days                      22583\n",
       "Employed_Days                 13220\n",
       "Registration_Days             19254\n",
       "ID_Days                        9655\n",
       "Client_Occupation                18\n",
       "Client_Permanent_Match_Tag        2\n",
       "Client_Contact_Work_Tag           2\n",
       "Type_Organization                58\n",
       "Score_Source_3                 1430\n",
       "dtype: int64"
      ]
     },
     "execution_count": 23,
     "metadata": {},
     "output_type": "execute_result"
    }
   ],
   "source": [
    "#converting the categorical labels with data type object into float by label encoding\n",
    "train.select_dtypes('object').nunique()"
   ]
  },
  {
   "cell_type": "markdown",
   "metadata": {},
   "source": [
    "<b> Label Encoding on categorical labels. "
   ]
  },
  {
   "cell_type": "code",
   "execution_count": 24,
   "metadata": {},
   "outputs": [],
   "source": [
    "from sklearn.preprocessing import LabelEncoder"
   ]
  },
  {
   "cell_type": "code",
   "execution_count": 25,
   "metadata": {},
   "outputs": [],
   "source": [
    "#introducing lABEL ENCODING function\n",
    "le=LabelEncoder()\n",
    "le_count=0\n",
    "\n",
    "\n",
    "# Iterate per column\n",
    "for col in train:\n",
    "    if train[col].dtype=='object':\n",
    "      \n",
    " # If the data type is object and the type of value is less than two\n",
    "        if len(list(train[col].unique())) <=2:\n",
    "            \n",
    "            \n",
    "# In order to encode the label in the same way for train and test,\n",
    "# the fit value based on train is transformed in the same way for train and test.\n",
    "            le.fit(train[col])\n",
    "            \n",
    "            \n",
    "            train[col]=le.transform(train[col])\n",
    "            test[col]=le.transform(test[col])"
   ]
  },
  {
   "cell_type": "markdown",
   "metadata": {},
   "source": [
    "<b> labels with more than 2 categorical values can be converted using dummies but before that removing null values will be an optimum step\n",
    "    \n",
    "<b> here we talking about the labels\n",
    "    \n",
    "     Client_Occupation\n",
    "        \n",
    "     Client_Income_Type\n",
    "        \n",
    "     Client_Housing_Type\n",
    "        \n",
    "     Loan_Contract_Type\n",
    "        \n",
    "     Client_Education\n",
    "        \n",
    "     Type_Organization\n",
    "        \n",
    "     Client_Marital_Status\n",
    "        \n",
    "     Client_Gender\n",
    "        \n",
    "     Accompany_Client  "
   ]
  },
  {
   "cell_type": "code",
   "execution_count": 26,
   "metadata": {},
   "outputs": [
    {
     "data": {
      "text/plain": [
       "array(['Sales', nan, 'Realty agents', 'Laborers', 'Core', 'Drivers',\n",
       "       'Managers', 'Accountants', 'High skill tech', 'Cleaning', 'HR',\n",
       "       'Waiters/barmen', 'Low-skill Laborers', 'Medicine', 'Cooking',\n",
       "       'Private service', 'Security', 'IT', 'Secretaries'], dtype=object)"
      ]
     },
     "execution_count": 26,
     "metadata": {},
     "output_type": "execute_result"
    }
   ],
   "source": [
    "# unique entries in Client_occupation\n",
    "train.Client_Occupation.unique()"
   ]
  },
  {
   "cell_type": "code",
   "execution_count": 27,
   "metadata": {},
   "outputs": [],
   "source": [
    "#filling nan values with Unemployed.\n",
    "train['Client_Occupation']=train['Client_Occupation'].fillna('Unemployed')\n",
    "test['Client_Occupation']=test['Client_Occupation'].fillna('Unemployed')"
   ]
  },
  {
   "cell_type": "code",
   "execution_count": 28,
   "metadata": {},
   "outputs": [
    {
     "data": {
      "text/plain": [
       "array(['Commercial', 'Service', 'Retired', 'Govt Job', nan, 'Student',\n",
       "       'Unemployed', 'Maternity leave', 'Businessman'], dtype=object)"
      ]
     },
     "execution_count": 28,
     "metadata": {},
     "output_type": "execute_result"
    }
   ],
   "source": [
    "# unique entries in Client_Income_Type\n",
    "train.Client_Income_Type.unique()"
   ]
  },
  {
   "cell_type": "code",
   "execution_count": 29,
   "metadata": {},
   "outputs": [],
   "source": [
    "#filling nan values with Unemployed same.\n",
    "train['Client_Income_Type']=train['Client_Income_Type'].fillna('Unemployed')\n",
    "test['Client_Income_Type']=test['Client_Income_Type'].fillna('Unemployed')"
   ]
  },
  {
   "cell_type": "code",
   "execution_count": 30,
   "metadata": {},
   "outputs": [
    {
     "data": {
      "text/plain": [
       "array(['Home', 'Family', 'Office', 'Municipal', nan, 'Rental', 'Shared'],\n",
       "      dtype=object)"
      ]
     },
     "execution_count": 30,
     "metadata": {},
     "output_type": "execute_result"
    }
   ],
   "source": [
    "# unique entries in Client_Housing_Type\n",
    "train.Client_Housing_Type.unique()"
   ]
  },
  {
   "cell_type": "code",
   "execution_count": 31,
   "metadata": {},
   "outputs": [],
   "source": [
    "#filling nan values with Family.\n",
    "train['Client_Housing_Type']=train['Client_Housing_Type'].fillna('Family')\n",
    "test['Client_Housing_Type']=test['Client_Housing_Type'].fillna('Family')"
   ]
  },
  {
   "cell_type": "code",
   "execution_count": 32,
   "metadata": {},
   "outputs": [
    {
     "data": {
      "text/plain": [
       "array(['CL', 'RL', nan], dtype=object)"
      ]
     },
     "execution_count": 32,
     "metadata": {},
     "output_type": "execute_result"
    }
   ],
   "source": [
    "# unique entries in Loan_Contract_Type\n",
    "train.Loan_Contract_Type.unique()"
   ]
  },
  {
   "cell_type": "code",
   "execution_count": 33,
   "metadata": {},
   "outputs": [],
   "source": [
    "#filling nan values with CL.\n",
    "train['Loan_Contract_Type']=train['Loan_Contract_Type'].fillna('CL')\n",
    "test['Loan_Contract_Type']=test['Loan_Contract_Type'].fillna('CL')"
   ]
  },
  {
   "cell_type": "code",
   "execution_count": 34,
   "metadata": {},
   "outputs": [
    {
     "data": {
      "text/plain": [
       "array(['Secondary', 'Graduation', 'Graduation dropout', nan,\n",
       "       'Junior secondary', 'Post Grad'], dtype=object)"
      ]
     },
     "execution_count": 34,
     "metadata": {},
     "output_type": "execute_result"
    }
   ],
   "source": [
    "# unique entries in Client_Education\n",
    "train.Client_Education.unique()"
   ]
  },
  {
   "cell_type": "code",
   "execution_count": 35,
   "metadata": {},
   "outputs": [],
   "source": [
    " #filling nan values with Uneducated.\n",
    "train['Client_Education']=train['Client_Education'].fillna('Uneducated')\n",
    "test['Client_Education']=test['Client_Education'].fillna('Uneducated')"
   ]
  },
  {
   "cell_type": "code",
   "execution_count": 36,
   "metadata": {},
   "outputs": [
    {
     "data": {
      "text/plain": [
       "array(['Self-employed', 'Government', 'XNA', 'Business Entity Type 3',\n",
       "       'Other', nan, 'Industry: type 3', 'Business Entity Type 2',\n",
       "       'Business Entity Type 1', 'Transport: type 4', 'Construction',\n",
       "       'Kindergarten', 'Trade: type 3', 'Industry: type 2',\n",
       "       'Trade: type 7', 'Trade: type 2', 'Agriculture', 'Military',\n",
       "       'Medicine', 'Housing', 'Industry: type 1', 'Industry: type 11',\n",
       "       'Bank', 'School', 'Industry: type 9', 'Postal', 'University',\n",
       "       'Transport: type 2', 'Restaurant', 'Electricity', 'Police',\n",
       "       'Industry: type 4', 'Security Ministries', 'Services',\n",
       "       'Transport: type 3', 'Mobile', 'Hotel', 'Security',\n",
       "       'Industry: type 7', 'Advertising', 'Cleaning', 'Realtor',\n",
       "       'Trade: type 6', 'Culture', 'Industry: type 5', 'Telecom',\n",
       "       'Trade: type 1', 'Industry: type 12', 'Industry: type 8',\n",
       "       'Insurance', 'Emergency', 'Legal Services', 'Industry: type 10',\n",
       "       'Trade: type 4', 'Industry: type 6', 'Transport: type 1',\n",
       "       'Industry: type 13', 'Religion', 'Trade: type 5'], dtype=object)"
      ]
     },
     "execution_count": 36,
     "metadata": {},
     "output_type": "execute_result"
    }
   ],
   "source": [
    "# unique entries in Type_Organization\n",
    "train.Type_Organization.unique()"
   ]
  },
  {
   "cell_type": "code",
   "execution_count": 37,
   "metadata": {},
   "outputs": [],
   "source": [
    " #filling nan values with Other.\n",
    "train['Type_Organization']=train['Type_Organization'].fillna('Other')\n",
    "test['Type_Organization']=test['Type_Organization'].fillna('Other')"
   ]
  },
  {
   "cell_type": "code",
   "execution_count": 38,
   "metadata": {},
   "outputs": [
    {
     "data": {
      "text/plain": [
       "array(['M', 'W', 'S', nan, 'D'], dtype=object)"
      ]
     },
     "execution_count": 38,
     "metadata": {},
     "output_type": "execute_result"
    }
   ],
   "source": [
    "# unique entries in Client_Marital_Status\n",
    "train.Client_Marital_Status.unique()"
   ]
  },
  {
   "cell_type": "code",
   "execution_count": 39,
   "metadata": {},
   "outputs": [],
   "source": [
    " #filling nan values with S.\n",
    "train['Client_Marital_Status']=train['Client_Marital_Status'].fillna('S')\n",
    "test['Client_Marital_Status']=test['Client_Marital_Status'].fillna('S')"
   ]
  },
  {
   "cell_type": "code",
   "execution_count": 40,
   "metadata": {},
   "outputs": [
    {
     "data": {
      "text/plain": [
       "array(['Male', 'Female', nan, 'XNA'], dtype=object)"
      ]
     },
     "execution_count": 40,
     "metadata": {},
     "output_type": "execute_result"
    }
   ],
   "source": [
    "# unique entries in Client_Gender\n",
    "train.Client_Gender.unique()"
   ]
  },
  {
   "cell_type": "code",
   "execution_count": 41,
   "metadata": {},
   "outputs": [],
   "source": [
    " #filling nan values with XNA.\n",
    "train['Client_Gender']=train['Client_Gender'].fillna('XNA')\n",
    "test['Client_Gender']=test['Client_Gender'].fillna('XNA')"
   ]
  },
  {
   "cell_type": "code",
   "execution_count": 42,
   "metadata": {},
   "outputs": [
    {
     "data": {
      "text/plain": [
       "array(['Alone', 'Relative', 'Others', 'Kids', nan, 'Partner', '##',\n",
       "       'Group'], dtype=object)"
      ]
     },
     "execution_count": 42,
     "metadata": {},
     "output_type": "execute_result"
    }
   ],
   "source": [
    "# unique entries in Accompany_Client\n",
    "train.Accompany_Client.unique()"
   ]
  },
  {
   "cell_type": "code",
   "execution_count": 43,
   "metadata": {},
   "outputs": [],
   "source": [
    " #filling nan values with XNA.\n",
    "train['Accompany_Client']=train['Accompany_Client'].fillna('XNA')\n",
    "test['Accompany_Client']=test['Accompany_Client'].fillna('XNA')"
   ]
  },
  {
   "cell_type": "code",
   "execution_count": 44,
   "metadata": {},
   "outputs": [
    {
     "name": "stdout",
     "output_type": "stream",
     "text": [
      "The total number of columns in train is 39Among them, the number of columns with missing values is 23\n"
     ]
    },
    {
     "data": {
      "text/html": [
       "<div>\n",
       "<style scoped>\n",
       "    .dataframe tbody tr th:only-of-type {\n",
       "        vertical-align: middle;\n",
       "    }\n",
       "\n",
       "    .dataframe tbody tr th {\n",
       "        vertical-align: top;\n",
       "    }\n",
       "\n",
       "    .dataframe thead th {\n",
       "        text-align: right;\n",
       "    }\n",
       "</style>\n",
       "<table border=\"1\" class=\"dataframe\">\n",
       "  <thead>\n",
       "    <tr style=\"text-align: right;\">\n",
       "      <th></th>\n",
       "      <th>Missing Values</th>\n",
       "      <th>% of Total Values</th>\n",
       "    </tr>\n",
       "  </thead>\n",
       "  <tbody>\n",
       "    <tr>\n",
       "      <th>Score_Source_1</th>\n",
       "      <td>68835</td>\n",
       "      <td>56.5</td>\n",
       "    </tr>\n",
       "    <tr>\n",
       "      <th>Social_Circle_Default</th>\n",
       "      <td>61928</td>\n",
       "      <td>50.8</td>\n",
       "    </tr>\n",
       "    <tr>\n",
       "      <th>Score_Source_3</th>\n",
       "      <td>26921</td>\n",
       "      <td>22.1</td>\n",
       "    </tr>\n",
       "    <tr>\n",
       "      <th>Credit_Bureau</th>\n",
       "      <td>18540</td>\n",
       "      <td>15.2</td>\n",
       "    </tr>\n",
       "    <tr>\n",
       "      <th>ID_Days</th>\n",
       "      <td>5968</td>\n",
       "      <td>4.9</td>\n",
       "    </tr>\n",
       "    <tr>\n",
       "      <th>Score_Source_2</th>\n",
       "      <td>5686</td>\n",
       "      <td>4.7</td>\n",
       "    </tr>\n",
       "    <tr>\n",
       "      <th>Population_Region_Relative</th>\n",
       "      <td>4857</td>\n",
       "      <td>4.0</td>\n",
       "    </tr>\n",
       "    <tr>\n",
       "      <th>Loan_Annuity</th>\n",
       "      <td>4812</td>\n",
       "      <td>3.9</td>\n",
       "    </tr>\n",
       "    <tr>\n",
       "      <th>Phone_Change</th>\n",
       "      <td>3664</td>\n",
       "      <td>3.0</td>\n",
       "    </tr>\n",
       "    <tr>\n",
       "      <th>Application_Process_Hour</th>\n",
       "      <td>3663</td>\n",
       "      <td>3.0</td>\n",
       "    </tr>\n",
       "    <tr>\n",
       "      <th>House_Own</th>\n",
       "      <td>3661</td>\n",
       "      <td>3.0</td>\n",
       "    </tr>\n",
       "    <tr>\n",
       "      <th>Employed_Days</th>\n",
       "      <td>3649</td>\n",
       "      <td>3.0</td>\n",
       "    </tr>\n",
       "    <tr>\n",
       "      <th>Child_Count</th>\n",
       "      <td>3638</td>\n",
       "      <td>3.0</td>\n",
       "    </tr>\n",
       "    <tr>\n",
       "      <th>Active_Loan</th>\n",
       "      <td>3635</td>\n",
       "      <td>3.0</td>\n",
       "    </tr>\n",
       "    <tr>\n",
       "      <th>Credit_Amount</th>\n",
       "      <td>3632</td>\n",
       "      <td>3.0</td>\n",
       "    </tr>\n",
       "    <tr>\n",
       "      <th>Bike_Owned</th>\n",
       "      <td>3624</td>\n",
       "      <td>3.0</td>\n",
       "    </tr>\n",
       "    <tr>\n",
       "      <th>Registration_Days</th>\n",
       "      <td>3614</td>\n",
       "      <td>3.0</td>\n",
       "    </tr>\n",
       "    <tr>\n",
       "      <th>Client_Income</th>\n",
       "      <td>3607</td>\n",
       "      <td>3.0</td>\n",
       "    </tr>\n",
       "    <tr>\n",
       "      <th>Age_Days</th>\n",
       "      <td>3600</td>\n",
       "      <td>3.0</td>\n",
       "    </tr>\n",
       "    <tr>\n",
       "      <th>Car_Owned</th>\n",
       "      <td>3581</td>\n",
       "      <td>2.9</td>\n",
       "    </tr>\n",
       "    <tr>\n",
       "      <th>Application_Process_Day</th>\n",
       "      <td>2428</td>\n",
       "      <td>2.0</td>\n",
       "    </tr>\n",
       "    <tr>\n",
       "      <th>Client_Family_Members</th>\n",
       "      <td>2410</td>\n",
       "      <td>2.0</td>\n",
       "    </tr>\n",
       "    <tr>\n",
       "      <th>Cleint_City_Rating</th>\n",
       "      <td>2409</td>\n",
       "      <td>2.0</td>\n",
       "    </tr>\n",
       "  </tbody>\n",
       "</table>\n",
       "</div>"
      ],
      "text/plain": [
       "                            Missing Values  % of Total Values\n",
       "Score_Source_1                       68835               56.5\n",
       "Social_Circle_Default                61928               50.8\n",
       "Score_Source_3                       26921               22.1\n",
       "Credit_Bureau                        18540               15.2\n",
       "ID_Days                               5968                4.9\n",
       "Score_Source_2                        5686                4.7\n",
       "Population_Region_Relative            4857                4.0\n",
       "Loan_Annuity                          4812                3.9\n",
       "Phone_Change                          3664                3.0\n",
       "Application_Process_Hour              3663                3.0\n",
       "House_Own                             3661                3.0\n",
       "Employed_Days                         3649                3.0\n",
       "Child_Count                           3638                3.0\n",
       "Active_Loan                           3635                3.0\n",
       "Credit_Amount                         3632                3.0\n",
       "Bike_Owned                            3624                3.0\n",
       "Registration_Days                     3614                3.0\n",
       "Client_Income                         3607                3.0\n",
       "Age_Days                              3600                3.0\n",
       "Car_Owned                             3581                2.9\n",
       "Application_Process_Day               2428                2.0\n",
       "Client_Family_Members                 2410                2.0\n",
       "Cleint_City_Rating                    2409                2.0"
      ]
     },
     "execution_count": 44,
     "metadata": {},
     "output_type": "execute_result"
    }
   ],
   "source": [
    "#checking missing values again\n",
    "missing_values=missing_values_table(train)\n",
    "missing_values"
   ]
  },
  {
   "cell_type": "code",
   "execution_count": 45,
   "metadata": {},
   "outputs": [
    {
     "name": "stdout",
     "output_type": "stream",
     "text": [
      "The total number of columns in train is 38Among them, the number of columns with missing values is 23\n"
     ]
    },
    {
     "data": {
      "text/html": [
       "<div>\n",
       "<style scoped>\n",
       "    .dataframe tbody tr th:only-of-type {\n",
       "        vertical-align: middle;\n",
       "    }\n",
       "\n",
       "    .dataframe tbody tr th {\n",
       "        vertical-align: top;\n",
       "    }\n",
       "\n",
       "    .dataframe thead th {\n",
       "        text-align: right;\n",
       "    }\n",
       "</style>\n",
       "<table border=\"1\" class=\"dataframe\">\n",
       "  <thead>\n",
       "    <tr style=\"text-align: right;\">\n",
       "      <th></th>\n",
       "      <th>Missing Values</th>\n",
       "      <th>% of Total Values</th>\n",
       "    </tr>\n",
       "  </thead>\n",
       "  <tbody>\n",
       "    <tr>\n",
       "      <th>Score_Source_1</th>\n",
       "      <td>45493</td>\n",
       "      <td>56.2</td>\n",
       "    </tr>\n",
       "    <tr>\n",
       "      <th>Social_Circle_Default</th>\n",
       "      <td>41090</td>\n",
       "      <td>50.8</td>\n",
       "    </tr>\n",
       "    <tr>\n",
       "      <th>Score_Source_3</th>\n",
       "      <td>18018</td>\n",
       "      <td>22.3</td>\n",
       "    </tr>\n",
       "    <tr>\n",
       "      <th>Credit_Bureau</th>\n",
       "      <td>12282</td>\n",
       "      <td>15.2</td>\n",
       "    </tr>\n",
       "    <tr>\n",
       "      <th>ID_Days</th>\n",
       "      <td>3881</td>\n",
       "      <td>4.8</td>\n",
       "    </tr>\n",
       "    <tr>\n",
       "      <th>Score_Source_2</th>\n",
       "      <td>3715</td>\n",
       "      <td>4.6</td>\n",
       "    </tr>\n",
       "    <tr>\n",
       "      <th>Population_Region_Relative</th>\n",
       "      <td>3270</td>\n",
       "      <td>4.0</td>\n",
       "    </tr>\n",
       "    <tr>\n",
       "      <th>Loan_Annuity</th>\n",
       "      <td>3203</td>\n",
       "      <td>4.0</td>\n",
       "    </tr>\n",
       "    <tr>\n",
       "      <th>Bike_Owned</th>\n",
       "      <td>2486</td>\n",
       "      <td>3.1</td>\n",
       "    </tr>\n",
       "    <tr>\n",
       "      <th>Age_Days</th>\n",
       "      <td>2479</td>\n",
       "      <td>3.1</td>\n",
       "    </tr>\n",
       "    <tr>\n",
       "      <th>Active_Loan</th>\n",
       "      <td>2454</td>\n",
       "      <td>3.0</td>\n",
       "    </tr>\n",
       "    <tr>\n",
       "      <th>Client_Income</th>\n",
       "      <td>2434</td>\n",
       "      <td>3.0</td>\n",
       "    </tr>\n",
       "    <tr>\n",
       "      <th>Phone_Change</th>\n",
       "      <td>2423</td>\n",
       "      <td>3.0</td>\n",
       "    </tr>\n",
       "    <tr>\n",
       "      <th>Employed_Days</th>\n",
       "      <td>2421</td>\n",
       "      <td>3.0</td>\n",
       "    </tr>\n",
       "    <tr>\n",
       "      <th>Application_Process_Hour</th>\n",
       "      <td>2406</td>\n",
       "      <td>3.0</td>\n",
       "    </tr>\n",
       "    <tr>\n",
       "      <th>Car_Owned</th>\n",
       "      <td>2405</td>\n",
       "      <td>3.0</td>\n",
       "    </tr>\n",
       "    <tr>\n",
       "      <th>Registration_Days</th>\n",
       "      <td>2398</td>\n",
       "      <td>3.0</td>\n",
       "    </tr>\n",
       "    <tr>\n",
       "      <th>House_Own</th>\n",
       "      <td>2347</td>\n",
       "      <td>2.9</td>\n",
       "    </tr>\n",
       "    <tr>\n",
       "      <th>Child_Count</th>\n",
       "      <td>2328</td>\n",
       "      <td>2.9</td>\n",
       "    </tr>\n",
       "    <tr>\n",
       "      <th>Credit_Amount</th>\n",
       "      <td>2287</td>\n",
       "      <td>2.8</td>\n",
       "    </tr>\n",
       "    <tr>\n",
       "      <th>Client_Family_Members</th>\n",
       "      <td>1644</td>\n",
       "      <td>2.0</td>\n",
       "    </tr>\n",
       "    <tr>\n",
       "      <th>Cleint_City_Rating</th>\n",
       "      <td>1631</td>\n",
       "      <td>2.0</td>\n",
       "    </tr>\n",
       "    <tr>\n",
       "      <th>Application_Process_Day</th>\n",
       "      <td>1539</td>\n",
       "      <td>1.9</td>\n",
       "    </tr>\n",
       "  </tbody>\n",
       "</table>\n",
       "</div>"
      ],
      "text/plain": [
       "                            Missing Values  % of Total Values\n",
       "Score_Source_1                       45493               56.2\n",
       "Social_Circle_Default                41090               50.8\n",
       "Score_Source_3                       18018               22.3\n",
       "Credit_Bureau                        12282               15.2\n",
       "ID_Days                               3881                4.8\n",
       "Score_Source_2                        3715                4.6\n",
       "Population_Region_Relative            3270                4.0\n",
       "Loan_Annuity                          3203                4.0\n",
       "Bike_Owned                            2486                3.1\n",
       "Age_Days                              2479                3.1\n",
       "Active_Loan                           2454                3.0\n",
       "Client_Income                         2434                3.0\n",
       "Phone_Change                          2423                3.0\n",
       "Employed_Days                         2421                3.0\n",
       "Application_Process_Hour              2406                3.0\n",
       "Car_Owned                             2405                3.0\n",
       "Registration_Days                     2398                3.0\n",
       "House_Own                             2347                2.9\n",
       "Child_Count                           2328                2.9\n",
       "Credit_Amount                         2287                2.8\n",
       "Client_Family_Members                 1644                2.0\n",
       "Cleint_City_Rating                    1631                2.0\n",
       "Application_Process_Day               1539                1.9"
      ]
     },
     "execution_count": 45,
     "metadata": {},
     "output_type": "execute_result"
    }
   ],
   "source": [
    "missing_valuesT=missing_values_table(test)\n",
    "missing_valuesT"
   ]
  },
  {
   "cell_type": "markdown",
   "metadata": {},
   "source": [
    "<b>Now getting dummies of the same labels"
   ]
  },
  {
   "cell_type": "code",
   "execution_count": 46,
   "metadata": {},
   "outputs": [],
   "source": [
    "#dummies for train data\n",
    "dummies= pd.get_dummies(train[['Accompany_Client','Client_Income_Type','Client_Education','Client_Marital_Status','Client_Gender','Loan_Contract_Type','Client_Housing_Type','Client_Occupation','Type_Organization']])\n",
    "#same for test data\n",
    "dummiesT=pd.get_dummies(test[['Accompany_Client','Client_Income_Type','Client_Education','Client_Marital_Status','Client_Gender','Loan_Contract_Type','Client_Housing_Type','Client_Occupation','Type_Organization']])"
   ]
  },
  {
   "cell_type": "code",
   "execution_count": 47,
   "metadata": {},
   "outputs": [],
   "source": [
    "#now concatenating into the data set\n",
    "train=pd.concat([train,dummies],axis=1)\n",
    "test=pd.concat([test,dummiesT],axis=1)"
   ]
  },
  {
   "cell_type": "code",
   "execution_count": 48,
   "metadata": {},
   "outputs": [],
   "source": [
    "#droping the main labels\n",
    "train.drop(['Accompany_Client','Client_Income_Type','Client_Education','Client_Marital_Status','Client_Gender','Loan_Contract_Type','Client_Housing_Type','Client_Occupation','Type_Organization'],axis=1,inplace=True)\n",
    "test.drop(['Accompany_Client','Client_Income_Type','Client_Education','Client_Marital_Status','Client_Gender','Loan_Contract_Type','Client_Housing_Type','Client_Occupation','Type_Organization'],axis=1,inplace=True)"
   ]
  },
  {
   "cell_type": "markdown",
   "metadata": {},
   "source": [
    "<b> Lets take a look on dataset"
   ]
  },
  {
   "cell_type": "code",
   "execution_count": 49,
   "metadata": {},
   "outputs": [
    {
     "data": {
      "text/html": [
       "<div>\n",
       "<style scoped>\n",
       "    .dataframe tbody tr th:only-of-type {\n",
       "        vertical-align: middle;\n",
       "    }\n",
       "\n",
       "    .dataframe tbody tr th {\n",
       "        vertical-align: top;\n",
       "    }\n",
       "\n",
       "    .dataframe thead th {\n",
       "        text-align: right;\n",
       "    }\n",
       "</style>\n",
       "<table border=\"1\" class=\"dataframe\">\n",
       "  <thead>\n",
       "    <tr style=\"text-align: right;\">\n",
       "      <th></th>\n",
       "      <th>ID</th>\n",
       "      <th>Client_Income</th>\n",
       "      <th>Car_Owned</th>\n",
       "      <th>Bike_Owned</th>\n",
       "      <th>Active_Loan</th>\n",
       "      <th>House_Own</th>\n",
       "      <th>Child_Count</th>\n",
       "      <th>Credit_Amount</th>\n",
       "      <th>Loan_Annuity</th>\n",
       "      <th>Population_Region_Relative</th>\n",
       "      <th>...</th>\n",
       "      <th>Type_Organization_Trade: type 4</th>\n",
       "      <th>Type_Organization_Trade: type 5</th>\n",
       "      <th>Type_Organization_Trade: type 6</th>\n",
       "      <th>Type_Organization_Trade: type 7</th>\n",
       "      <th>Type_Organization_Transport: type 1</th>\n",
       "      <th>Type_Organization_Transport: type 2</th>\n",
       "      <th>Type_Organization_Transport: type 3</th>\n",
       "      <th>Type_Organization_Transport: type 4</th>\n",
       "      <th>Type_Organization_University</th>\n",
       "      <th>Type_Organization_XNA</th>\n",
       "    </tr>\n",
       "  </thead>\n",
       "  <tbody>\n",
       "    <tr>\n",
       "      <th>0</th>\n",
       "      <td>12142509</td>\n",
       "      <td>6750</td>\n",
       "      <td>0.0</td>\n",
       "      <td>0.0</td>\n",
       "      <td>1.0</td>\n",
       "      <td>0.0</td>\n",
       "      <td>0.0</td>\n",
       "      <td>61190.55</td>\n",
       "      <td>3416.85</td>\n",
       "      <td>0.028663</td>\n",
       "      <td>...</td>\n",
       "      <td>0</td>\n",
       "      <td>0</td>\n",
       "      <td>0</td>\n",
       "      <td>0</td>\n",
       "      <td>0</td>\n",
       "      <td>0</td>\n",
       "      <td>0</td>\n",
       "      <td>0</td>\n",
       "      <td>0</td>\n",
       "      <td>0</td>\n",
       "    </tr>\n",
       "    <tr>\n",
       "      <th>1</th>\n",
       "      <td>12138936</td>\n",
       "      <td>20250</td>\n",
       "      <td>1.0</td>\n",
       "      <td>0.0</td>\n",
       "      <td>1.0</td>\n",
       "      <td>NaN</td>\n",
       "      <td>0.0</td>\n",
       "      <td>15282</td>\n",
       "      <td>1826.55</td>\n",
       "      <td>0.008575</td>\n",
       "      <td>...</td>\n",
       "      <td>0</td>\n",
       "      <td>0</td>\n",
       "      <td>0</td>\n",
       "      <td>0</td>\n",
       "      <td>0</td>\n",
       "      <td>0</td>\n",
       "      <td>0</td>\n",
       "      <td>0</td>\n",
       "      <td>0</td>\n",
       "      <td>0</td>\n",
       "    </tr>\n",
       "    <tr>\n",
       "      <th>2</th>\n",
       "      <td>12181264</td>\n",
       "      <td>18000</td>\n",
       "      <td>0.0</td>\n",
       "      <td>0.0</td>\n",
       "      <td>1.0</td>\n",
       "      <td>0.0</td>\n",
       "      <td>1.0</td>\n",
       "      <td>59527.35</td>\n",
       "      <td>2788.2</td>\n",
       "      <td>0.0228</td>\n",
       "      <td>...</td>\n",
       "      <td>0</td>\n",
       "      <td>0</td>\n",
       "      <td>0</td>\n",
       "      <td>0</td>\n",
       "      <td>0</td>\n",
       "      <td>0</td>\n",
       "      <td>0</td>\n",
       "      <td>0</td>\n",
       "      <td>0</td>\n",
       "      <td>0</td>\n",
       "    </tr>\n",
       "    <tr>\n",
       "      <th>3</th>\n",
       "      <td>12188929</td>\n",
       "      <td>15750</td>\n",
       "      <td>0.0</td>\n",
       "      <td>0.0</td>\n",
       "      <td>1.0</td>\n",
       "      <td>1.0</td>\n",
       "      <td>0.0</td>\n",
       "      <td>53870.4</td>\n",
       "      <td>2295.45</td>\n",
       "      <td>0.010556</td>\n",
       "      <td>...</td>\n",
       "      <td>0</td>\n",
       "      <td>0</td>\n",
       "      <td>0</td>\n",
       "      <td>0</td>\n",
       "      <td>0</td>\n",
       "      <td>0</td>\n",
       "      <td>0</td>\n",
       "      <td>0</td>\n",
       "      <td>0</td>\n",
       "      <td>1</td>\n",
       "    </tr>\n",
       "    <tr>\n",
       "      <th>4</th>\n",
       "      <td>12133385</td>\n",
       "      <td>33750</td>\n",
       "      <td>1.0</td>\n",
       "      <td>0.0</td>\n",
       "      <td>1.0</td>\n",
       "      <td>0.0</td>\n",
       "      <td>2.0</td>\n",
       "      <td>133988.4</td>\n",
       "      <td>3547.35</td>\n",
       "      <td>0.020713</td>\n",
       "      <td>...</td>\n",
       "      <td>0</td>\n",
       "      <td>0</td>\n",
       "      <td>0</td>\n",
       "      <td>0</td>\n",
       "      <td>0</td>\n",
       "      <td>0</td>\n",
       "      <td>0</td>\n",
       "      <td>0</td>\n",
       "      <td>0</td>\n",
       "      <td>0</td>\n",
       "    </tr>\n",
       "    <tr>\n",
       "      <th>...</th>\n",
       "      <td>...</td>\n",
       "      <td>...</td>\n",
       "      <td>...</td>\n",
       "      <td>...</td>\n",
       "      <td>...</td>\n",
       "      <td>...</td>\n",
       "      <td>...</td>\n",
       "      <td>...</td>\n",
       "      <td>...</td>\n",
       "      <td>...</td>\n",
       "      <td>...</td>\n",
       "      <td>...</td>\n",
       "      <td>...</td>\n",
       "      <td>...</td>\n",
       "      <td>...</td>\n",
       "      <td>...</td>\n",
       "      <td>...</td>\n",
       "      <td>...</td>\n",
       "      <td>...</td>\n",
       "      <td>...</td>\n",
       "      <td>...</td>\n",
       "    </tr>\n",
       "    <tr>\n",
       "      <th>121851</th>\n",
       "      <td>12207714</td>\n",
       "      <td>29250</td>\n",
       "      <td>0.0</td>\n",
       "      <td>0.0</td>\n",
       "      <td>NaN</td>\n",
       "      <td>1.0</td>\n",
       "      <td>0.0</td>\n",
       "      <td>107820</td>\n",
       "      <td>3165.3</td>\n",
       "      <td>0.031329</td>\n",
       "      <td>...</td>\n",
       "      <td>0</td>\n",
       "      <td>0</td>\n",
       "      <td>0</td>\n",
       "      <td>0</td>\n",
       "      <td>0</td>\n",
       "      <td>0</td>\n",
       "      <td>0</td>\n",
       "      <td>0</td>\n",
       "      <td>0</td>\n",
       "      <td>0</td>\n",
       "    </tr>\n",
       "    <tr>\n",
       "      <th>121852</th>\n",
       "      <td>12173765</td>\n",
       "      <td>15750</td>\n",
       "      <td>0.0</td>\n",
       "      <td>1.0</td>\n",
       "      <td>1.0</td>\n",
       "      <td>0.0</td>\n",
       "      <td>0.0</td>\n",
       "      <td>104256</td>\n",
       "      <td>3388.05</td>\n",
       "      <td>0.018209</td>\n",
       "      <td>...</td>\n",
       "      <td>0</td>\n",
       "      <td>0</td>\n",
       "      <td>0</td>\n",
       "      <td>0</td>\n",
       "      <td>0</td>\n",
       "      <td>0</td>\n",
       "      <td>0</td>\n",
       "      <td>0</td>\n",
       "      <td>0</td>\n",
       "      <td>0</td>\n",
       "    </tr>\n",
       "    <tr>\n",
       "      <th>121853</th>\n",
       "      <td>12103937</td>\n",
       "      <td>8100</td>\n",
       "      <td>0.0</td>\n",
       "      <td>1.0</td>\n",
       "      <td>0.0</td>\n",
       "      <td>1.0</td>\n",
       "      <td>1.0</td>\n",
       "      <td>55107.9</td>\n",
       "      <td>2989.35</td>\n",
       "      <td>0.008068</td>\n",
       "      <td>...</td>\n",
       "      <td>0</td>\n",
       "      <td>0</td>\n",
       "      <td>1</td>\n",
       "      <td>0</td>\n",
       "      <td>0</td>\n",
       "      <td>0</td>\n",
       "      <td>0</td>\n",
       "      <td>0</td>\n",
       "      <td>0</td>\n",
       "      <td>0</td>\n",
       "    </tr>\n",
       "    <tr>\n",
       "      <th>121854</th>\n",
       "      <td>12170623</td>\n",
       "      <td>38250</td>\n",
       "      <td>1.0</td>\n",
       "      <td>1.0</td>\n",
       "      <td>0.0</td>\n",
       "      <td>1.0</td>\n",
       "      <td>0.0</td>\n",
       "      <td>45000</td>\n",
       "      <td>2719.35</td>\n",
       "      <td>0.028663</td>\n",
       "      <td>...</td>\n",
       "      <td>0</td>\n",
       "      <td>0</td>\n",
       "      <td>0</td>\n",
       "      <td>0</td>\n",
       "      <td>0</td>\n",
       "      <td>0</td>\n",
       "      <td>0</td>\n",
       "      <td>0</td>\n",
       "      <td>0</td>\n",
       "      <td>0</td>\n",
       "    </tr>\n",
       "    <tr>\n",
       "      <th>121855</th>\n",
       "      <td>12105610</td>\n",
       "      <td>9000</td>\n",
       "      <td>1.0</td>\n",
       "      <td>1.0</td>\n",
       "      <td>1.0</td>\n",
       "      <td>1.0</td>\n",
       "      <td>1.0</td>\n",
       "      <td>62428.95</td>\n",
       "      <td>4201.65</td>\n",
       "      <td>0.018029</td>\n",
       "      <td>...</td>\n",
       "      <td>0</td>\n",
       "      <td>0</td>\n",
       "      <td>0</td>\n",
       "      <td>0</td>\n",
       "      <td>0</td>\n",
       "      <td>0</td>\n",
       "      <td>0</td>\n",
       "      <td>0</td>\n",
       "      <td>0</td>\n",
       "      <td>0</td>\n",
       "    </tr>\n",
       "  </tbody>\n",
       "</table>\n",
       "<p>121856 rows × 144 columns</p>\n",
       "</div>"
      ],
      "text/plain": [
       "              ID Client_Income  Car_Owned  Bike_Owned  Active_Loan  House_Own  \\\n",
       "0       12142509          6750        0.0         0.0          1.0        0.0   \n",
       "1       12138936         20250        1.0         0.0          1.0        NaN   \n",
       "2       12181264         18000        0.0         0.0          1.0        0.0   \n",
       "3       12188929         15750        0.0         0.0          1.0        1.0   \n",
       "4       12133385         33750        1.0         0.0          1.0        0.0   \n",
       "...          ...           ...        ...         ...          ...        ...   \n",
       "121851  12207714         29250        0.0         0.0          NaN        1.0   \n",
       "121852  12173765         15750        0.0         1.0          1.0        0.0   \n",
       "121853  12103937          8100        0.0         1.0          0.0        1.0   \n",
       "121854  12170623         38250        1.0         1.0          0.0        1.0   \n",
       "121855  12105610          9000        1.0         1.0          1.0        1.0   \n",
       "\n",
       "        Child_Count Credit_Amount Loan_Annuity Population_Region_Relative  \\\n",
       "0               0.0      61190.55      3416.85                   0.028663   \n",
       "1               0.0         15282      1826.55                   0.008575   \n",
       "2               1.0      59527.35       2788.2                     0.0228   \n",
       "3               0.0       53870.4      2295.45                   0.010556   \n",
       "4               2.0      133988.4      3547.35                   0.020713   \n",
       "...             ...           ...          ...                        ...   \n",
       "121851          0.0        107820       3165.3                   0.031329   \n",
       "121852          0.0        104256      3388.05                   0.018209   \n",
       "121853          1.0       55107.9      2989.35                   0.008068   \n",
       "121854          0.0         45000      2719.35                   0.028663   \n",
       "121855          1.0      62428.95      4201.65                   0.018029   \n",
       "\n",
       "        ... Type_Organization_Trade: type 4 Type_Organization_Trade: type 5  \\\n",
       "0       ...                               0                               0   \n",
       "1       ...                               0                               0   \n",
       "2       ...                               0                               0   \n",
       "3       ...                               0                               0   \n",
       "4       ...                               0                               0   \n",
       "...     ...                             ...                             ...   \n",
       "121851  ...                               0                               0   \n",
       "121852  ...                               0                               0   \n",
       "121853  ...                               0                               0   \n",
       "121854  ...                               0                               0   \n",
       "121855  ...                               0                               0   \n",
       "\n",
       "       Type_Organization_Trade: type 6 Type_Organization_Trade: type 7  \\\n",
       "0                                    0                               0   \n",
       "1                                    0                               0   \n",
       "2                                    0                               0   \n",
       "3                                    0                               0   \n",
       "4                                    0                               0   \n",
       "...                                ...                             ...   \n",
       "121851                               0                               0   \n",
       "121852                               0                               0   \n",
       "121853                               1                               0   \n",
       "121854                               0                               0   \n",
       "121855                               0                               0   \n",
       "\n",
       "        Type_Organization_Transport: type 1  \\\n",
       "0                                         0   \n",
       "1                                         0   \n",
       "2                                         0   \n",
       "3                                         0   \n",
       "4                                         0   \n",
       "...                                     ...   \n",
       "121851                                    0   \n",
       "121852                                    0   \n",
       "121853                                    0   \n",
       "121854                                    0   \n",
       "121855                                    0   \n",
       "\n",
       "        Type_Organization_Transport: type 2  \\\n",
       "0                                         0   \n",
       "1                                         0   \n",
       "2                                         0   \n",
       "3                                         0   \n",
       "4                                         0   \n",
       "...                                     ...   \n",
       "121851                                    0   \n",
       "121852                                    0   \n",
       "121853                                    0   \n",
       "121854                                    0   \n",
       "121855                                    0   \n",
       "\n",
       "        Type_Organization_Transport: type 3  \\\n",
       "0                                         0   \n",
       "1                                         0   \n",
       "2                                         0   \n",
       "3                                         0   \n",
       "4                                         0   \n",
       "...                                     ...   \n",
       "121851                                    0   \n",
       "121852                                    0   \n",
       "121853                                    0   \n",
       "121854                                    0   \n",
       "121855                                    0   \n",
       "\n",
       "        Type_Organization_Transport: type 4  Type_Organization_University  \\\n",
       "0                                         0                             0   \n",
       "1                                         0                             0   \n",
       "2                                         0                             0   \n",
       "3                                         0                             0   \n",
       "4                                         0                             0   \n",
       "...                                     ...                           ...   \n",
       "121851                                    0                             0   \n",
       "121852                                    0                             0   \n",
       "121853                                    0                             0   \n",
       "121854                                    0                             0   \n",
       "121855                                    0                             0   \n",
       "\n",
       "        Type_Organization_XNA  \n",
       "0                           0  \n",
       "1                           0  \n",
       "2                           0  \n",
       "3                           1  \n",
       "4                           0  \n",
       "...                       ...  \n",
       "121851                      0  \n",
       "121852                      0  \n",
       "121853                      0  \n",
       "121854                      0  \n",
       "121855                      0  \n",
       "\n",
       "[121856 rows x 144 columns]"
      ]
     },
     "execution_count": 49,
     "metadata": {},
     "output_type": "execute_result"
    }
   ],
   "source": [
    "train"
   ]
  },
  {
   "cell_type": "code",
   "execution_count": 50,
   "metadata": {},
   "outputs": [
    {
     "data": {
      "text/html": [
       "<div>\n",
       "<style scoped>\n",
       "    .dataframe tbody tr th:only-of-type {\n",
       "        vertical-align: middle;\n",
       "    }\n",
       "\n",
       "    .dataframe tbody tr th {\n",
       "        vertical-align: top;\n",
       "    }\n",
       "\n",
       "    .dataframe thead th {\n",
       "        text-align: right;\n",
       "    }\n",
       "</style>\n",
       "<table border=\"1\" class=\"dataframe\">\n",
       "  <thead>\n",
       "    <tr style=\"text-align: right;\">\n",
       "      <th></th>\n",
       "      <th>ID</th>\n",
       "      <th>Client_Income</th>\n",
       "      <th>Car_Owned</th>\n",
       "      <th>Bike_Owned</th>\n",
       "      <th>Active_Loan</th>\n",
       "      <th>House_Own</th>\n",
       "      <th>Child_Count</th>\n",
       "      <th>Credit_Amount</th>\n",
       "      <th>Loan_Annuity</th>\n",
       "      <th>Population_Region_Relative</th>\n",
       "      <th>...</th>\n",
       "      <th>Type_Organization_Trade: type 4</th>\n",
       "      <th>Type_Organization_Trade: type 5</th>\n",
       "      <th>Type_Organization_Trade: type 6</th>\n",
       "      <th>Type_Organization_Trade: type 7</th>\n",
       "      <th>Type_Organization_Transport: type 1</th>\n",
       "      <th>Type_Organization_Transport: type 2</th>\n",
       "      <th>Type_Organization_Transport: type 3</th>\n",
       "      <th>Type_Organization_Transport: type 4</th>\n",
       "      <th>Type_Organization_University</th>\n",
       "      <th>Type_Organization_XNA</th>\n",
       "    </tr>\n",
       "  </thead>\n",
       "  <tbody>\n",
       "    <tr>\n",
       "      <th>0</th>\n",
       "      <td>12202227</td>\n",
       "      <td>11250</td>\n",
       "      <td>0.0</td>\n",
       "      <td>1.0</td>\n",
       "      <td>1.0</td>\n",
       "      <td>1.0</td>\n",
       "      <td>0.0</td>\n",
       "      <td>112500</td>\n",
       "      <td>4474.8</td>\n",
       "      <td>0.019101</td>\n",
       "      <td>...</td>\n",
       "      <td>0</td>\n",
       "      <td>0</td>\n",
       "      <td>0</td>\n",
       "      <td>0</td>\n",
       "      <td>0</td>\n",
       "      <td>0</td>\n",
       "      <td>0</td>\n",
       "      <td>0</td>\n",
       "      <td>0</td>\n",
       "      <td>0</td>\n",
       "    </tr>\n",
       "    <tr>\n",
       "      <th>1</th>\n",
       "      <td>12279381</td>\n",
       "      <td>13500</td>\n",
       "      <td>1.0</td>\n",
       "      <td>1.0</td>\n",
       "      <td>1.0</td>\n",
       "      <td>1.0</td>\n",
       "      <td>3.0</td>\n",
       "      <td>49752</td>\n",
       "      <td>3252.15</td>\n",
       "      <td>0.0105</td>\n",
       "      <td>...</td>\n",
       "      <td>0</td>\n",
       "      <td>0</td>\n",
       "      <td>0</td>\n",
       "      <td>0</td>\n",
       "      <td>0</td>\n",
       "      <td>0</td>\n",
       "      <td>0</td>\n",
       "      <td>0</td>\n",
       "      <td>0</td>\n",
       "      <td>0</td>\n",
       "    </tr>\n",
       "    <tr>\n",
       "      <th>2</th>\n",
       "      <td>12222714</td>\n",
       "      <td>38250</td>\n",
       "      <td>0.0</td>\n",
       "      <td>1.0</td>\n",
       "      <td>0.0</td>\n",
       "      <td>1.0</td>\n",
       "      <td>0.0</td>\n",
       "      <td>67500</td>\n",
       "      <td>3375</td>\n",
       "      <td>0.032561</td>\n",
       "      <td>...</td>\n",
       "      <td>0</td>\n",
       "      <td>0</td>\n",
       "      <td>0</td>\n",
       "      <td>0</td>\n",
       "      <td>0</td>\n",
       "      <td>0</td>\n",
       "      <td>0</td>\n",
       "      <td>0</td>\n",
       "      <td>0</td>\n",
       "      <td>0</td>\n",
       "    </tr>\n",
       "    <tr>\n",
       "      <th>3</th>\n",
       "      <td>12265215</td>\n",
       "      <td>20250</td>\n",
       "      <td>0.0</td>\n",
       "      <td>0.0</td>\n",
       "      <td>1.0</td>\n",
       "      <td>0.0</td>\n",
       "      <td>0.0</td>\n",
       "      <td>50849.55</td>\n",
       "      <td>3814.65</td>\n",
       "      <td>0.01452</td>\n",
       "      <td>...</td>\n",
       "      <td>0</td>\n",
       "      <td>0</td>\n",
       "      <td>0</td>\n",
       "      <td>0</td>\n",
       "      <td>0</td>\n",
       "      <td>0</td>\n",
       "      <td>0</td>\n",
       "      <td>0</td>\n",
       "      <td>0</td>\n",
       "      <td>0</td>\n",
       "    </tr>\n",
       "    <tr>\n",
       "      <th>4</th>\n",
       "      <td>12203970</td>\n",
       "      <td>13500</td>\n",
       "      <td>1.0</td>\n",
       "      <td>1.0</td>\n",
       "      <td>0.0</td>\n",
       "      <td>1.0</td>\n",
       "      <td>0.0</td>\n",
       "      <td>43603.2</td>\n",
       "      <td>2515.95</td>\n",
       "      <td>0.008625</td>\n",
       "      <td>...</td>\n",
       "      <td>0</td>\n",
       "      <td>0</td>\n",
       "      <td>0</td>\n",
       "      <td>0</td>\n",
       "      <td>0</td>\n",
       "      <td>0</td>\n",
       "      <td>0</td>\n",
       "      <td>0</td>\n",
       "      <td>0</td>\n",
       "      <td>0</td>\n",
       "    </tr>\n",
       "    <tr>\n",
       "      <th>...</th>\n",
       "      <td>...</td>\n",
       "      <td>...</td>\n",
       "      <td>...</td>\n",
       "      <td>...</td>\n",
       "      <td>...</td>\n",
       "      <td>...</td>\n",
       "      <td>...</td>\n",
       "      <td>...</td>\n",
       "      <td>...</td>\n",
       "      <td>...</td>\n",
       "      <td>...</td>\n",
       "      <td>...</td>\n",
       "      <td>...</td>\n",
       "      <td>...</td>\n",
       "      <td>...</td>\n",
       "      <td>...</td>\n",
       "      <td>...</td>\n",
       "      <td>...</td>\n",
       "      <td>...</td>\n",
       "      <td>...</td>\n",
       "      <td>...</td>\n",
       "    </tr>\n",
       "    <tr>\n",
       "      <th>80895</th>\n",
       "      <td>12210181</td>\n",
       "      <td>11700</td>\n",
       "      <td>0.0</td>\n",
       "      <td>0.0</td>\n",
       "      <td>0.0</td>\n",
       "      <td>1.0</td>\n",
       "      <td>2.0</td>\n",
       "      <td>107820</td>\n",
       "      <td>3152.25</td>\n",
       "      <td>0.00963</td>\n",
       "      <td>...</td>\n",
       "      <td>0</td>\n",
       "      <td>0</td>\n",
       "      <td>0</td>\n",
       "      <td>0</td>\n",
       "      <td>0</td>\n",
       "      <td>0</td>\n",
       "      <td>0</td>\n",
       "      <td>0</td>\n",
       "      <td>0</td>\n",
       "      <td>0</td>\n",
       "    </tr>\n",
       "    <tr>\n",
       "      <th>80896</th>\n",
       "      <td>12206257</td>\n",
       "      <td>29250</td>\n",
       "      <td>0.0</td>\n",
       "      <td>1.0</td>\n",
       "      <td>1.0</td>\n",
       "      <td>1.0</td>\n",
       "      <td>2.0</td>\n",
       "      <td>116430.75</td>\n",
       "      <td>4630.5</td>\n",
       "      <td>0.04622</td>\n",
       "      <td>...</td>\n",
       "      <td>0</td>\n",
       "      <td>0</td>\n",
       "      <td>0</td>\n",
       "      <td>0</td>\n",
       "      <td>0</td>\n",
       "      <td>0</td>\n",
       "      <td>0</td>\n",
       "      <td>0</td>\n",
       "      <td>0</td>\n",
       "      <td>0</td>\n",
       "    </tr>\n",
       "    <tr>\n",
       "      <th>80897</th>\n",
       "      <td>12200446</td>\n",
       "      <td>54000</td>\n",
       "      <td>1.0</td>\n",
       "      <td>0.0</td>\n",
       "      <td>1.0</td>\n",
       "      <td>1.0</td>\n",
       "      <td>0.0</td>\n",
       "      <td>52128</td>\n",
       "      <td>2742.3</td>\n",
       "      <td>0.030755</td>\n",
       "      <td>...</td>\n",
       "      <td>0</td>\n",
       "      <td>0</td>\n",
       "      <td>0</td>\n",
       "      <td>0</td>\n",
       "      <td>0</td>\n",
       "      <td>0</td>\n",
       "      <td>0</td>\n",
       "      <td>0</td>\n",
       "      <td>0</td>\n",
       "      <td>0</td>\n",
       "    </tr>\n",
       "    <tr>\n",
       "      <th>80898</th>\n",
       "      <td>12244943</td>\n",
       "      <td>13500</td>\n",
       "      <td>0.0</td>\n",
       "      <td>0.0</td>\n",
       "      <td>1.0</td>\n",
       "      <td>0.0</td>\n",
       "      <td>0.0</td>\n",
       "      <td>25470</td>\n",
       "      <td>1435.05</td>\n",
       "      <td>0.014464</td>\n",
       "      <td>...</td>\n",
       "      <td>0</td>\n",
       "      <td>0</td>\n",
       "      <td>0</td>\n",
       "      <td>0</td>\n",
       "      <td>0</td>\n",
       "      <td>0</td>\n",
       "      <td>0</td>\n",
       "      <td>0</td>\n",
       "      <td>0</td>\n",
       "      <td>0</td>\n",
       "    </tr>\n",
       "    <tr>\n",
       "      <th>80899</th>\n",
       "      <td>12229890</td>\n",
       "      <td>10350</td>\n",
       "      <td>1.0</td>\n",
       "      <td>0.0</td>\n",
       "      <td>0.0</td>\n",
       "      <td>0.0</td>\n",
       "      <td>1.0</td>\n",
       "      <td>26955</td>\n",
       "      <td>1475.1</td>\n",
       "      <td>0.018209</td>\n",
       "      <td>...</td>\n",
       "      <td>0</td>\n",
       "      <td>0</td>\n",
       "      <td>0</td>\n",
       "      <td>0</td>\n",
       "      <td>0</td>\n",
       "      <td>0</td>\n",
       "      <td>0</td>\n",
       "      <td>0</td>\n",
       "      <td>0</td>\n",
       "      <td>0</td>\n",
       "    </tr>\n",
       "  </tbody>\n",
       "</table>\n",
       "<p>80900 rows × 143 columns</p>\n",
       "</div>"
      ],
      "text/plain": [
       "             ID Client_Income  Car_Owned  Bike_Owned  Active_Loan  House_Own  \\\n",
       "0      12202227         11250        0.0         1.0          1.0        1.0   \n",
       "1      12279381         13500        1.0         1.0          1.0        1.0   \n",
       "2      12222714         38250        0.0         1.0          0.0        1.0   \n",
       "3      12265215         20250        0.0         0.0          1.0        0.0   \n",
       "4      12203970         13500        1.0         1.0          0.0        1.0   \n",
       "...         ...           ...        ...         ...          ...        ...   \n",
       "80895  12210181         11700        0.0         0.0          0.0        1.0   \n",
       "80896  12206257         29250        0.0         1.0          1.0        1.0   \n",
       "80897  12200446         54000        1.0         0.0          1.0        1.0   \n",
       "80898  12244943         13500        0.0         0.0          1.0        0.0   \n",
       "80899  12229890         10350        1.0         0.0          0.0        0.0   \n",
       "\n",
       "       Child_Count Credit_Amount Loan_Annuity Population_Region_Relative  ...  \\\n",
       "0              0.0        112500       4474.8                   0.019101  ...   \n",
       "1              3.0         49752      3252.15                     0.0105  ...   \n",
       "2              0.0         67500         3375                   0.032561  ...   \n",
       "3              0.0      50849.55      3814.65                    0.01452  ...   \n",
       "4              0.0       43603.2      2515.95                   0.008625  ...   \n",
       "...            ...           ...          ...                        ...  ...   \n",
       "80895          2.0        107820      3152.25                    0.00963  ...   \n",
       "80896          2.0     116430.75       4630.5                    0.04622  ...   \n",
       "80897          0.0         52128       2742.3                   0.030755  ...   \n",
       "80898          0.0         25470      1435.05                   0.014464  ...   \n",
       "80899          1.0         26955       1475.1                   0.018209  ...   \n",
       "\n",
       "      Type_Organization_Trade: type 4 Type_Organization_Trade: type 5  \\\n",
       "0                                   0                               0   \n",
       "1                                   0                               0   \n",
       "2                                   0                               0   \n",
       "3                                   0                               0   \n",
       "4                                   0                               0   \n",
       "...                               ...                             ...   \n",
       "80895                               0                               0   \n",
       "80896                               0                               0   \n",
       "80897                               0                               0   \n",
       "80898                               0                               0   \n",
       "80899                               0                               0   \n",
       "\n",
       "      Type_Organization_Trade: type 6 Type_Organization_Trade: type 7  \\\n",
       "0                                   0                               0   \n",
       "1                                   0                               0   \n",
       "2                                   0                               0   \n",
       "3                                   0                               0   \n",
       "4                                   0                               0   \n",
       "...                               ...                             ...   \n",
       "80895                               0                               0   \n",
       "80896                               0                               0   \n",
       "80897                               0                               0   \n",
       "80898                               0                               0   \n",
       "80899                               0                               0   \n",
       "\n",
       "       Type_Organization_Transport: type 1  \\\n",
       "0                                        0   \n",
       "1                                        0   \n",
       "2                                        0   \n",
       "3                                        0   \n",
       "4                                        0   \n",
       "...                                    ...   \n",
       "80895                                    0   \n",
       "80896                                    0   \n",
       "80897                                    0   \n",
       "80898                                    0   \n",
       "80899                                    0   \n",
       "\n",
       "       Type_Organization_Transport: type 2  \\\n",
       "0                                        0   \n",
       "1                                        0   \n",
       "2                                        0   \n",
       "3                                        0   \n",
       "4                                        0   \n",
       "...                                    ...   \n",
       "80895                                    0   \n",
       "80896                                    0   \n",
       "80897                                    0   \n",
       "80898                                    0   \n",
       "80899                                    0   \n",
       "\n",
       "       Type_Organization_Transport: type 3  \\\n",
       "0                                        0   \n",
       "1                                        0   \n",
       "2                                        0   \n",
       "3                                        0   \n",
       "4                                        0   \n",
       "...                                    ...   \n",
       "80895                                    0   \n",
       "80896                                    0   \n",
       "80897                                    0   \n",
       "80898                                    0   \n",
       "80899                                    0   \n",
       "\n",
       "       Type_Organization_Transport: type 4  Type_Organization_University  \\\n",
       "0                                        0                             0   \n",
       "1                                        0                             0   \n",
       "2                                        0                             0   \n",
       "3                                        0                             0   \n",
       "4                                        0                             0   \n",
       "...                                    ...                           ...   \n",
       "80895                                    0                             0   \n",
       "80896                                    0                             0   \n",
       "80897                                    0                             0   \n",
       "80898                                    0                             0   \n",
       "80899                                    0                             0   \n",
       "\n",
       "       Type_Organization_XNA  \n",
       "0                          0  \n",
       "1                          0  \n",
       "2                          0  \n",
       "3                          0  \n",
       "4                          0  \n",
       "...                      ...  \n",
       "80895                      0  \n",
       "80896                      0  \n",
       "80897                      0  \n",
       "80898                      0  \n",
       "80899                      0  \n",
       "\n",
       "[80900 rows x 143 columns]"
      ]
     },
     "execution_count": 50,
     "metadata": {},
     "output_type": "execute_result"
    }
   ],
   "source": [
    "test"
   ]
  },
  {
   "cell_type": "markdown",
   "metadata": {},
   "source": [
    "<b> coming back to lables with object data type"
   ]
  },
  {
   "cell_type": "code",
   "execution_count": 51,
   "metadata": {},
   "outputs": [
    {
     "data": {
      "text/plain": [
       "Client_Income                  1516\n",
       "Credit_Amount                  6816\n",
       "Loan_Annuity                  16680\n",
       "Population_Region_Relative      164\n",
       "Age_Days                      22583\n",
       "Employed_Days                 13220\n",
       "Registration_Days             19254\n",
       "ID_Days                        9655\n",
       "Score_Source_3                 1430\n",
       "dtype: int64"
      ]
     },
     "execution_count": 51,
     "metadata": {},
     "output_type": "execute_result"
    }
   ],
   "source": [
    "train.select_dtypes('object').nunique()"
   ]
  },
  {
   "cell_type": "code",
   "execution_count": 52,
   "metadata": {},
   "outputs": [],
   "source": [
    "#converting the above labels into float data type\n",
    "train['Client_Income']=train['Client_Income'].replace('$',0)\n",
    "train['Client_Income']=train['Client_Income'].astype('float')\n",
    "\n",
    "train['Credit_Amount']=train['Credit_Amount'].replace('$',0)\n",
    "train['Credit_Amount']=train['Credit_Amount'].astype('float')\n",
    "\n",
    "train['Loan_Annuity']=train['Loan_Annuity'].replace(['$','#VALUE!'],0)\n",
    "train['Loan_Annuity']=train['Loan_Annuity'].astype('float')\n",
    "\n",
    "train['Population_Region_Relative']=train['Population_Region_Relative'].replace(['@','#'],0)\n",
    "train['Population_Region_Relative']=train['Population_Region_Relative'].astype('float')\n",
    "\n",
    "train['Age_Days']=train['Age_Days'].replace('x',0)\n",
    "train['Age_Days']=train['Age_Days'].astype('float')\n",
    "\n",
    "train['Employed_Days']=train['Employed_Days'].replace('x',0)\n",
    "train['Employed_Days']=train['Employed_Days'].astype('float')\n",
    "\n",
    "train['Registration_Days']=train['Registration_Days'].replace('x',0)\n",
    "train['Registration_Days']=train['Registration_Days'].astype('float')\n",
    "\n",
    "train['ID_Days']=train['ID_Days'].replace('x',0)\n",
    "train['ID_Days']=train['ID_Days'].astype('float')\n",
    "\n",
    "train['Score_Source_3']=train['Score_Source_3'].replace('&',0)\n",
    "train['Score_Source_3']=train['Score_Source_3'].astype('float')"
   ]
  },
  {
   "cell_type": "code",
   "execution_count": 53,
   "metadata": {},
   "outputs": [
    {
     "data": {
      "text/plain": [
       "Series([], dtype: float64)"
      ]
     },
     "execution_count": 53,
     "metadata": {},
     "output_type": "execute_result"
    }
   ],
   "source": [
    "#checking\n",
    "train.select_dtypes('object').nunique()"
   ]
  },
  {
   "cell_type": "code",
   "execution_count": 54,
   "metadata": {},
   "outputs": [],
   "source": [
    "#converting same for test data set\n",
    "test['Client_Income']=test['Client_Income'].replace('$',0)\n",
    "test['Client_Income']=test['Client_Income'].astype('float')\n",
    "\n",
    "test['Credit_Amount']=test['Credit_Amount'].replace('$',0)\n",
    "test['Credit_Amount']=test['Credit_Amount'].astype('float')\n",
    "\n",
    "test['Loan_Annuity']=test['Loan_Annuity'].replace(['$','#VALUE!'],0)\n",
    "test['Loan_Annuity']=test['Loan_Annuity'].astype('float')\n",
    "\n",
    "test['Population_Region_Relative']=test['Population_Region_Relative'].replace(['@','#'],0)\n",
    "test['Population_Region_Relative']=test['Population_Region_Relative'].astype('float')\n",
    "\n",
    "test['Age_Days']=test['Age_Days'].replace('x',0)\n",
    "test['Age_Days']=test['Age_Days'].astype('float')\n",
    "\n",
    "test['Employed_Days']=test['Employed_Days'].replace('x',0)\n",
    "test['Employed_Days']=test['Employed_Days'].astype('float')\n",
    "\n",
    "test['Registration_Days']=test['Registration_Days'].replace('x',0)\n",
    "test['Registration_Days']=test['Registration_Days'].astype('float')\n",
    "\n",
    "test['ID_Days']=test['ID_Days'].replace('x',0)\n",
    "test['ID_Days']=test['ID_Days'].astype('float')\n",
    "\n",
    "test['Score_Source_3']=test['Score_Source_3'].replace(['&','#'],0)\n",
    "test['Score_Source_3']=test['Score_Source_3'].astype('float')\n",
    "\n",
    "test['Score_Source_2']=test['Score_Source_2'].replace(['&','#'],0)\n",
    "test['Score_Source_2']=test['Score_Source_2'].astype('float')"
   ]
  },
  {
   "cell_type": "code",
   "execution_count": 55,
   "metadata": {},
   "outputs": [
    {
     "data": {
      "text/plain": [
       "Series([], dtype: float64)"
      ]
     },
     "execution_count": 55,
     "metadata": {},
     "output_type": "execute_result"
    }
   ],
   "source": [
    "#checking\n",
    "test.select_dtypes('object').nunique()"
   ]
  },
  {
   "cell_type": "markdown",
   "metadata": {},
   "source": [
    "<b> droping missing values"
   ]
  },
  {
   "cell_type": "code",
   "execution_count": 56,
   "metadata": {},
   "outputs": [
    {
     "data": {
      "text/html": [
       "<div>\n",
       "<style scoped>\n",
       "    .dataframe tbody tr th:only-of-type {\n",
       "        vertical-align: middle;\n",
       "    }\n",
       "\n",
       "    .dataframe tbody tr th {\n",
       "        vertical-align: top;\n",
       "    }\n",
       "\n",
       "    .dataframe thead th {\n",
       "        text-align: right;\n",
       "    }\n",
       "</style>\n",
       "<table border=\"1\" class=\"dataframe\">\n",
       "  <thead>\n",
       "    <tr style=\"text-align: right;\">\n",
       "      <th></th>\n",
       "      <th>Missing Values</th>\n",
       "      <th>% of Total Values</th>\n",
       "    </tr>\n",
       "  </thead>\n",
       "  <tbody>\n",
       "    <tr>\n",
       "      <th>Score_Source_1</th>\n",
       "      <td>68835</td>\n",
       "      <td>56.5</td>\n",
       "    </tr>\n",
       "    <tr>\n",
       "      <th>Social_Circle_Default</th>\n",
       "      <td>61928</td>\n",
       "      <td>50.8</td>\n",
       "    </tr>\n",
       "    <tr>\n",
       "      <th>Score_Source_3</th>\n",
       "      <td>26921</td>\n",
       "      <td>22.1</td>\n",
       "    </tr>\n",
       "    <tr>\n",
       "      <th>Credit_Bureau</th>\n",
       "      <td>18540</td>\n",
       "      <td>15.2</td>\n",
       "    </tr>\n",
       "    <tr>\n",
       "      <th>ID_Days</th>\n",
       "      <td>5968</td>\n",
       "      <td>4.9</td>\n",
       "    </tr>\n",
       "    <tr>\n",
       "      <th>Score_Source_2</th>\n",
       "      <td>5686</td>\n",
       "      <td>4.7</td>\n",
       "    </tr>\n",
       "    <tr>\n",
       "      <th>Population_Region_Relative</th>\n",
       "      <td>4857</td>\n",
       "      <td>4.0</td>\n",
       "    </tr>\n",
       "    <tr>\n",
       "      <th>Loan_Annuity</th>\n",
       "      <td>4812</td>\n",
       "      <td>3.9</td>\n",
       "    </tr>\n",
       "    <tr>\n",
       "      <th>Phone_Change</th>\n",
       "      <td>3664</td>\n",
       "      <td>3.0</td>\n",
       "    </tr>\n",
       "    <tr>\n",
       "      <th>Application_Process_Hour</th>\n",
       "      <td>3663</td>\n",
       "      <td>3.0</td>\n",
       "    </tr>\n",
       "    <tr>\n",
       "      <th>House_Own</th>\n",
       "      <td>3661</td>\n",
       "      <td>3.0</td>\n",
       "    </tr>\n",
       "    <tr>\n",
       "      <th>Employed_Days</th>\n",
       "      <td>3649</td>\n",
       "      <td>3.0</td>\n",
       "    </tr>\n",
       "    <tr>\n",
       "      <th>Child_Count</th>\n",
       "      <td>3638</td>\n",
       "      <td>3.0</td>\n",
       "    </tr>\n",
       "    <tr>\n",
       "      <th>Active_Loan</th>\n",
       "      <td>3635</td>\n",
       "      <td>3.0</td>\n",
       "    </tr>\n",
       "    <tr>\n",
       "      <th>Credit_Amount</th>\n",
       "      <td>3632</td>\n",
       "      <td>3.0</td>\n",
       "    </tr>\n",
       "    <tr>\n",
       "      <th>Bike_Owned</th>\n",
       "      <td>3624</td>\n",
       "      <td>3.0</td>\n",
       "    </tr>\n",
       "    <tr>\n",
       "      <th>Registration_Days</th>\n",
       "      <td>3614</td>\n",
       "      <td>3.0</td>\n",
       "    </tr>\n",
       "    <tr>\n",
       "      <th>Client_Income</th>\n",
       "      <td>3607</td>\n",
       "      <td>3.0</td>\n",
       "    </tr>\n",
       "    <tr>\n",
       "      <th>Age_Days</th>\n",
       "      <td>3600</td>\n",
       "      <td>3.0</td>\n",
       "    </tr>\n",
       "    <tr>\n",
       "      <th>Car_Owned</th>\n",
       "      <td>3581</td>\n",
       "      <td>2.9</td>\n",
       "    </tr>\n",
       "    <tr>\n",
       "      <th>Application_Process_Day</th>\n",
       "      <td>2428</td>\n",
       "      <td>2.0</td>\n",
       "    </tr>\n",
       "    <tr>\n",
       "      <th>Client_Family_Members</th>\n",
       "      <td>2410</td>\n",
       "      <td>2.0</td>\n",
       "    </tr>\n",
       "    <tr>\n",
       "      <th>Cleint_City_Rating</th>\n",
       "      <td>2409</td>\n",
       "      <td>2.0</td>\n",
       "    </tr>\n",
       "  </tbody>\n",
       "</table>\n",
       "</div>"
      ],
      "text/plain": [
       "                            Missing Values  % of Total Values\n",
       "Score_Source_1                       68835               56.5\n",
       "Social_Circle_Default                61928               50.8\n",
       "Score_Source_3                       26921               22.1\n",
       "Credit_Bureau                        18540               15.2\n",
       "ID_Days                               5968                4.9\n",
       "Score_Source_2                        5686                4.7\n",
       "Population_Region_Relative            4857                4.0\n",
       "Loan_Annuity                          4812                3.9\n",
       "Phone_Change                          3664                3.0\n",
       "Application_Process_Hour              3663                3.0\n",
       "House_Own                             3661                3.0\n",
       "Employed_Days                         3649                3.0\n",
       "Child_Count                           3638                3.0\n",
       "Active_Loan                           3635                3.0\n",
       "Credit_Amount                         3632                3.0\n",
       "Bike_Owned                            3624                3.0\n",
       "Registration_Days                     3614                3.0\n",
       "Client_Income                         3607                3.0\n",
       "Age_Days                              3600                3.0\n",
       "Car_Owned                             3581                2.9\n",
       "Application_Process_Day               2428                2.0\n",
       "Client_Family_Members                 2410                2.0\n",
       "Cleint_City_Rating                    2409                2.0"
      ]
     },
     "execution_count": 56,
     "metadata": {},
     "output_type": "execute_result"
    }
   ],
   "source": [
    "missing_values"
   ]
  },
  {
   "cell_type": "markdown",
   "metadata": {},
   "source": [
    "<b> checking correlation"
   ]
  },
  {
   "cell_type": "code",
   "execution_count": 57,
   "metadata": {},
   "outputs": [
    {
     "name": "stdout",
     "output_type": "stream",
     "text": [
      "Most Positive Correlations:\n",
      " Type_Organization_Business Entity Type 3    0.021151\n",
      "Homephone_Tag                               0.021593\n",
      "Client_Marital_Status_S                     0.022002\n",
      "Client_Housing_Type_Family                  0.022035\n",
      "Type_Organization_Construction              0.022842\n",
      "Client_Occupation_Low-skill Laborers        0.026848\n",
      "Loan_Contract_Type_CL                       0.027093\n",
      "Client_Occupation_Drivers                   0.027207\n",
      "Type_Organization_Self-employed             0.028302\n",
      "Client_Occupation_Laborers                  0.039883\n",
      "Client_Gender_Female                        0.050571\n",
      "Client_Income_Type_Service                  0.051520\n",
      "Client_Education_Secondary                  0.055254\n",
      "Cleint_City_Rating                          0.058857\n",
      "Default                                     1.000000\n",
      "Name: Default, dtype: float64\n",
      "\n",
      "Most Negative Correlations:\n",
      " Score_Source_3                 -0.175590\n",
      "Score_Source_1                 -0.146809\n",
      "Age_Days                       -0.073956\n",
      "Client_Education_Graduation    -0.061182\n",
      "Phone_Change                   -0.054591\n",
      "ID_Days                        -0.054047\n",
      "Client_Gender_Male             -0.049945\n",
      "Employed_Days                  -0.044852\n",
      "Client_Income_Type_Retired     -0.042553\n",
      "Client_Permanent_Match_Tag     -0.042477\n",
      "Type_Organization_XNA          -0.042391\n",
      "Registration_Days              -0.038499\n",
      "Score_Source_2                 -0.038085\n",
      "Client_Occupation_Unemployed   -0.035002\n",
      "Social_Circle_Default          -0.032631\n",
      "Name: Default, dtype: float64\n"
     ]
    }
   ],
   "source": [
    "# Correlation with Default variable\n",
    "correlations=train.corr()['Default'].sort_values()\n",
    "\n",
    "print('Most Positive Correlations:\\n', correlations.tail(15))\n",
    "print('\\nMost Negative Correlations:\\n', correlations.head(15))"
   ]
  },
  {
   "cell_type": "markdown",
   "metadata": {},
   "source": [
    "<b>as we can see that  Score_Source_1 & Social_Circle_Default are negatively correlated and has the hieghest no. of null values thus droping them as well as Score_Source_2 & Score_Source_3 due to their negative correlation"
   ]
  },
  {
   "cell_type": "code",
   "execution_count": 58,
   "metadata": {},
   "outputs": [],
   "source": [
    "train.drop(['Score_Source_1','Social_Circle_Default','Score_Source_2','Score_Source_3'], axis=1, inplace=True)\n",
    "test.drop(['Score_Source_1','Social_Circle_Default','Score_Source_2','Score_Source_3'], axis=1, inplace=True)"
   ]
  },
  {
   "cell_type": "markdown",
   "metadata": {},
   "source": [
    "<b>considering null values in  credit bureau as 0.0\n",
    "also dropping the remaining missing values from the labels as they are less in numbers"
   ]
  },
  {
   "cell_type": "code",
   "execution_count": 59,
   "metadata": {},
   "outputs": [],
   "source": [
    "train['Credit_Bureau']=train['Credit_Bureau'].replace('Nan',0.0)\n",
    "test['Credit_Bureau']=test['Credit_Bureau'].replace('Nan',0.0)"
   ]
  },
  {
   "cell_type": "code",
   "execution_count": 60,
   "metadata": {},
   "outputs": [
    {
     "name": "stdout",
     "output_type": "stream",
     "text": [
      "The total number of columns in train is 140Among them, the number of columns with missing values is 19\n",
      "                            Missing Values  % of Total Values\n",
      "Credit_Bureau                        18540               15.2\n",
      "ID_Days                               5968                4.9\n",
      "Population_Region_Relative            4857                4.0\n",
      "Loan_Annuity                          4812                3.9\n",
      "Phone_Change                          3664                3.0\n",
      "Application_Process_Hour              3663                3.0\n",
      "House_Own                             3661                3.0\n",
      "Employed_Days                         3649                3.0\n",
      "Child_Count                           3638                3.0\n",
      "Active_Loan                           3635                3.0\n",
      "Credit_Amount                         3632                3.0\n",
      "Bike_Owned                            3624                3.0\n",
      "Registration_Days                     3614                3.0\n",
      "Client_Income                         3607                3.0\n",
      "Age_Days                              3600                3.0\n",
      "Car_Owned                             3581                2.9\n",
      "Application_Process_Day               2428                2.0\n",
      "Client_Family_Members                 2410                2.0\n",
      "Cleint_City_Rating                    2409                2.0\n",
      "The total number of columns in train is 139Among them, the number of columns with missing values is 19\n",
      "                            Missing Values  % of Total Values\n",
      "Credit_Bureau                        12282               15.2\n",
      "ID_Days                               3881                4.8\n",
      "Population_Region_Relative            3270                4.0\n",
      "Loan_Annuity                          3203                4.0\n",
      "Bike_Owned                            2486                3.1\n",
      "Age_Days                              2479                3.1\n",
      "Active_Loan                           2454                3.0\n",
      "Client_Income                         2434                3.0\n",
      "Phone_Change                          2423                3.0\n",
      "Employed_Days                         2421                3.0\n",
      "Application_Process_Hour              2406                3.0\n",
      "Car_Owned                             2405                3.0\n",
      "Registration_Days                     2398                3.0\n",
      "House_Own                             2347                2.9\n",
      "Child_Count                           2328                2.9\n",
      "Credit_Amount                         2287                2.8\n",
      "Client_Family_Members                 1644                2.0\n",
      "Cleint_City_Rating                    1631                2.0\n",
      "Application_Process_Day               1539                1.9\n"
     ]
    }
   ],
   "source": [
    "#checking missing values again\n",
    "missing_values=missing_values_table(train)\n",
    "print(missing_values)\n",
    "missing_valuesT=missing_values_table(test)\n",
    "print(missing_valuesT)"
   ]
  },
  {
   "cell_type": "code",
   "execution_count": 61,
   "metadata": {},
   "outputs": [
    {
     "data": {
      "text/plain": [
       "84992"
      ]
     },
     "execution_count": 61,
     "metadata": {},
     "output_type": "execute_result"
    }
   ],
   "source": [
    "train.isna().sum().sum()"
   ]
  },
  {
   "cell_type": "code",
   "execution_count": 62,
   "metadata": {},
   "outputs": [
    {
     "data": {
      "text/plain": [
       "56318"
      ]
     },
     "execution_count": 62,
     "metadata": {},
     "output_type": "execute_result"
    }
   ],
   "source": [
    "test.isna().sum().sum()"
   ]
  },
  {
   "cell_type": "code",
   "execution_count": 63,
   "metadata": {},
   "outputs": [
    {
     "data": {
      "text/plain": [
       "ID                                        0\n",
       "Client_Income                          3607\n",
       "Car_Owned                              3581\n",
       "Bike_Owned                             3624\n",
       "Active_Loan                            3635\n",
       "                                       ... \n",
       "Type_Organization_Transport: type 2       0\n",
       "Type_Organization_Transport: type 3       0\n",
       "Type_Organization_Transport: type 4       0\n",
       "Type_Organization_University              0\n",
       "Type_Organization_XNA                     0\n",
       "Length: 140, dtype: int64"
      ]
     },
     "execution_count": 63,
     "metadata": {},
     "output_type": "execute_result"
    }
   ],
   "source": [
    "train.isna().sum()"
   ]
  },
  {
   "cell_type": "code",
   "execution_count": 64,
   "metadata": {},
   "outputs": [],
   "source": [
    "train.fillna(0,inplace=True)\n",
    "test.fillna(0,inplace=True)"
   ]
  },
  {
   "cell_type": "code",
   "execution_count": 65,
   "metadata": {},
   "outputs": [
    {
     "name": "stdout",
     "output_type": "stream",
     "text": [
      "ID                                     0\n",
      "Client_Income                          0\n",
      "Car_Owned                              0\n",
      "Bike_Owned                             0\n",
      "Active_Loan                            0\n",
      "                                      ..\n",
      "Type_Organization_Transport: type 2    0\n",
      "Type_Organization_Transport: type 3    0\n",
      "Type_Organization_Transport: type 4    0\n",
      "Type_Organization_University           0\n",
      "Type_Organization_XNA                  0\n",
      "Length: 140, dtype: int64\n"
     ]
    }
   ],
   "source": [
    "print(train.isna().sum())"
   ]
  },
  {
   "cell_type": "code",
   "execution_count": 66,
   "metadata": {},
   "outputs": [
    {
     "name": "stdout",
     "output_type": "stream",
     "text": [
      "ID                                     0\n",
      "Client_Income                          0\n",
      "Car_Owned                              0\n",
      "Bike_Owned                             0\n",
      "Active_Loan                            0\n",
      "                                      ..\n",
      "Type_Organization_Transport: type 2    0\n",
      "Type_Organization_Transport: type 3    0\n",
      "Type_Organization_Transport: type 4    0\n",
      "Type_Organization_University           0\n",
      "Type_Organization_XNA                  0\n",
      "Length: 139, dtype: int64\n"
     ]
    }
   ],
   "source": [
    "print(test.isna().sum())"
   ]
  },
  {
   "cell_type": "code",
   "execution_count": 67,
   "metadata": {},
   "outputs": [],
   "source": [
    "#droping ID \n",
    "train=train.drop('ID',axis=1)\n",
    "test=test.drop('ID',axis=1)"
   ]
  },
  {
   "cell_type": "code",
   "execution_count": 68,
   "metadata": {},
   "outputs": [],
   "source": [
    "X_train= train.drop('Default',axis=1)\n",
    "Y_train= train['Default']\n",
    "X_test= test"
   ]
  },
  {
   "cell_type": "code",
   "execution_count": 69,
   "metadata": {},
   "outputs": [
    {
     "data": {
      "text/plain": [
       "array([ True,  True,  True,  True,  True,  True,  True,  True,  True,\n",
       "        True,  True,  True,  True,  True,  True,  True,  True,  True,\n",
       "        True,  True,  True,  True,  True,  True,  True,  True,  True,\n",
       "        True,  True,  True,  True,  True,  True,  True,  True, False,\n",
       "       False, False, False, False, False, False, False, False, False,\n",
       "       False, False, False, False,  True,  True,  True,  True,  True,\n",
       "        True,  True,  True,  True,  True,  True,  True,  True,  True,\n",
       "        True,  True,  True,  True,  True,  True,  True,  True,  True,\n",
       "        True,  True,  True,  True,  True,  True,  True,  True,  True,\n",
       "        True,  True,  True,  True,  True,  True,  True,  True,  True,\n",
       "        True,  True,  True,  True,  True,  True,  True,  True,  True,\n",
       "        True,  True,  True,  True,  True,  True,  True,  True,  True,\n",
       "        True,  True,  True,  True,  True,  True,  True,  True,  True,\n",
       "        True,  True,  True,  True,  True,  True,  True,  True,  True,\n",
       "        True,  True,  True,  True,  True,  True,  True,  True,  True,\n",
       "        True,  True,  True])"
      ]
     },
     "execution_count": 69,
     "metadata": {},
     "output_type": "execute_result"
    }
   ],
   "source": [
    "#checking whether the  X_train & X_test columns are identical or not\n",
    "X_train.columns== X_test.columns"
   ]
  },
  {
   "cell_type": "code",
   "execution_count": 70,
   "metadata": {},
   "outputs": [
    {
     "name": "stdout",
     "output_type": "stream",
     "text": [
      "Client_Income_Type_Maternity leave\n",
      "Client_Education_Junior secondary\n"
     ]
    }
   ],
   "source": [
    "#checking the difference\n",
    "for column in X_train.columns:\n",
    "    if column not in X_test.columns:\n",
    "        print(column)"
   ]
  },
  {
   "cell_type": "code",
   "execution_count": 71,
   "metadata": {},
   "outputs": [
    {
     "name": "stdout",
     "output_type": "stream",
     "text": [
      "Client_Education_junior secondary\n",
      "Client_Marital_Status_Unknown\n"
     ]
    }
   ],
   "source": [
    "#vice versa\n",
    "for column in X_test.columns:\n",
    "    if column not in X_train.columns:\n",
    "        print(column)"
   ]
  },
  {
   "cell_type": "markdown",
   "metadata": {},
   "source": [
    "<b> defining the function to adjust X_test columns"
   ]
  },
  {
   "cell_type": "code",
   "execution_count": 72,
   "metadata": {},
   "outputs": [],
   "source": [
    "def adjust_columns(X_train, X_test):\n",
    "    train_columns = []\n",
    "    test_columns = []\n",
    "    \n",
    "    # Get X_train columns not present in X_test\n",
    "    for column in X_train.columns:\n",
    "        if column not in X_test.columns:\n",
    "            train_columns.append(column)\n",
    "    \n",
    "    # Get X_test columns not present in X_train\n",
    "    for column in X_test.columns:\n",
    "        if column not in X_train.columns:\n",
    "            test_columns.append(column)\n",
    "    \n",
    "    # Remove test_columns from X_test\n",
    "    X_test = X_test.copy()\n",
    "    X_test = X_test.drop(test_columns, axis=1)\n",
    "    \n",
    "    # Add train_columns and fill with 0's\n",
    "    for column in train_columns:\n",
    "        column_index = list(X_train.columns).index(column)\n",
    "        X_test.insert(loc=column_index, column=column, value=0)\n",
    "    \n",
    "    return X_test"
   ]
  },
  {
   "cell_type": "code",
   "execution_count": 73,
   "metadata": {},
   "outputs": [],
   "source": [
    "X_test = adjust_columns(X_train, X_test)"
   ]
  },
  {
   "cell_type": "code",
   "execution_count": 74,
   "metadata": {},
   "outputs": [
    {
     "data": {
      "text/plain": [
       "True"
      ]
     },
     "execution_count": 74,
     "metadata": {},
     "output_type": "execute_result"
    }
   ],
   "source": [
    "(X_train.columns == X_test.columns).all()"
   ]
  },
  {
   "cell_type": "markdown",
   "metadata": {},
   "source": [
    "<b> scaling the data"
   ]
  },
  {
   "cell_type": "code",
   "execution_count": 75,
   "metadata": {},
   "outputs": [],
   "source": [
    "from sklearn.preprocessing import StandardScaler"
   ]
  },
  {
   "cell_type": "code",
   "execution_count": 76,
   "metadata": {},
   "outputs": [],
   "source": [
    "Scaler = StandardScaler()\n",
    "Scaler.fit(X_train)\n",
    "\n",
    "X_train = pd.DataFrame(Scaler.transform(X_train),index=X_train.index,columns=X_train.columns)"
   ]
  },
  {
   "cell_type": "code",
   "execution_count": 77,
   "metadata": {},
   "outputs": [],
   "source": [
    "X_test = pd.DataFrame(Scaler.transform(X_test),index=X_test.index,columns=X_test.columns)"
   ]
  },
  {
   "cell_type": "code",
   "execution_count": 78,
   "metadata": {},
   "outputs": [],
   "source": [
    "from sklearn.decomposition import PCA"
   ]
  },
  {
   "cell_type": "code",
   "execution_count": 79,
   "metadata": {},
   "outputs": [],
   "source": [
    "pca = PCA(n_components=5,random_state=1).fit(X_train)"
   ]
  },
  {
   "cell_type": "code",
   "execution_count": 80,
   "metadata": {},
   "outputs": [],
   "source": [
    "X_train = pca.fit_transform(X_train)"
   ]
  },
  {
   "cell_type": "code",
   "execution_count": 81,
   "metadata": {},
   "outputs": [
    {
     "data": {
      "text/plain": [
       "array([5.34358096, 2.81171234, 2.70576927, 2.54889444, 2.20771453])"
      ]
     },
     "execution_count": 81,
     "metadata": {},
     "output_type": "execute_result"
    }
   ],
   "source": [
    "pca.explained_variance_"
   ]
  },
  {
   "cell_type": "code",
   "execution_count": 82,
   "metadata": {},
   "outputs": [
    {
     "data": {
      "text/plain": [
       "array([0.03872128, 0.02037456, 0.01960686, 0.0184701 , 0.0159978 ])"
      ]
     },
     "execution_count": 82,
     "metadata": {},
     "output_type": "execute_result"
    }
   ],
   "source": [
    "pca.explained_variance_ratio_"
   ]
  },
  {
   "cell_type": "code",
   "execution_count": 83,
   "metadata": {},
   "outputs": [],
   "source": [
    "pcaT = PCA(n_components=5,random_state=1).fit(X_test)"
   ]
  },
  {
   "cell_type": "code",
   "execution_count": 84,
   "metadata": {},
   "outputs": [],
   "source": [
    "X_test= pcaT.fit_transform(X_test)"
   ]
  },
  {
   "cell_type": "code",
   "execution_count": 85,
   "metadata": {},
   "outputs": [
    {
     "data": {
      "text/plain": [
       "array([5.3839885 , 3.01994221, 2.82518234, 2.68881505, 2.56753145])"
      ]
     },
     "execution_count": 85,
     "metadata": {},
     "output_type": "execute_result"
    }
   ],
   "source": [
    "pcaT.explained_variance_"
   ]
  },
  {
   "cell_type": "code",
   "execution_count": 86,
   "metadata": {},
   "outputs": [
    {
     "data": {
      "text/plain": [
       "array([0.03940653, 0.02210359, 0.0206781 , 0.01968   , 0.0187923 ])"
      ]
     },
     "execution_count": 86,
     "metadata": {},
     "output_type": "execute_result"
    }
   ],
   "source": [
    "pcaT.explained_variance_ratio_"
   ]
  },
  {
   "cell_type": "markdown",
   "metadata": {},
   "source": [
    "<b>now introducing sample"
   ]
  },
  {
   "cell_type": "code",
   "execution_count": 87,
   "metadata": {},
   "outputs": [],
   "source": [
    "sample=pd.read_csv('Sample_Submission.csv')"
   ]
  },
  {
   "cell_type": "code",
   "execution_count": 88,
   "metadata": {},
   "outputs": [
    {
     "data": {
      "text/html": [
       "<div>\n",
       "<style scoped>\n",
       "    .dataframe tbody tr th:only-of-type {\n",
       "        vertical-align: middle;\n",
       "    }\n",
       "\n",
       "    .dataframe tbody tr th {\n",
       "        vertical-align: top;\n",
       "    }\n",
       "\n",
       "    .dataframe thead th {\n",
       "        text-align: right;\n",
       "    }\n",
       "</style>\n",
       "<table border=\"1\" class=\"dataframe\">\n",
       "  <thead>\n",
       "    <tr style=\"text-align: right;\">\n",
       "      <th></th>\n",
       "      <th>Unnamed: 0</th>\n",
       "      <th>ID</th>\n",
       "      <th>Default</th>\n",
       "      <th>Logistic_Reg</th>\n",
       "      <th>Naive_Bayes</th>\n",
       "      <th>Decision_Tree</th>\n",
       "      <th>Random_forest</th>\n",
       "      <th>Bagging_Class</th>\n",
       "      <th>AdaBoost</th>\n",
       "      <th>GradiantBoost</th>\n",
       "    </tr>\n",
       "  </thead>\n",
       "  <tbody>\n",
       "    <tr>\n",
       "      <th>0</th>\n",
       "      <td>0</td>\n",
       "      <td>12200001</td>\n",
       "      <td>0</td>\n",
       "      <td>0</td>\n",
       "      <td>0</td>\n",
       "      <td>0</td>\n",
       "      <td>0</td>\n",
       "      <td>0</td>\n",
       "      <td>0</td>\n",
       "      <td>0</td>\n",
       "    </tr>\n",
       "    <tr>\n",
       "      <th>1</th>\n",
       "      <td>1</td>\n",
       "      <td>12200002</td>\n",
       "      <td>0</td>\n",
       "      <td>0</td>\n",
       "      <td>0</td>\n",
       "      <td>0</td>\n",
       "      <td>0</td>\n",
       "      <td>0</td>\n",
       "      <td>0</td>\n",
       "      <td>0</td>\n",
       "    </tr>\n",
       "    <tr>\n",
       "      <th>2</th>\n",
       "      <td>2</td>\n",
       "      <td>12200003</td>\n",
       "      <td>0</td>\n",
       "      <td>0</td>\n",
       "      <td>0</td>\n",
       "      <td>0</td>\n",
       "      <td>0</td>\n",
       "      <td>0</td>\n",
       "      <td>0</td>\n",
       "      <td>0</td>\n",
       "    </tr>\n",
       "    <tr>\n",
       "      <th>3</th>\n",
       "      <td>3</td>\n",
       "      <td>12200004</td>\n",
       "      <td>0</td>\n",
       "      <td>0</td>\n",
       "      <td>0</td>\n",
       "      <td>0</td>\n",
       "      <td>0</td>\n",
       "      <td>0</td>\n",
       "      <td>0</td>\n",
       "      <td>0</td>\n",
       "    </tr>\n",
       "    <tr>\n",
       "      <th>4</th>\n",
       "      <td>4</td>\n",
       "      <td>12200005</td>\n",
       "      <td>0</td>\n",
       "      <td>0</td>\n",
       "      <td>0</td>\n",
       "      <td>0</td>\n",
       "      <td>0</td>\n",
       "      <td>0</td>\n",
       "      <td>0</td>\n",
       "      <td>0</td>\n",
       "    </tr>\n",
       "  </tbody>\n",
       "</table>\n",
       "</div>"
      ],
      "text/plain": [
       "   Unnamed: 0        ID  Default  Logistic_Reg  Naive_Bayes  Decision_Tree  \\\n",
       "0           0  12200001        0             0            0              0   \n",
       "1           1  12200002        0             0            0              0   \n",
       "2           2  12200003        0             0            0              0   \n",
       "3           3  12200004        0             0            0              0   \n",
       "4           4  12200005        0             0            0              0   \n",
       "\n",
       "   Random_forest  Bagging_Class  AdaBoost  GradiantBoost  \n",
       "0              0              0         0              0  \n",
       "1              0              0         0              0  \n",
       "2              0              0         0              0  \n",
       "3              0              0         0              0  \n",
       "4              0              0         0              0  "
      ]
     },
     "execution_count": 88,
     "metadata": {},
     "output_type": "execute_result"
    }
   ],
   "source": [
    "sample.head()"
   ]
  },
  {
   "cell_type": "code",
   "execution_count": 89,
   "metadata": {},
   "outputs": [],
   "source": [
    "SampleDefault= sample['Default']"
   ]
  },
  {
   "cell_type": "code",
   "execution_count": 90,
   "metadata": {},
   "outputs": [
    {
     "data": {
      "text/plain": [
       "0        0\n",
       "1        0\n",
       "2        0\n",
       "3        0\n",
       "4        0\n",
       "        ..\n",
       "80895    1\n",
       "80896    0\n",
       "80897    0\n",
       "80898    0\n",
       "80899    1\n",
       "Name: Default, Length: 80900, dtype: int64"
      ]
     },
     "execution_count": 90,
     "metadata": {},
     "output_type": "execute_result"
    }
   ],
   "source": [
    "SampleDefault"
   ]
  },
  {
   "cell_type": "code",
   "execution_count": 91,
   "metadata": {},
   "outputs": [],
   "source": [
    "from sklearn.metrics import accuracy_score, precision_score, recall_score, confusion_matrix, classification_report"
   ]
  },
  {
   "cell_type": "markdown",
   "metadata": {},
   "source": [
    "# model"
   ]
  },
  {
   "cell_type": "markdown",
   "metadata": {},
   "source": [
    "<b> Logistic Regression"
   ]
  },
  {
   "cell_type": "code",
   "execution_count": 92,
   "metadata": {},
   "outputs": [],
   "source": [
    "from sklearn.linear_model import LogisticRegression"
   ]
  },
  {
   "cell_type": "code",
   "execution_count": 93,
   "metadata": {},
   "outputs": [],
   "source": [
    "#Model creation\n",
    "model1 = LogisticRegression()"
   ]
  },
  {
   "cell_type": "code",
   "execution_count": 94,
   "metadata": {},
   "outputs": [
    {
     "data": {
      "text/plain": [
       "LogisticRegression()"
      ]
     },
     "execution_count": 94,
     "metadata": {},
     "output_type": "execute_result"
    }
   ],
   "source": [
    "model1.fit(X_train, Y_train)"
   ]
  },
  {
   "cell_type": "code",
   "execution_count": 95,
   "metadata": {},
   "outputs": [],
   "source": [
    "pred1 = model1.predict(X_test)"
   ]
  },
  {
   "cell_type": "code",
   "execution_count": 96,
   "metadata": {},
   "outputs": [
    {
     "data": {
      "text/plain": [
       "array([0, 0, 0, ..., 0, 0, 0], dtype=int64)"
      ]
     },
     "execution_count": 96,
     "metadata": {},
     "output_type": "execute_result"
    }
   ],
   "source": [
    "pred1"
   ]
  },
  {
   "cell_type": "code",
   "execution_count": 97,
   "metadata": {},
   "outputs": [
    {
     "name": "stdout",
     "output_type": "stream",
     "text": [
      "0.9970828182941903\n"
     ]
    }
   ],
   "source": [
    "accuracy1=print(accuracy_score(SampleDefault,pred1))\n",
    "accuracy1"
   ]
  },
  {
   "cell_type": "code",
   "execution_count": 98,
   "metadata": {},
   "outputs": [
    {
     "data": {
      "text/plain": [
       "array([[80664,     0],\n",
       "       [  236,     0]], dtype=int64)"
      ]
     },
     "execution_count": 98,
     "metadata": {},
     "output_type": "execute_result"
    }
   ],
   "source": [
    "conf1 = confusion_matrix(SampleDefault,pred1)\n",
    "conf1"
   ]
  },
  {
   "cell_type": "code",
   "execution_count": 99,
   "metadata": {},
   "outputs": [
    {
     "data": {
      "text/plain": [
       "<AxesSubplot:>"
      ]
     },
     "execution_count": 99,
     "metadata": {},
     "output_type": "execute_result"
    },
    {
     "data": {
      "image/png": "[encoded data removed]",
      "text/plain": [
       "<Figure size 864x720 with 2 Axes>"
      ]
     },
     "metadata": {
      "needs_background": "light"
     },
     "output_type": "display_data"
    }
   ],
   "source": [
    "plt.figure(figsize=(12,10))\n",
    "sns.heatmap(conf1,annot=True, cmap='Blues', fmt='g')"
   ]
  },
  {
   "cell_type": "code",
   "execution_count": 100,
   "metadata": {},
   "outputs": [
    {
     "name": "stdout",
     "output_type": "stream",
     "text": [
      "              precision    recall  f1-score   support\n",
      "\n",
      "           0       1.00      1.00      1.00     80664\n",
      "           1       0.00      0.00      0.00       236\n",
      "\n",
      "    accuracy                           1.00     80900\n",
      "   macro avg       0.50      0.50      0.50     80900\n",
      "weighted avg       0.99      1.00      1.00     80900\n",
      "\n"
     ]
    }
   ],
   "source": [
    "print(classification_report(SampleDefault,pred1))"
   ]
  },
  {
   "cell_type": "code",
   "execution_count": 101,
   "metadata": {},
   "outputs": [
    {
     "data": {
      "text/plain": [
       "0.9192079175420168"
      ]
     },
     "execution_count": 101,
     "metadata": {},
     "output_type": "execute_result"
    }
   ],
   "source": [
    "model_score1=model1.score(X_train,Y_train)\n",
    "model_score1"
   ]
  },
  {
   "cell_type": "markdown",
   "metadata": {},
   "source": [
    "<b>Naive Bayes Classifier"
   ]
  },
  {
   "cell_type": "code",
   "execution_count": 102,
   "metadata": {},
   "outputs": [],
   "source": [
    "from sklearn.naive_bayes import GaussianNB"
   ]
  },
  {
   "cell_type": "code",
   "execution_count": 103,
   "metadata": {},
   "outputs": [],
   "source": [
    "#Creating the model\n",
    "model2 = GaussianNB()"
   ]
  },
  {
   "cell_type": "code",
   "execution_count": 104,
   "metadata": {},
   "outputs": [
    {
     "data": {
      "text/plain": [
       "GaussianNB()"
      ]
     },
     "execution_count": 104,
     "metadata": {},
     "output_type": "execute_result"
    }
   ],
   "source": [
    "#Training the model/Learning the model\n",
    "model2.fit(X_train,Y_train)"
   ]
  },
  {
   "cell_type": "code",
   "execution_count": 105,
   "metadata": {},
   "outputs": [],
   "source": [
    "pred2 = model2.predict(X_test)"
   ]
  },
  {
   "cell_type": "code",
   "execution_count": 106,
   "metadata": {},
   "outputs": [
    {
     "data": {
      "text/plain": [
       "array([0, 0, 0, ..., 0, 0, 0], dtype=int64)"
      ]
     },
     "execution_count": 106,
     "metadata": {},
     "output_type": "execute_result"
    }
   ],
   "source": [
    "pred2"
   ]
  },
  {
   "cell_type": "code",
   "execution_count": 107,
   "metadata": {},
   "outputs": [
    {
     "name": "stdout",
     "output_type": "stream",
     "text": [
      "0.9970828182941903\n"
     ]
    }
   ],
   "source": [
    "accuracy2=print(accuracy_score(SampleDefault,pred2))\n",
    "accuracy2"
   ]
  },
  {
   "cell_type": "code",
   "execution_count": 108,
   "metadata": {},
   "outputs": [
    {
     "data": {
      "text/plain": [
       "array([[80664,     0],\n",
       "       [  236,     0]], dtype=int64)"
      ]
     },
     "execution_count": 108,
     "metadata": {},
     "output_type": "execute_result"
    }
   ],
   "source": [
    "conf2 = confusion_matrix(SampleDefault,pred2)\n",
    "conf2"
   ]
  },
  {
   "cell_type": "code",
   "execution_count": 109,
   "metadata": {},
   "outputs": [
    {
     "data": {
      "text/plain": [
       "<AxesSubplot:>"
      ]
     },
     "execution_count": 109,
     "metadata": {},
     "output_type": "execute_result"
    },
    {
     "data": {
      "image/png": "[encoded data removed]",
      "text/plain": [
       "<Figure size 864x720 with 2 Axes>"
      ]
     },
     "metadata": {
      "needs_background": "light"
     },
     "output_type": "display_data"
    }
   ],
   "source": [
    "plt.figure(figsize=(12,10))\n",
    "sns.heatmap(conf2,annot=True, cmap='Blues', fmt='g')"
   ]
  },
  {
   "cell_type": "code",
   "execution_count": 110,
   "metadata": {},
   "outputs": [
    {
     "name": "stdout",
     "output_type": "stream",
     "text": [
      "              precision    recall  f1-score   support\n",
      "\n",
      "           0       1.00      1.00      1.00     80664\n",
      "           1       0.00      0.00      0.00       236\n",
      "\n",
      "    accuracy                           1.00     80900\n",
      "   macro avg       0.50      0.50      0.50     80900\n",
      "weighted avg       0.99      1.00      1.00     80900\n",
      "\n"
     ]
    }
   ],
   "source": [
    "print(classification_report(SampleDefault,pred2))"
   ]
  },
  {
   "cell_type": "code",
   "execution_count": 111,
   "metadata": {},
   "outputs": [
    {
     "data": {
      "text/plain": [
       "0.9192079175420168"
      ]
     },
     "execution_count": 111,
     "metadata": {},
     "output_type": "execute_result"
    }
   ],
   "source": [
    "model_score2=model2.score(X_train,Y_train)\n",
    "model_score2"
   ]
  },
  {
   "cell_type": "markdown",
   "metadata": {},
   "source": [
    "<b>DecisionTreeClassifier"
   ]
  },
  {
   "cell_type": "code",
   "execution_count": 112,
   "metadata": {},
   "outputs": [],
   "source": [
    "from sklearn.tree import DecisionTreeClassifier"
   ]
  },
  {
   "cell_type": "code",
   "execution_count": 113,
   "metadata": {},
   "outputs": [],
   "source": [
    "#Create a Decision Tree\n",
    "model3 = DecisionTreeClassifier(criterion='entropy',max_depth=15)"
   ]
  },
  {
   "cell_type": "code",
   "execution_count": 114,
   "metadata": {},
   "outputs": [
    {
     "data": {
      "text/plain": [
       "DecisionTreeClassifier(criterion='entropy', max_depth=15)"
      ]
     },
     "execution_count": 114,
     "metadata": {},
     "output_type": "execute_result"
    }
   ],
   "source": [
    "model3.fit(X_train,Y_train)"
   ]
  },
  {
   "cell_type": "code",
   "execution_count": 115,
   "metadata": {},
   "outputs": [],
   "source": [
    "pred3 = model3.predict(X_test)"
   ]
  },
  {
   "cell_type": "code",
   "execution_count": 116,
   "metadata": {},
   "outputs": [
    {
     "data": {
      "text/plain": [
       "array([0, 0, 0, ..., 0, 0, 0], dtype=int64)"
      ]
     },
     "execution_count": 116,
     "metadata": {},
     "output_type": "execute_result"
    }
   ],
   "source": [
    "pred3"
   ]
  },
  {
   "cell_type": "code",
   "execution_count": 117,
   "metadata": {},
   "outputs": [
    {
     "name": "stdout",
     "output_type": "stream",
     "text": [
      "0.9827317676143387\n"
     ]
    }
   ],
   "source": [
    "accuracy3=print(accuracy_score(SampleDefault,pred3))\n",
    "accuracy3"
   ]
  },
  {
   "cell_type": "code",
   "execution_count": 118,
   "metadata": {},
   "outputs": [
    {
     "data": {
      "text/plain": [
       "array([[79499,  1165],\n",
       "       [  232,     4]], dtype=int64)"
      ]
     },
     "execution_count": 118,
     "metadata": {},
     "output_type": "execute_result"
    }
   ],
   "source": [
    "conf3 = confusion_matrix(SampleDefault,pred3)\n",
    "conf3"
   ]
  },
  {
   "cell_type": "code",
   "execution_count": 119,
   "metadata": {},
   "outputs": [
    {
     "data": {
      "text/plain": [
       "<AxesSubplot:>"
      ]
     },
     "execution_count": 119,
     "metadata": {},
     "output_type": "execute_result"
    },
    {
     "data": {
      "image/png": "[encoded data removed]",
      "text/plain": [
       "<Figure size 864x720 with 2 Axes>"
      ]
     },
     "metadata": {
      "needs_background": "light"
     },
     "output_type": "display_data"
    }
   ],
   "source": [
    "plt.figure(figsize=(12,10))\n",
    "sns.heatmap(conf3,annot=True, cmap='Blues', fmt='g')"
   ]
  },
  {
   "cell_type": "code",
   "execution_count": 120,
   "metadata": {},
   "outputs": [
    {
     "name": "stdout",
     "output_type": "stream",
     "text": [
      "              precision    recall  f1-score   support\n",
      "\n",
      "           0       1.00      0.99      0.99     80664\n",
      "           1       0.00      0.02      0.01       236\n",
      "\n",
      "    accuracy                           0.98     80900\n",
      "   macro avg       0.50      0.50      0.50     80900\n",
      "weighted avg       0.99      0.98      0.99     80900\n",
      "\n"
     ]
    }
   ],
   "source": [
    "print(classification_report(SampleDefault,pred3))"
   ]
  },
  {
   "cell_type": "code",
   "execution_count": 121,
   "metadata": {},
   "outputs": [
    {
     "data": {
      "text/plain": [
       "0.9297531512605042"
      ]
     },
     "execution_count": 121,
     "metadata": {},
     "output_type": "execute_result"
    }
   ],
   "source": [
    "model_score3=model3.score(X_train,Y_train)\n",
    "model_score3"
   ]
  },
  {
   "cell_type": "markdown",
   "metadata": {},
   "source": [
    "<b>RandomForestClassifier"
   ]
  },
  {
   "cell_type": "code",
   "execution_count": 122,
   "metadata": {},
   "outputs": [],
   "source": [
    "from sklearn.ensemble import RandomForestClassifier"
   ]
  },
  {
   "cell_type": "code",
   "execution_count": 123,
   "metadata": {},
   "outputs": [],
   "source": [
    "model4 = RandomForestClassifier()"
   ]
  },
  {
   "cell_type": "code",
   "execution_count": 124,
   "metadata": {},
   "outputs": [
    {
     "data": {
      "text/plain": [
       "RandomForestClassifier()"
      ]
     },
     "execution_count": 124,
     "metadata": {},
     "output_type": "execute_result"
    }
   ],
   "source": [
    "model4.fit(X_train,Y_train)"
   ]
  },
  {
   "cell_type": "code",
   "execution_count": 125,
   "metadata": {},
   "outputs": [],
   "source": [
    "pred4 = model4.predict(X_test)"
   ]
  },
  {
   "cell_type": "code",
   "execution_count": 126,
   "metadata": {},
   "outputs": [
    {
     "data": {
      "text/plain": [
       "array([0, 0, 0, ..., 0, 0, 0], dtype=int64)"
      ]
     },
     "execution_count": 126,
     "metadata": {},
     "output_type": "execute_result"
    }
   ],
   "source": [
    "pred4"
   ]
  },
  {
   "cell_type": "code",
   "execution_count": 171,
   "metadata": {},
   "outputs": [
    {
     "name": "stdout",
     "output_type": "stream",
     "text": [
      "0.9969097651421508\n"
     ]
    }
   ],
   "source": [
    "accuracy4=print(accuracy_score(SampleDefault,pred4))\n",
    "accuracy4"
   ]
  },
  {
   "cell_type": "code",
   "execution_count": 128,
   "metadata": {},
   "outputs": [
    {
     "data": {
      "text/plain": [
       "array([[80650,    14],\n",
       "       [  236,     0]], dtype=int64)"
      ]
     },
     "execution_count": 128,
     "metadata": {},
     "output_type": "execute_result"
    }
   ],
   "source": [
    "conf4 = confusion_matrix(SampleDefault,pred4)\n",
    "conf4"
   ]
  },
  {
   "cell_type": "code",
   "execution_count": 129,
   "metadata": {},
   "outputs": [
    {
     "data": {
      "text/plain": [
       "<AxesSubplot:>"
      ]
     },
     "execution_count": 129,
     "metadata": {},
     "output_type": "execute_result"
    },
    {
     "data": {
      "image/png": "[encoded data removed]",
      "text/plain": [
       "<Figure size 864x720 with 2 Axes>"
      ]
     },
     "metadata": {
      "needs_background": "light"
     },
     "output_type": "display_data"
    }
   ],
   "source": [
    "plt.figure(figsize=(12,10))\n",
    "sns.heatmap(conf4,annot=True, cmap='Blues', fmt='g')"
   ]
  },
  {
   "cell_type": "code",
   "execution_count": 130,
   "metadata": {},
   "outputs": [
    {
     "name": "stdout",
     "output_type": "stream",
     "text": [
      "              precision    recall  f1-score   support\n",
      "\n",
      "           0       1.00      1.00      1.00     80664\n",
      "           1       0.00      0.00      0.00       236\n",
      "\n",
      "    accuracy                           1.00     80900\n",
      "   macro avg       0.50      0.50      0.50     80900\n",
      "weighted avg       0.99      1.00      1.00     80900\n",
      "\n"
     ]
    }
   ],
   "source": [
    "print(classification_report(SampleDefault,pred4))"
   ]
  },
  {
   "cell_type": "code",
   "execution_count": 131,
   "metadata": {},
   "outputs": [
    {
     "data": {
      "text/plain": [
       "0.9999343487394958"
      ]
     },
     "execution_count": 131,
     "metadata": {},
     "output_type": "execute_result"
    }
   ],
   "source": [
    "model_score4=model4.score(X_train,Y_train)\n",
    "model_score4"
   ]
  },
  {
   "cell_type": "markdown",
   "metadata": {},
   "source": [
    "<b>BaggingClassifier"
   ]
  },
  {
   "cell_type": "code",
   "execution_count": 132,
   "metadata": {},
   "outputs": [],
   "source": [
    "from sklearn.ensemble import BaggingClassifier"
   ]
  },
  {
   "cell_type": "code",
   "execution_count": 133,
   "metadata": {},
   "outputs": [],
   "source": [
    "model5 = BaggingClassifier()"
   ]
  },
  {
   "cell_type": "code",
   "execution_count": 134,
   "metadata": {},
   "outputs": [
    {
     "data": {
      "text/plain": [
       "BaggingClassifier()"
      ]
     },
     "execution_count": 134,
     "metadata": {},
     "output_type": "execute_result"
    }
   ],
   "source": [
    "model5.fit(X_train,Y_train)"
   ]
  },
  {
   "cell_type": "code",
   "execution_count": 135,
   "metadata": {},
   "outputs": [],
   "source": [
    "pred5 = model5.predict(X_test)"
   ]
  },
  {
   "cell_type": "code",
   "execution_count": 136,
   "metadata": {},
   "outputs": [
    {
     "data": {
      "text/plain": [
       "array([0, 0, 0, ..., 0, 0, 0], dtype=int64)"
      ]
     },
     "execution_count": 136,
     "metadata": {},
     "output_type": "execute_result"
    }
   ],
   "source": [
    "pred5"
   ]
  },
  {
   "cell_type": "code",
   "execution_count": 174,
   "metadata": {},
   "outputs": [
    {
     "name": "stdout",
     "output_type": "stream",
     "text": [
      "0.9908899876390606\n"
     ]
    }
   ],
   "source": [
    "accuracy5=print(accuracy_score(SampleDefault,pred5))\n",
    "accuracy5"
   ]
  },
  {
   "cell_type": "code",
   "execution_count": 138,
   "metadata": {},
   "outputs": [
    {
     "data": {
      "text/plain": [
       "array([[80161,   503],\n",
       "       [  234,     2]], dtype=int64)"
      ]
     },
     "execution_count": 138,
     "metadata": {},
     "output_type": "execute_result"
    }
   ],
   "source": [
    "conf5 = confusion_matrix(SampleDefault,pred5)\n",
    "conf5"
   ]
  },
  {
   "cell_type": "code",
   "execution_count": 139,
   "metadata": {},
   "outputs": [
    {
     "data": {
      "text/plain": [
       "<AxesSubplot:>"
      ]
     },
     "execution_count": 139,
     "metadata": {},
     "output_type": "execute_result"
    },
    {
     "data": {
      "image/png": "[encoded data removed]",
      "text/plain": [
       "<Figure size 864x720 with 2 Axes>"
      ]
     },
     "metadata": {
      "needs_background": "light"
     },
     "output_type": "display_data"
    }
   ],
   "source": [
    "plt.figure(figsize=(12,10))\n",
    "sns.heatmap(conf5,annot=True, cmap='Blues', fmt='g')"
   ]
  },
  {
   "cell_type": "code",
   "execution_count": 140,
   "metadata": {},
   "outputs": [
    {
     "name": "stdout",
     "output_type": "stream",
     "text": [
      "              precision    recall  f1-score   support\n",
      "\n",
      "           0       1.00      0.99      1.00     80664\n",
      "           1       0.00      0.01      0.01       236\n",
      "\n",
      "    accuracy                           0.99     80900\n",
      "   macro avg       0.50      0.50      0.50     80900\n",
      "weighted avg       0.99      0.99      0.99     80900\n",
      "\n"
     ]
    }
   ],
   "source": [
    "print(classification_report(SampleDefault,pred5))"
   ]
  },
  {
   "cell_type": "code",
   "execution_count": 141,
   "metadata": {},
   "outputs": [
    {
     "data": {
      "text/plain": [
       "0.984686843487395"
      ]
     },
     "execution_count": 141,
     "metadata": {},
     "output_type": "execute_result"
    }
   ],
   "source": [
    "model_score5=model5.score(X_train,Y_train)\n",
    "model_score5"
   ]
  },
  {
   "cell_type": "markdown",
   "metadata": {},
   "source": [
    "<b>AdaBoostClassifier"
   ]
  },
  {
   "cell_type": "code",
   "execution_count": 142,
   "metadata": {},
   "outputs": [],
   "source": [
    "from sklearn.ensemble import AdaBoostClassifier"
   ]
  },
  {
   "cell_type": "code",
   "execution_count": 143,
   "metadata": {},
   "outputs": [],
   "source": [
    "model6 = AdaBoostClassifier()"
   ]
  },
  {
   "cell_type": "code",
   "execution_count": 144,
   "metadata": {},
   "outputs": [
    {
     "data": {
      "text/plain": [
       "AdaBoostClassifier()"
      ]
     },
     "execution_count": 144,
     "metadata": {},
     "output_type": "execute_result"
    }
   ],
   "source": [
    "model6.fit(X_train,Y_train)"
   ]
  },
  {
   "cell_type": "code",
   "execution_count": 145,
   "metadata": {},
   "outputs": [],
   "source": [
    "pred6 = model6.predict(X_test)"
   ]
  },
  {
   "cell_type": "code",
   "execution_count": 146,
   "metadata": {},
   "outputs": [
    {
     "data": {
      "text/plain": [
       "array([0, 0, 0, ..., 0, 0, 0], dtype=int64)"
      ]
     },
     "execution_count": 146,
     "metadata": {},
     "output_type": "execute_result"
    }
   ],
   "source": [
    "pred6"
   ]
  },
  {
   "cell_type": "code",
   "execution_count": 173,
   "metadata": {},
   "outputs": [
    {
     "name": "stdout",
     "output_type": "stream",
     "text": [
      "0.9970828182941903\n"
     ]
    }
   ],
   "source": [
    "accuracy6=print(accuracy_score(SampleDefault,pred6))\n",
    "accuracy6"
   ]
  },
  {
   "cell_type": "code",
   "execution_count": 148,
   "metadata": {},
   "outputs": [
    {
     "data": {
      "text/plain": [
       "array([[80664,     0],\n",
       "       [  236,     0]], dtype=int64)"
      ]
     },
     "execution_count": 148,
     "metadata": {},
     "output_type": "execute_result"
    }
   ],
   "source": [
    "conf6 = confusion_matrix(SampleDefault,pred6)\n",
    "conf6"
   ]
  },
  {
   "cell_type": "code",
   "execution_count": 149,
   "metadata": {},
   "outputs": [
    {
     "data": {
      "text/plain": [
       "<AxesSubplot:>"
      ]
     },
     "execution_count": 149,
     "metadata": {},
     "output_type": "execute_result"
    },
    {
     "data": {
      "image/png": "[encoded data removed]",
      "text/plain": [
       "<Figure size 864x720 with 2 Axes>"
      ]
     },
     "metadata": {
      "needs_background": "light"
     },
     "output_type": "display_data"
    }
   ],
   "source": [
    "plt.figure(figsize=(12,10))\n",
    "sns.heatmap(conf6,annot=True, cmap='Blues', fmt='g')"
   ]
  },
  {
   "cell_type": "code",
   "execution_count": 150,
   "metadata": {},
   "outputs": [
    {
     "name": "stdout",
     "output_type": "stream",
     "text": [
      "              precision    recall  f1-score   support\n",
      "\n",
      "           0       1.00      1.00      1.00     80664\n",
      "           1       0.00      0.00      0.00       236\n",
      "\n",
      "    accuracy                           1.00     80900\n",
      "   macro avg       0.50      0.50      0.50     80900\n",
      "weighted avg       0.99      1.00      1.00     80900\n",
      "\n"
     ]
    }
   ],
   "source": [
    "print(classification_report(SampleDefault,pred6))"
   ]
  },
  {
   "cell_type": "code",
   "execution_count": 151,
   "metadata": {},
   "outputs": [
    {
     "data": {
      "text/plain": [
       "0.9192079175420168"
      ]
     },
     "execution_count": 151,
     "metadata": {},
     "output_type": "execute_result"
    }
   ],
   "source": [
    "model_score6=model6.score(X_train,Y_train)\n",
    "model_score6"
   ]
  },
  {
   "cell_type": "markdown",
   "metadata": {},
   "source": [
    "<b>GradientBoostingClassifier"
   ]
  },
  {
   "cell_type": "code",
   "execution_count": 152,
   "metadata": {},
   "outputs": [],
   "source": [
    "from sklearn.ensemble import GradientBoostingClassifier"
   ]
  },
  {
   "cell_type": "code",
   "execution_count": 153,
   "metadata": {},
   "outputs": [],
   "source": [
    "model7 = GradientBoostingClassifier()"
   ]
  },
  {
   "cell_type": "code",
   "execution_count": 154,
   "metadata": {},
   "outputs": [
    {
     "data": {
      "text/plain": [
       "GradientBoostingClassifier()"
      ]
     },
     "execution_count": 154,
     "metadata": {},
     "output_type": "execute_result"
    }
   ],
   "source": [
    "model7.fit(X_train,Y_train)"
   ]
  },
  {
   "cell_type": "code",
   "execution_count": 155,
   "metadata": {},
   "outputs": [],
   "source": [
    "pred7 = model7.predict(X_test)"
   ]
  },
  {
   "cell_type": "code",
   "execution_count": 156,
   "metadata": {},
   "outputs": [
    {
     "data": {
      "text/plain": [
       "array([0, 0, 0, ..., 0, 0, 0], dtype=int64)"
      ]
     },
     "execution_count": 156,
     "metadata": {},
     "output_type": "execute_result"
    }
   ],
   "source": [
    "pred7"
   ]
  },
  {
   "cell_type": "code",
   "execution_count": 172,
   "metadata": {},
   "outputs": [
    {
     "name": "stdout",
     "output_type": "stream",
     "text": [
      "0.9970333745364648\n"
     ]
    }
   ],
   "source": [
    "accuracy7=print(accuracy_score(SampleDefault,pred7))\n",
    "accuracy7"
   ]
  },
  {
   "cell_type": "code",
   "execution_count": 158,
   "metadata": {},
   "outputs": [
    {
     "data": {
      "text/plain": [
       "array([[80660,     4],\n",
       "       [  236,     0]], dtype=int64)"
      ]
     },
     "execution_count": 158,
     "metadata": {},
     "output_type": "execute_result"
    }
   ],
   "source": [
    "conf7 = confusion_matrix(SampleDefault,pred7)\n",
    "conf7"
   ]
  },
  {
   "cell_type": "code",
   "execution_count": 159,
   "metadata": {},
   "outputs": [
    {
     "data": {
      "text/plain": [
       "<AxesSubplot:>"
      ]
     },
     "execution_count": 159,
     "metadata": {},
     "output_type": "execute_result"
    },
    {
     "data": {
      "image/png": "[encoded data removed]",
      "text/plain": [
       "<Figure size 864x720 with 2 Axes>"
      ]
     },
     "metadata": {
      "needs_background": "light"
     },
     "output_type": "display_data"
    }
   ],
   "source": [
    "plt.figure(figsize=(12,10))\n",
    "sns.heatmap(conf7,annot=True, cmap='Blues', fmt='g')"
   ]
  },
  {
   "cell_type": "code",
   "execution_count": 160,
   "metadata": {},
   "outputs": [
    {
     "name": "stdout",
     "output_type": "stream",
     "text": [
      "              precision    recall  f1-score   support\n",
      "\n",
      "           0       1.00      1.00      1.00     80664\n",
      "           1       0.00      0.00      0.00       236\n",
      "\n",
      "    accuracy                           1.00     80900\n",
      "   macro avg       0.50      0.50      0.50     80900\n",
      "weighted avg       0.99      1.00      1.00     80900\n",
      "\n"
     ]
    }
   ],
   "source": [
    "print(classification_report(SampleDefault,pred7))"
   ]
  },
  {
   "cell_type": "code",
   "execution_count": 161,
   "metadata": {},
   "outputs": [
    {
     "data": {
      "text/plain": [
       "0.9192161239495799"
      ]
     },
     "execution_count": 161,
     "metadata": {},
     "output_type": "execute_result"
    }
   ],
   "source": [
    "model_score7=model7.score(X_train,Y_train)\n",
    "model_score7"
   ]
  },
  {
   "cell_type": "code",
   "execution_count": 162,
   "metadata": {},
   "outputs": [],
   "source": [
    "Predictions=pd.DataFrame({'Logistic_Reg':pred1,'Naive_Bayes':pred2,'Decision_Tree':pred3,'Random_forest':pred4,'Bagging_Class':pred5,'AdaBoost':pred6,'GradiantBoost':pred7})"
   ]
  },
  {
   "cell_type": "code",
   "execution_count": 163,
   "metadata": {},
   "outputs": [
    {
     "data": {
      "text/html": [
       "<div>\n",
       "<style scoped>\n",
       "    .dataframe tbody tr th:only-of-type {\n",
       "        vertical-align: middle;\n",
       "    }\n",
       "\n",
       "    .dataframe tbody tr th {\n",
       "        vertical-align: top;\n",
       "    }\n",
       "\n",
       "    .dataframe thead th {\n",
       "        text-align: right;\n",
       "    }\n",
       "</style>\n",
       "<table border=\"1\" class=\"dataframe\">\n",
       "  <thead>\n",
       "    <tr style=\"text-align: right;\">\n",
       "      <th></th>\n",
       "      <th>Logistic_Reg</th>\n",
       "      <th>Naive_Bayes</th>\n",
       "      <th>Decision_Tree</th>\n",
       "      <th>Random_forest</th>\n",
       "      <th>Bagging_Class</th>\n",
       "      <th>AdaBoost</th>\n",
       "      <th>GradiantBoost</th>\n",
       "    </tr>\n",
       "  </thead>\n",
       "  <tbody>\n",
       "    <tr>\n",
       "      <th>0</th>\n",
       "      <td>0</td>\n",
       "      <td>0</td>\n",
       "      <td>0</td>\n",
       "      <td>0</td>\n",
       "      <td>0</td>\n",
       "      <td>0</td>\n",
       "      <td>0</td>\n",
       "    </tr>\n",
       "    <tr>\n",
       "      <th>1</th>\n",
       "      <td>0</td>\n",
       "      <td>0</td>\n",
       "      <td>0</td>\n",
       "      <td>0</td>\n",
       "      <td>0</td>\n",
       "      <td>0</td>\n",
       "      <td>0</td>\n",
       "    </tr>\n",
       "    <tr>\n",
       "      <th>2</th>\n",
       "      <td>0</td>\n",
       "      <td>0</td>\n",
       "      <td>0</td>\n",
       "      <td>0</td>\n",
       "      <td>0</td>\n",
       "      <td>0</td>\n",
       "      <td>0</td>\n",
       "    </tr>\n",
       "    <tr>\n",
       "      <th>3</th>\n",
       "      <td>0</td>\n",
       "      <td>0</td>\n",
       "      <td>0</td>\n",
       "      <td>0</td>\n",
       "      <td>0</td>\n",
       "      <td>0</td>\n",
       "      <td>0</td>\n",
       "    </tr>\n",
       "    <tr>\n",
       "      <th>4</th>\n",
       "      <td>0</td>\n",
       "      <td>0</td>\n",
       "      <td>0</td>\n",
       "      <td>0</td>\n",
       "      <td>0</td>\n",
       "      <td>0</td>\n",
       "      <td>0</td>\n",
       "    </tr>\n",
       "    <tr>\n",
       "      <th>...</th>\n",
       "      <td>...</td>\n",
       "      <td>...</td>\n",
       "      <td>...</td>\n",
       "      <td>...</td>\n",
       "      <td>...</td>\n",
       "      <td>...</td>\n",
       "      <td>...</td>\n",
       "    </tr>\n",
       "    <tr>\n",
       "      <th>80895</th>\n",
       "      <td>0</td>\n",
       "      <td>0</td>\n",
       "      <td>0</td>\n",
       "      <td>0</td>\n",
       "      <td>0</td>\n",
       "      <td>0</td>\n",
       "      <td>0</td>\n",
       "    </tr>\n",
       "    <tr>\n",
       "      <th>80896</th>\n",
       "      <td>0</td>\n",
       "      <td>0</td>\n",
       "      <td>0</td>\n",
       "      <td>0</td>\n",
       "      <td>0</td>\n",
       "      <td>0</td>\n",
       "      <td>0</td>\n",
       "    </tr>\n",
       "    <tr>\n",
       "      <th>80897</th>\n",
       "      <td>0</td>\n",
       "      <td>0</td>\n",
       "      <td>0</td>\n",
       "      <td>0</td>\n",
       "      <td>0</td>\n",
       "      <td>0</td>\n",
       "      <td>0</td>\n",
       "    </tr>\n",
       "    <tr>\n",
       "      <th>80898</th>\n",
       "      <td>0</td>\n",
       "      <td>0</td>\n",
       "      <td>0</td>\n",
       "      <td>0</td>\n",
       "      <td>0</td>\n",
       "      <td>0</td>\n",
       "      <td>0</td>\n",
       "    </tr>\n",
       "    <tr>\n",
       "      <th>80899</th>\n",
       "      <td>0</td>\n",
       "      <td>0</td>\n",
       "      <td>0</td>\n",
       "      <td>0</td>\n",
       "      <td>0</td>\n",
       "      <td>0</td>\n",
       "      <td>0</td>\n",
       "    </tr>\n",
       "  </tbody>\n",
       "</table>\n",
       "<p>80900 rows × 7 columns</p>\n",
       "</div>"
      ],
      "text/plain": [
       "       Logistic_Reg  Naive_Bayes  Decision_Tree  Random_forest  Bagging_Class  \\\n",
       "0                 0            0              0              0              0   \n",
       "1                 0            0              0              0              0   \n",
       "2                 0            0              0              0              0   \n",
       "3                 0            0              0              0              0   \n",
       "4                 0            0              0              0              0   \n",
       "...             ...          ...            ...            ...            ...   \n",
       "80895             0            0              0              0              0   \n",
       "80896             0            0              0              0              0   \n",
       "80897             0            0              0              0              0   \n",
       "80898             0            0              0              0              0   \n",
       "80899             0            0              0              0              0   \n",
       "\n",
       "       AdaBoost  GradiantBoost  \n",
       "0             0              0  \n",
       "1             0              0  \n",
       "2             0              0  \n",
       "3             0              0  \n",
       "4             0              0  \n",
       "...         ...            ...  \n",
       "80895         0              0  \n",
       "80896         0              0  \n",
       "80897         0              0  \n",
       "80898         0              0  \n",
       "80899         0              0  \n",
       "\n",
       "[80900 rows x 7 columns]"
      ]
     },
     "execution_count": 163,
     "metadata": {},
     "output_type": "execute_result"
    }
   ],
   "source": [
    "Predictions"
   ]
  },
  {
   "cell_type": "code",
   "execution_count": 164,
   "metadata": {},
   "outputs": [],
   "source": [
    "sample= pd.concat([sample,Predictions],axis=1)"
   ]
  },
  {
   "cell_type": "code",
   "execution_count": 165,
   "metadata": {},
   "outputs": [
    {
     "data": {
      "text/html": [
       "<div>\n",
       "<style scoped>\n",
       "    .dataframe tbody tr th:only-of-type {\n",
       "        vertical-align: middle;\n",
       "    }\n",
       "\n",
       "    .dataframe tbody tr th {\n",
       "        vertical-align: top;\n",
       "    }\n",
       "\n",
       "    .dataframe thead th {\n",
       "        text-align: right;\n",
       "    }\n",
       "</style>\n",
       "<table border=\"1\" class=\"dataframe\">\n",
       "  <thead>\n",
       "    <tr style=\"text-align: right;\">\n",
       "      <th></th>\n",
       "      <th>Unnamed: 0</th>\n",
       "      <th>ID</th>\n",
       "      <th>Default</th>\n",
       "      <th>Logistic_Reg</th>\n",
       "      <th>Naive_Bayes</th>\n",
       "      <th>Decision_Tree</th>\n",
       "      <th>Random_forest</th>\n",
       "      <th>Bagging_Class</th>\n",
       "      <th>AdaBoost</th>\n",
       "      <th>GradiantBoost</th>\n",
       "      <th>Logistic_Reg</th>\n",
       "      <th>Naive_Bayes</th>\n",
       "      <th>Decision_Tree</th>\n",
       "      <th>Random_forest</th>\n",
       "      <th>Bagging_Class</th>\n",
       "      <th>AdaBoost</th>\n",
       "      <th>GradiantBoost</th>\n",
       "    </tr>\n",
       "  </thead>\n",
       "  <tbody>\n",
       "    <tr>\n",
       "      <th>0</th>\n",
       "      <td>0</td>\n",
       "      <td>12200001</td>\n",
       "      <td>0</td>\n",
       "      <td>0</td>\n",
       "      <td>0</td>\n",
       "      <td>0</td>\n",
       "      <td>0</td>\n",
       "      <td>0</td>\n",
       "      <td>0</td>\n",
       "      <td>0</td>\n",
       "      <td>0</td>\n",
       "      <td>0</td>\n",
       "      <td>0</td>\n",
       "      <td>0</td>\n",
       "      <td>0</td>\n",
       "      <td>0</td>\n",
       "      <td>0</td>\n",
       "    </tr>\n",
       "    <tr>\n",
       "      <th>1</th>\n",
       "      <td>1</td>\n",
       "      <td>12200002</td>\n",
       "      <td>0</td>\n",
       "      <td>0</td>\n",
       "      <td>0</td>\n",
       "      <td>0</td>\n",
       "      <td>0</td>\n",
       "      <td>0</td>\n",
       "      <td>0</td>\n",
       "      <td>0</td>\n",
       "      <td>0</td>\n",
       "      <td>0</td>\n",
       "      <td>0</td>\n",
       "      <td>0</td>\n",
       "      <td>0</td>\n",
       "      <td>0</td>\n",
       "      <td>0</td>\n",
       "    </tr>\n",
       "    <tr>\n",
       "      <th>2</th>\n",
       "      <td>2</td>\n",
       "      <td>12200003</td>\n",
       "      <td>0</td>\n",
       "      <td>0</td>\n",
       "      <td>0</td>\n",
       "      <td>0</td>\n",
       "      <td>0</td>\n",
       "      <td>0</td>\n",
       "      <td>0</td>\n",
       "      <td>0</td>\n",
       "      <td>0</td>\n",
       "      <td>0</td>\n",
       "      <td>0</td>\n",
       "      <td>0</td>\n",
       "      <td>0</td>\n",
       "      <td>0</td>\n",
       "      <td>0</td>\n",
       "    </tr>\n",
       "    <tr>\n",
       "      <th>3</th>\n",
       "      <td>3</td>\n",
       "      <td>12200004</td>\n",
       "      <td>0</td>\n",
       "      <td>0</td>\n",
       "      <td>0</td>\n",
       "      <td>0</td>\n",
       "      <td>0</td>\n",
       "      <td>0</td>\n",
       "      <td>0</td>\n",
       "      <td>0</td>\n",
       "      <td>0</td>\n",
       "      <td>0</td>\n",
       "      <td>0</td>\n",
       "      <td>0</td>\n",
       "      <td>0</td>\n",
       "      <td>0</td>\n",
       "      <td>0</td>\n",
       "    </tr>\n",
       "    <tr>\n",
       "      <th>4</th>\n",
       "      <td>4</td>\n",
       "      <td>12200005</td>\n",
       "      <td>0</td>\n",
       "      <td>0</td>\n",
       "      <td>0</td>\n",
       "      <td>0</td>\n",
       "      <td>0</td>\n",
       "      <td>0</td>\n",
       "      <td>0</td>\n",
       "      <td>0</td>\n",
       "      <td>0</td>\n",
       "      <td>0</td>\n",
       "      <td>0</td>\n",
       "      <td>0</td>\n",
       "      <td>0</td>\n",
       "      <td>0</td>\n",
       "      <td>0</td>\n",
       "    </tr>\n",
       "    <tr>\n",
       "      <th>...</th>\n",
       "      <td>...</td>\n",
       "      <td>...</td>\n",
       "      <td>...</td>\n",
       "      <td>...</td>\n",
       "      <td>...</td>\n",
       "      <td>...</td>\n",
       "      <td>...</td>\n",
       "      <td>...</td>\n",
       "      <td>...</td>\n",
       "      <td>...</td>\n",
       "      <td>...</td>\n",
       "      <td>...</td>\n",
       "      <td>...</td>\n",
       "      <td>...</td>\n",
       "      <td>...</td>\n",
       "      <td>...</td>\n",
       "      <td>...</td>\n",
       "    </tr>\n",
       "    <tr>\n",
       "      <th>80895</th>\n",
       "      <td>80895</td>\n",
       "      <td>12280896</td>\n",
       "      <td>1</td>\n",
       "      <td>0</td>\n",
       "      <td>0</td>\n",
       "      <td>0</td>\n",
       "      <td>0</td>\n",
       "      <td>0</td>\n",
       "      <td>0</td>\n",
       "      <td>0</td>\n",
       "      <td>0</td>\n",
       "      <td>0</td>\n",
       "      <td>0</td>\n",
       "      <td>0</td>\n",
       "      <td>0</td>\n",
       "      <td>0</td>\n",
       "      <td>0</td>\n",
       "    </tr>\n",
       "    <tr>\n",
       "      <th>80896</th>\n",
       "      <td>80896</td>\n",
       "      <td>12280897</td>\n",
       "      <td>0</td>\n",
       "      <td>0</td>\n",
       "      <td>0</td>\n",
       "      <td>0</td>\n",
       "      <td>0</td>\n",
       "      <td>0</td>\n",
       "      <td>0</td>\n",
       "      <td>0</td>\n",
       "      <td>0</td>\n",
       "      <td>0</td>\n",
       "      <td>0</td>\n",
       "      <td>0</td>\n",
       "      <td>0</td>\n",
       "      <td>0</td>\n",
       "      <td>0</td>\n",
       "    </tr>\n",
       "    <tr>\n",
       "      <th>80897</th>\n",
       "      <td>80897</td>\n",
       "      <td>12280898</td>\n",
       "      <td>0</td>\n",
       "      <td>0</td>\n",
       "      <td>0</td>\n",
       "      <td>0</td>\n",
       "      <td>0</td>\n",
       "      <td>0</td>\n",
       "      <td>0</td>\n",
       "      <td>0</td>\n",
       "      <td>0</td>\n",
       "      <td>0</td>\n",
       "      <td>0</td>\n",
       "      <td>0</td>\n",
       "      <td>0</td>\n",
       "      <td>0</td>\n",
       "      <td>0</td>\n",
       "    </tr>\n",
       "    <tr>\n",
       "      <th>80898</th>\n",
       "      <td>80898</td>\n",
       "      <td>12280899</td>\n",
       "      <td>0</td>\n",
       "      <td>0</td>\n",
       "      <td>0</td>\n",
       "      <td>0</td>\n",
       "      <td>0</td>\n",
       "      <td>0</td>\n",
       "      <td>0</td>\n",
       "      <td>0</td>\n",
       "      <td>0</td>\n",
       "      <td>0</td>\n",
       "      <td>0</td>\n",
       "      <td>0</td>\n",
       "      <td>0</td>\n",
       "      <td>0</td>\n",
       "      <td>0</td>\n",
       "    </tr>\n",
       "    <tr>\n",
       "      <th>80899</th>\n",
       "      <td>80899</td>\n",
       "      <td>12280900</td>\n",
       "      <td>1</td>\n",
       "      <td>0</td>\n",
       "      <td>0</td>\n",
       "      <td>0</td>\n",
       "      <td>0</td>\n",
       "      <td>0</td>\n",
       "      <td>0</td>\n",
       "      <td>0</td>\n",
       "      <td>0</td>\n",
       "      <td>0</td>\n",
       "      <td>0</td>\n",
       "      <td>0</td>\n",
       "      <td>0</td>\n",
       "      <td>0</td>\n",
       "      <td>0</td>\n",
       "    </tr>\n",
       "  </tbody>\n",
       "</table>\n",
       "<p>80900 rows × 17 columns</p>\n",
       "</div>"
      ],
      "text/plain": [
       "       Unnamed: 0        ID  Default  Logistic_Reg  Naive_Bayes  \\\n",
       "0               0  12200001        0             0            0   \n",
       "1               1  12200002        0             0            0   \n",
       "2               2  12200003        0             0            0   \n",
       "3               3  12200004        0             0            0   \n",
       "4               4  12200005        0             0            0   \n",
       "...           ...       ...      ...           ...          ...   \n",
       "80895       80895  12280896        1             0            0   \n",
       "80896       80896  12280897        0             0            0   \n",
       "80897       80897  12280898        0             0            0   \n",
       "80898       80898  12280899        0             0            0   \n",
       "80899       80899  12280900        1             0            0   \n",
       "\n",
       "       Decision_Tree  Random_forest  Bagging_Class  AdaBoost  GradiantBoost  \\\n",
       "0                  0              0              0         0              0   \n",
       "1                  0              0              0         0              0   \n",
       "2                  0              0              0         0              0   \n",
       "3                  0              0              0         0              0   \n",
       "4                  0              0              0         0              0   \n",
       "...              ...            ...            ...       ...            ...   \n",
       "80895              0              0              0         0              0   \n",
       "80896              0              0              0         0              0   \n",
       "80897              0              0              0         0              0   \n",
       "80898              0              0              0         0              0   \n",
       "80899              0              0              0         0              0   \n",
       "\n",
       "       Logistic_Reg  Naive_Bayes  Decision_Tree  Random_forest  Bagging_Class  \\\n",
       "0                 0            0              0              0              0   \n",
       "1                 0            0              0              0              0   \n",
       "2                 0            0              0              0              0   \n",
       "3                 0            0              0              0              0   \n",
       "4                 0            0              0              0              0   \n",
       "...             ...          ...            ...            ...            ...   \n",
       "80895             0            0              0              0              0   \n",
       "80896             0            0              0              0              0   \n",
       "80897             0            0              0              0              0   \n",
       "80898             0            0              0              0              0   \n",
       "80899             0            0              0              0              0   \n",
       "\n",
       "       AdaBoost  GradiantBoost  \n",
       "0             0              0  \n",
       "1             0              0  \n",
       "2             0              0  \n",
       "3             0              0  \n",
       "4             0              0  \n",
       "...         ...            ...  \n",
       "80895         0              0  \n",
       "80896         0              0  \n",
       "80897         0              0  \n",
       "80898         0              0  \n",
       "80899         0              0  \n",
       "\n",
       "[80900 rows x 17 columns]"
      ]
     },
     "execution_count": 165,
     "metadata": {},
     "output_type": "execute_result"
    }
   ],
   "source": [
    "sample"
   ]
  },
  {
   "cell_type": "code",
   "execution_count": 166,
   "metadata": {},
   "outputs": [],
   "source": [
    "sample.to_csv('sample_submission.csv')"
   ]
  },
  {
   "cell_type": "code",
   "execution_count": 175,
   "metadata": {},
   "outputs": [],
   "source": [
    "Model_Name = ['Logistic_Reg','Naive_Bayes','Decision_Tree','Random_forest','Bagging_Class','AdaBoost','GradiantBoost']\n",
    "Model_Accuracy_score = [accuracy1,accuracy2,accuracy3,accuracy4,accuracy5,accuracy6,accuracy7]\n",
    "model_score = [model_score1,model_score2,model_score3,model_score4,model_score5,model_score6,model_score7]\n",
    "Optimum_Model=['False','False','False','True','False','False','False']"
   ]
  },
  {
   "cell_type": "code",
   "execution_count": 177,
   "metadata": {},
   "outputs": [
    {
     "data": {
      "text/html": [
       "<div>\n",
       "<style scoped>\n",
       "    .dataframe tbody tr th:only-of-type {\n",
       "        vertical-align: middle;\n",
       "    }\n",
       "\n",
       "    .dataframe tbody tr th {\n",
       "        vertical-align: top;\n",
       "    }\n",
       "\n",
       "    .dataframe thead th {\n",
       "        text-align: right;\n",
       "    }\n",
       "</style>\n",
       "<table border=\"1\" class=\"dataframe\">\n",
       "  <thead>\n",
       "    <tr style=\"text-align: right;\">\n",
       "      <th></th>\n",
       "      <th>Model_Names</th>\n",
       "      <th>Model_Accuracy_Score in %</th>\n",
       "      <th>Model_Score in %</th>\n",
       "      <th>Optimum_model</th>\n",
       "    </tr>\n",
       "  </thead>\n",
       "  <tbody>\n",
       "    <tr>\n",
       "      <th>0</th>\n",
       "      <td>Logistic_Reg</td>\n",
       "      <td>None</td>\n",
       "      <td>0.919208</td>\n",
       "      <td>False</td>\n",
       "    </tr>\n",
       "    <tr>\n",
       "      <th>1</th>\n",
       "      <td>Naive_Bayes</td>\n",
       "      <td>None</td>\n",
       "      <td>0.919208</td>\n",
       "      <td>False</td>\n",
       "    </tr>\n",
       "    <tr>\n",
       "      <th>2</th>\n",
       "      <td>Decision_Tree</td>\n",
       "      <td>None</td>\n",
       "      <td>0.929753</td>\n",
       "      <td>False</td>\n",
       "    </tr>\n",
       "    <tr>\n",
       "      <th>3</th>\n",
       "      <td>Random_forest</td>\n",
       "      <td>None</td>\n",
       "      <td>0.999934</td>\n",
       "      <td>True</td>\n",
       "    </tr>\n",
       "    <tr>\n",
       "      <th>4</th>\n",
       "      <td>Bagging_Class</td>\n",
       "      <td>None</td>\n",
       "      <td>0.984687</td>\n",
       "      <td>False</td>\n",
       "    </tr>\n",
       "    <tr>\n",
       "      <th>5</th>\n",
       "      <td>AdaBoost</td>\n",
       "      <td>None</td>\n",
       "      <td>0.919208</td>\n",
       "      <td>False</td>\n",
       "    </tr>\n",
       "    <tr>\n",
       "      <th>6</th>\n",
       "      <td>GradiantBoost</td>\n",
       "      <td>None</td>\n",
       "      <td>0.919216</td>\n",
       "      <td>False</td>\n",
       "    </tr>\n",
       "  </tbody>\n",
       "</table>\n",
       "</div>"
      ],
      "text/plain": [
       "     Model_Names Model_Accuracy_Score in %  Model_Score in % Optimum_model\n",
       "0   Logistic_Reg                      None          0.919208         False\n",
       "1    Naive_Bayes                      None          0.919208         False\n",
       "2  Decision_Tree                      None          0.929753         False\n",
       "3  Random_forest                      None          0.999934          True\n",
       "4  Bagging_Class                      None          0.984687         False\n",
       "5       AdaBoost                      None          0.919208         False\n",
       "6  GradiantBoost                      None          0.919216         False"
      ]
     },
     "execution_count": 177,
     "metadata": {},
     "output_type": "execute_result"
    }
   ],
   "source": [
    "comparison_models = pd.DataFrame({'Model_Names':Model_Name,'Model_Accuracy_Score in %':Model_Accuracy_score,'Model_Score in %':model_score,'Optimum_model':Optimum_Model})\n",
    "comparison_models"
   ]
  },
  {
   "cell_type": "code",
   "execution_count": 178,
   "metadata": {},
   "outputs": [],
   "source": [
    "comparison_models.to_csv('Models_Comparision.csv')"
   ]
  },
  {
   "cell_type": "markdown",
   "metadata": {},
   "source": [
    "# Conclusion"
   ]
  },
  {
   "cell_type": "markdown",
   "metadata": {},
   "source": [
    "<b>In conclusion we can say that the model with high train & test score that is the Random Forest Classifier in this \n",
    "    \n",
    "    analysis is more Suited over any other models.\n",
    "\n",
    "    Random Forest Classifier  Train_score= 99%\n",
    "                              Test_score= 99%"
   ]
  }
 ],
 "metadata": {
  "kernelspec": {
   "display_name": "Python 3",
   "language": "python",
   "name": "python3"
  },
  "language_info": {
   "codemirror_mode": {
    "name": "ipython",
    "version": 3
   },
   "file_extension": ".py",
   "mimetype": "text/x-python",
   "name": "python",
   "nbconvert_exporter": "python",
   "pygments_lexer": "ipython3",
   "version": "3.8.5"
  }
 },
 "nbformat": 4,
 "nbformat_minor": 4
}
